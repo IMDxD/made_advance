{
 "cells": [
  {
   "cell_type": "code",
   "execution_count": 1,
   "id": "suspected-grant",
   "metadata": {
    "tags": []
   },
   "outputs": [],
   "source": [
    "import pickle\n",
    "from datetime import datetime\n",
    "from dateutil.tz import tzoffset\n",
    "\n",
    "import numpy as np\n",
    "import matplotlib.pyplot as plt\n",
    "import pandas as pd\n",
    "import seaborn as sns\n",
    "import torch\n",
    "from torch import nn\n",
    "from torch import optim\n",
    "from scipy.stats import kendalltau, spearmanr\n",
    "from sklearn.preprocessing import OneHotEncoder"
   ]
  },
  {
   "cell_type": "markdown",
   "id": "ignored-manor",
   "metadata": {},
   "source": [
    "# Задача 1\n",
    "\n",
    "Прочитайте и проанализируйте данные, выберите турниры, в которых есть данные о составах команд и повопросных результатах (поле mask в results.pkl). Для унификации предлагаю:\n",
    "- взять в тренировочный набор турниры с dateStart из 2019 года; \n",
    "- в тестовый — турниры с dateStart из 2020 года."
   ]
  },
  {
   "cell_type": "code",
   "execution_count": 2,
   "id": "preliminary-kitty",
   "metadata": {},
   "outputs": [],
   "source": [
    "with open(\"players.pkl\", \"rb\") as fio:\n",
    "    players = pickle.load(fio)"
   ]
  },
  {
   "cell_type": "code",
   "execution_count": 3,
   "id": "contrary-receiver",
   "metadata": {},
   "outputs": [],
   "source": [
    "with open(\"results.pkl\", \"rb\") as fio:\n",
    "    results = pickle.load(fio)"
   ]
  },
  {
   "cell_type": "code",
   "execution_count": 4,
   "id": "electrical-edwards",
   "metadata": {},
   "outputs": [],
   "source": [
    "with open(\"tournaments.pkl\", \"rb\") as fio:\n",
    "    tournaments = pickle.load(fio)"
   ]
  },
  {
   "cell_type": "code",
   "execution_count": 5,
   "id": "academic-compound",
   "metadata": {},
   "outputs": [],
   "source": [
    "dateformat = \"%Y-%m-%dT%H:%M:%S%z\""
   ]
  },
  {
   "cell_type": "markdown",
   "id": "cleared-nursing",
   "metadata": {},
   "source": [
    "Загрузим данные и разделим на тренировочный и тестовый датасет"
   ]
  },
  {
   "cell_type": "code",
   "execution_count": 6,
   "id": "spread-promise",
   "metadata": {
    "tags": []
   },
   "outputs": [],
   "source": [
    "train_data =  []\n",
    "test_data = []\n",
    "\n",
    "for key, value in results.items():\n",
    "    for team in value:\n",
    "        for team_member in team[\"teamMembers\"]:\n",
    "            tournament_year = datetime.strptime(tournaments[key][\"dateStart\"], dateformat).year\n",
    "            if team.get(\"mask\", None) and tournament_year == 2019:\n",
    "                train_data.append({\n",
    "                    \"tournament_id\": key,\n",
    "                    \"tournament_name\": tournaments.get(key).get(\"name\"),\n",
    "                    \"team_id\": team[\"team\"][\"id\"],\n",
    "                    \"team_name\": team[\"team\"][\"name\"],\n",
    "                    \"questions_mask\": team.get(\"mask\", None),\n",
    "                    \"questionQty\": tournaments.get(key).get(\"questionQty\"),\n",
    "                    \"position\": team.get(\"position\", None),\n",
    "                    \"player_id\": team_member[\"player\"][\"id\"],\n",
    "                    \"player_name\": team_member[\"player\"][\"surname\"] + \" \" + \\\n",
    "                                   team_member[\"player\"][\"name\"] + \" \" + \\\n",
    "                                   team_member[\"player\"][\"patronymic\"]\n",
    "                })\n",
    "            elif team.get(\"mask\", None) and tournament_year == 2020:\n",
    "                test_data.append({\n",
    "                    \"tournament_id\": key,\n",
    "                    \"tournament_name\": tournaments.get(key).get(\"name\"),\n",
    "                    \"team_id\": team[\"team\"][\"id\"],\n",
    "                    \"team_name\": team[\"team\"][\"name\"],\n",
    "                    \"position\": team.get(\"position\", None),\n",
    "                    \"player_id\": team_member[\"player\"][\"id\"],\n",
    "                    \"player_name\": team_member[\"player\"][\"surname\"] + \" \" + \\\n",
    "                                   team_member[\"player\"][\"name\"] + \" \" + \\\n",
    "                                   team_member[\"player\"][\"patronymic\"]\n",
    "                })"
   ]
  },
  {
   "cell_type": "code",
   "execution_count": 7,
   "id": "traditional-march",
   "metadata": {},
   "outputs": [],
   "source": [
    "train_data = pd.DataFrame(train_data)\n",
    "test_data = pd.DataFrame(test_data)"
   ]
  },
  {
   "cell_type": "code",
   "execution_count": 8,
   "id": "golden-metallic",
   "metadata": {},
   "outputs": [],
   "source": [
    "del results"
   ]
  },
  {
   "cell_type": "markdown",
   "id": "premier-spokesman",
   "metadata": {},
   "source": [
    "оставим только те команды у которых длинна ответов равна количеству вопросов"
   ]
  },
  {
   "cell_type": "code",
   "execution_count": 9,
   "id": "lucky-masters",
   "metadata": {},
   "outputs": [],
   "source": [
    "train_data[\"questionQty\"] = train_data[\"questionQty\"].apply(lambda x: sum(list(x.values())))"
   ]
  },
  {
   "cell_type": "code",
   "execution_count": 10,
   "id": "elementary-southwest",
   "metadata": {},
   "outputs": [
    {
     "data": {
      "text/plain": [
       "12"
      ]
     },
     "execution_count": 10,
     "metadata": {},
     "output_type": "execute_result"
    }
   ],
   "source": [
    "train_data[train_data[\"questions_mask\"].apply(len) != train_data[\"questionQty\"]][\"tournament_id\"].nunique()"
   ]
  },
  {
   "cell_type": "code",
   "execution_count": 11,
   "id": "raising-restriction",
   "metadata": {},
   "outputs": [],
   "source": [
    "train_data = train_data[train_data[\"questions_mask\"].apply(len) == train_data[\"questionQty\"]].copy()"
   ]
  },
  {
   "cell_type": "markdown",
   "id": "conceptual-polls",
   "metadata": {},
   "source": [
    "посмотрим распределение числа игроков по командам"
   ]
  },
  {
   "cell_type": "code",
   "execution_count": 12,
   "id": "lightweight-jordan",
   "metadata": {},
   "outputs": [
    {
     "data": {
      "image/png": "[encoded data removed]",
      "text/plain": [
       "<Figure size 432x288 with 1 Axes>"
      ]
     },
     "metadata": {
      "needs_background": "light"
     },
     "output_type": "display_data"
    }
   ],
   "source": [
    "sns.boxplot(x=train_data.groupby([\"team_id\", \"tournament_id\"])[\"player_id\"].nunique());"
   ]
  },
  {
   "cell_type": "markdown",
   "id": "commercial-athletics",
   "metadata": {},
   "source": [
    "посмотрим на итоговый размер данных и количество турниров"
   ]
  },
  {
   "cell_type": "code",
   "execution_count": 13,
   "id": "reduced-mission",
   "metadata": {},
   "outputs": [
    {
     "data": {
      "text/plain": [
       "(414743, 112841)"
      ]
     },
     "execution_count": 13,
     "metadata": {},
     "output_type": "execute_result"
    }
   ],
   "source": [
    "train_data.shape[0], test_data.shape[0]"
   ]
  },
  {
   "cell_type": "code",
   "execution_count": 14,
   "id": "provincial-crawford",
   "metadata": {},
   "outputs": [
    {
     "data": {
      "text/plain": [
       "(675, 173)"
      ]
     },
     "execution_count": 14,
     "metadata": {},
     "output_type": "execute_result"
    }
   ],
   "source": [
    "train_data[\"tournament_id\"].nunique(), test_data[\"tournament_id\"].nunique()"
   ]
  },
  {
   "cell_type": "markdown",
   "id": "severe-lunch",
   "metadata": {},
   "source": [
    "# Задача 2\n",
    "\n",
    "Постройте baseline-модель на основе линейной или логистической регрессии, которая будет обучать рейтинг-лист игроков.\n",
    "\n",
    "- повопросные результаты — это фактически результаты броска монетки, и их предсказание скорее всего имеет отношение к бинарной классификации;\n",
    "- в разных турнирах вопросы совсем разного уровня сложности, поэтому модель должна это учитывать; скорее всего, модель должна будет явно обучать не только силу каждого игрока, но и сложность каждого вопроса;\n",
    "- для baseline-модели можно забыть о командах и считать, что повопросные результаты команды просто относятся к каждому из её игроков."
   ]
  },
  {
   "cell_type": "markdown",
   "id": "asian-hacker",
   "metadata": {},
   "source": [
    "Преобразуем тренировочные данные в повопросные результаты по игрокам, в качестве id вопроса будем использовать id турнира и порядковый номер вопроса"
   ]
  },
  {
   "cell_type": "code",
   "execution_count": 15,
   "id": "democratic-medicare",
   "metadata": {},
   "outputs": [],
   "source": [
    "question_answer_data = {\n",
    "    \"question\": [],\n",
    "    \"player\": [],\n",
    "    \"initial_label\": [],\n",
    "    \"team_id\": [],\n",
    "    \"tournament_id\": []\n",
    "}\n",
    "for tour_id, team_id, player_id, mask in zip(train_data[\"tournament_id\"], train_data[\"team_id\"], train_data[\"player_id\"], train_data[\"questions_mask\"]):\n",
    "    for i, result in enumerate(mask):\n",
    "        if result != \"X\" and result != \"?\":\n",
    "            question_answer_data[\"tournament_id\"].append(tour_id)\n",
    "            question_answer_data[\"team_id\"].append(team_id)\n",
    "            question_answer_data[\"question\"].append(f\"{tour_id}_{i}\")\n",
    "            question_answer_data[\"player\"].append(player_id)\n",
    "            question_answer_data[\"initial_label\"].append(int(result))"
   ]
  },
  {
   "cell_type": "code",
   "execution_count": 16,
   "id": "sealed-aviation",
   "metadata": {},
   "outputs": [],
   "source": [
    "question_answer_data = pd.DataFrame(question_answer_data)"
   ]
  },
  {
   "cell_type": "code",
   "execution_count": 17,
   "id": "mediterranean-solid",
   "metadata": {},
   "outputs": [],
   "source": [
    "question_answer_data[\"player\"] = question_answer_data[\"player\"].astype(np.int32)\n",
    "question_answer_data[\"team_id\"] = question_answer_data[\"team_id\"].astype(np.int32)\n",
    "question_answer_data[\"tournament_id\"] = question_answer_data[\"tournament_id\"].astype(np.int32)\n",
    "question_answer_data[\"question\"] = question_answer_data[\"question\"]\n",
    "question_answer_data[\"initial_label\"] = question_answer_data[\"initial_label\"].astype(np.uint8)"
   ]
  },
  {
   "cell_type": "markdown",
   "id": "otherwise-exemption",
   "metadata": {},
   "source": [
    "закодируем id игроков и вопросов в OHE представление"
   ]
  },
  {
   "cell_type": "code",
   "execution_count": 18,
   "id": "hungarian-element",
   "metadata": {},
   "outputs": [],
   "source": [
    "encoder = OneHotEncoder()\n",
    "\n",
    "train_data = encoder.fit_transform(question_answer_data[[\"player\", \"question\"]])"
   ]
  },
  {
   "cell_type": "markdown",
   "id": "welcome-mistake",
   "metadata": {},
   "source": [
    "Введем вспомогательные функции для нашей логистической регрессии\n",
    "\n",
    "- sigmoid - сигмойда над линейной комбинацией признаков и весов\n",
    "- cost_function - среднее логарифмическое правдоподобие\n",
    "- gradient - градиент dL/dw на текущей итерации\n",
    "- fit функция тренировки модели"
   ]
  },
  {
   "cell_type": "code",
   "execution_count": 19,
   "id": "focused-washer",
   "metadata": {},
   "outputs": [],
   "source": [
    "class LogisticRegression(nn.Module):\n",
    "    \n",
    "    def __init__(self, n_features):\n",
    "        \n",
    "        super().__init__()\n",
    "        self.fc = nn.Linear(n_features, 1)\n",
    "        self.sigmoid = nn.Sigmoid()\n",
    "        \n",
    "    def forward(self, x):\n",
    "        return self.sigmoid(self.fc(x))"
   ]
  },
  {
   "cell_type": "code",
   "execution_count": 20,
   "id": "tribal-snake",
   "metadata": {},
   "outputs": [],
   "source": [
    "def m_step(model, x, y, lr=1e-4, n_iter=50):\n",
    "    \n",
    "    model.fc.reset_parameters()\n",
    "    criteria = nn.BCELoss()\n",
    "    optimizer = optim.Adam(model.parameters(), lr)\n",
    "    for i in range(n_iter):\n",
    "\n",
    "        optimizer.zero_grad()\n",
    "        output = model(x)\n",
    "        loss = criteria(output, y)\n",
    "        loss.backward()\n",
    "        optimizer.step()"
   ]
  },
  {
   "cell_type": "markdown",
   "id": "colored-response",
   "metadata": {},
   "source": [
    "введем функцию которая будет брать топ 20 игроков по силе игрока полученной из модели"
   ]
  },
  {
   "cell_type": "code",
   "execution_count": 21,
   "id": "registered-syria",
   "metadata": {},
   "outputs": [],
   "source": [
    "def get_top_players(parameters, n=20):\n",
    "    player_weights = {}\n",
    "    for i, c in enumerate(encoder.get_feature_names()):\n",
    "        if c.startswith(\"x0_\"):\n",
    "            player_weights[int(c[3:])] = parameters[i]\n",
    "    top_players = sorted([(k, v) for k, v in player_weights.items()], reverse=True, key=lambda x: x[1])[:n]\n",
    "    top_players = [\n",
    "        players[i][\"surname\"] + \" \" + \n",
    "        players[i][\"name\"] + \" \" + \n",
    "        players[i][\"patronymic\"] + \" \" + str(i) \n",
    "        for i, _ in top_players\n",
    "    ]\n",
    "    return top_players"
   ]
  },
  {
   "cell_type": "markdown",
   "id": "spare-reducing",
   "metadata": {},
   "source": [
    "Обучим модель предсказывать ответил ли игрок i на вопрос j\n",
    "\n",
    "Для начала воспользуемся простым предположением - если команда ответила на вопрос то тогда каждый из игроков ответил на вопрос\n",
    "\n",
    "Если команда не ответила на вопрос то каждый из игроков не ответил на него\n",
    "\n",
    "Тогда:\n",
    "\n",
    "$$\\large{\\sigma(p_i + q_j + \\mu) = p(z=1) = p(t=1)}$$\n",
    "\n",
    "Метки для p(t = 1) у нас есть в данных"
   ]
  },
  {
   "cell_type": "code",
   "execution_count": 22,
   "id": "chinese-support",
   "metadata": {},
   "outputs": [],
   "source": [
    "train_data = train_data.tocoo()\n",
    "\n",
    "x = torch.sparse.FloatTensor(\n",
    "    torch.LongTensor(np.vstack((train_data.row, train_data.col))),\n",
    "    torch.FloatTensor(train_data.data)\n",
    ")\n",
    "\n",
    "y = torch.FloatTensor(question_answer_data[\"initial_label\"].values).view(-1, 1)\n",
    "\n",
    "model = LogisticRegression(x.shape[1])"
   ]
  },
  {
   "cell_type": "code",
   "execution_count": 23,
   "id": "marked-karen",
   "metadata": {},
   "outputs": [
    {
     "name": "stdout",
     "output_type": "stream",
     "text": [
      "CPU times: user 4min 56s, sys: 43.5 s, total: 5min 40s\n",
      "Wall time: 3min 36s\n"
     ]
    }
   ],
   "source": [
    "%%time\n",
    "m_step(model, x, y, lr=1, n_iter=100)"
   ]
  },
  {
   "cell_type": "markdown",
   "id": "painted-sixth",
   "metadata": {},
   "source": [
    "# Задача 3\n",
    "\n",
    "Качество рейтинг-системы оценивается качеством предсказаний результатов турниров. Но сами повопросные результаты наши модели предсказывать вряд ли смогут, ведь неизвестно, насколько сложными окажутся вопросы в будущих турнирах; да и не нужны эти предсказания сами по себе. Поэтому:\n",
    "- предложите способ предсказать результаты нового турнира с известными составами, но неизвестными вопросами, в виде ранжирования команд;\n",
    "- в качестве метрики качества на тестовом наборе давайте считать ранговые корреляции Спирмена и Кендалла (их можно взять в пакете scipy) между реальным ранжированием в результатах турнира и предсказанным моделью, усреднённые по тестовому множеству турниров.\n"
   ]
  },
  {
   "cell_type": "markdown",
   "id": "skilled-huntington",
   "metadata": {},
   "source": [
    "функция для подсчета метрик на тестовом датасете\n",
    "\n",
    "силу команды будем трактовать как вероятность того что хотя бы один игрок из команды ответит на средний вопрос\n",
    "\n",
    "$$\\large{team_i = 1 - \\prod_{j = 1}^{N}(1 - \\sigma(p_{ij} + q_{mean} + \\mu))}$$\n",
    "\n",
    "Где:\n",
    "- $p_{ij}$ - сила игрока j в команде i\n",
    "- N - количество игроков в команде i\n",
    "- $q_{mean}$ - средний вопрос\n",
    "- $\\mu$ - глобальная константа"
   ]
  },
  {
   "cell_type": "code",
   "execution_count": 24,
   "id": "southwest-monster",
   "metadata": {},
   "outputs": [],
   "source": [
    "def calc_metrics(data, encoder, parameters, intercept):\n",
    "    player_weights = {}\n",
    "    count = 0\n",
    "    question_sum = 0\n",
    "    player_sum = 0\n",
    "    player_cnt = 0\n",
    "    for i, c in enumerate(encoder.get_feature_names()):\n",
    "        if c.startswith(\"x0_\"):\n",
    "            player_weights[int(c[3:])] = parameters[i]\n",
    "            player_sum += parameters[i]\n",
    "            player_cnt += 1\n",
    "        else:\n",
    "            question_sum += parameters[i]\n",
    "            count += 1\n",
    "    question_mean = question_sum / count\n",
    "    data[\"player_weights\"] = data[\"player_id\"].map(player_weights)\n",
    "    data[\"player_weights\"].fillna(player_sum / player_cnt, inplace=True)\n",
    "    data[\"players_proba\"] = data[\"player_weights\"].apply(lambda x: 1 / (1 + np.exp(-(x + question_mean + intercept))))\n",
    "    probas = data.groupby([\"tournament_id\", \"team_id\"])[\"players_proba\"].apply(lambda x: np.prod(1 - x))\n",
    "    position = data.groupby([\"tournament_id\", \"team_id\"])[\"position\"].first()\n",
    "    group_data = pd.concat([probas, position], axis=1)\n",
    "    group_data.sort_values([\"tournament_id\", \"players_proba\"], ascending=[True, True], inplace=True)\n",
    "    spear = group_data.groupby(\"tournament_id\").apply(lambda x: spearmanr(x[\"position\"], x[\"players_proba\"]).correlation).mean()\n",
    "    kendl = group_data.groupby(\"tournament_id\").apply(lambda x: kendalltau(x[\"position\"], x[\"players_proba\"]).correlation).mean()\n",
    "    print(f\"spearman: {spear}\")\n",
    "    print(f\"kendl: {kendl}\")"
   ]
  },
  {
   "cell_type": "code",
   "execution_count": 25,
   "id": "mathematical-nebraska",
   "metadata": {},
   "outputs": [
    {
     "name": "stdout",
     "output_type": "stream",
     "text": [
      "spearman: 0.7859492572950623\n",
      "kendl: 0.6290316950037858\n"
     ]
    }
   ],
   "source": [
    "calc_metrics(test_data, encoder, model.fc.weight.data[0].numpy(), model.fc.bias.data[0].numpy())"
   ]
  },
  {
   "cell_type": "code",
   "execution_count": 26,
   "id": "indoor-lawsuit",
   "metadata": {},
   "outputs": [
    {
     "data": {
      "text/plain": [
       "['Руссо Максим Михайлович 27403',\n",
       " 'Брутер Александра Владимировна 4270',\n",
       " 'Семушин Иван Николаевич 28751',\n",
       " 'Савченков Михаил Владимирович 27822',\n",
       " 'Спешков Сергей Леонидович 30270',\n",
       " 'Сорожкин Артём Сергеевич 30152',\n",
       " 'Кудинов Дмитрий Сергеевич 40411',\n",
       " 'Пилипенко Максим Игоревич 38175',\n",
       " 'Мереминский Станислав Григорьевич 20691',\n",
       " 'Подюкова Валентина  202410',\n",
       " 'Левандовский Михаил Ильич 18036',\n",
       " 'Николенко Сергей Игоревич 22799',\n",
       " 'Прокофьева Ирина Сергеевна 26089',\n",
       " 'Новиков Илья Сергеевич 22935',\n",
       " 'Царёв Михаил Сергеевич 34328',\n",
       " 'Ишин Вадим Александрович 12785',\n",
       " 'Саксонов Антон Владимирович 87637',\n",
       " 'Либер Александр Витальевич 18332',\n",
       " 'Мокин Игорь Викторович 74001',\n",
       " 'Мосягин Александр Владимирович 21698']"
      ]
     },
     "execution_count": 26,
     "metadata": {},
     "output_type": "execute_result"
    }
   ],
   "source": [
    "get_top_players(model.fc.weight.data[0].numpy(), 20)"
   ]
  },
  {
   "cell_type": "markdown",
   "id": "hollywood-concert",
   "metadata": {},
   "source": [
    "# Задача 4\n",
    "\n",
    "Теперь главное: ЧГК — это всё-таки командная игра. Поэтому:\n",
    "- предложите способ учитывать то, что на вопрос отвечают сразу несколько игроков; скорее всего, понадобятся скрытые переменные; не стесняйтесь делать упрощающие предположения, но теперь переменные “игрок X ответил на вопрос Y” при условии данных должны стать зависимыми для игроков одной и той же команды;\n",
    "- разработайте EM-схему для обучения этой модели, реализуйте её в коде;\n",
    "- обучите несколько итераций, убедитесь, что целевые метрики со временем растут (скорее всего, ненамного, но расти должны), выберите лучшую модель, используя целевые метрики.\n"
   ]
  },
  {
   "cell_type": "markdown",
   "id": "vulnerable-somalia",
   "metadata": {},
   "source": [
    "Воспользуемся простыми предположениями:\n",
    "\n",
    "1. Если один из игроков ответил на вопрос то тогда команда ответила на вопрос\n",
    "2. Если команда не ответила на вопрос, то все игроки не ответили на него\n",
    "3. Игроки отвечают на вопрос независимо\n",
    "\n",
    "Тогда будем моделировать\n",
    "\n",
    "$$\\large{p(z_{ij}=1|t_{i}=y)}$$\n",
    "\n",
    "Очевидно что:\n",
    "\n",
    "$$\\large{p(z_{ij}=1|t_{i}=0) = 0}$$\n",
    "\n",
    "Осталось посчитать:\n",
    "\n",
    "$$\\large{p(z_{ij}=1|t_{i}=1) = \\frac{p(t_{i}=1|z_{ij}=1)p(z_{ij}=1)}{p(t_{i}=1)}}$$\n",
    "\n",
    "- $\\large{p(t=1|z=1) = 1}$ по нашему второму предположению\n",
    "- $\\large{p(z=1) = \\sigma(p_i + q_j + \\mu)}$ - возьмем предсказание из модели полученной на М-шаге\n",
    "- $\\large{p(t_{i}=1) = 1 - \\prod_{k=1}^{N}(1 - \\sigma(p_{ik} + q_j + \\mu))}$ - вероятность команды ответить на вопрос это 1 - вероятность что все игроки не ответили на него\n",
    "\n",
    "Тогда:\n",
    "\n",
    "$$\\large{p(z_{ij}=1|t_{i}=1) = \\frac{\\sigma(p_i + q_j + \\mu)}{1 - \\prod_{k=1}^{N}(1 - \\sigma(p_{ik} + q_j + \\mu))}}$$\n",
    "\n",
    "Это и будет нашим Е-шагом"
   ]
  },
  {
   "cell_type": "code",
   "execution_count": 27,
   "id": "floating-schedule",
   "metadata": {},
   "outputs": [],
   "source": [
    "def e_step(data, predicts):\n",
    "    data[\"label\"] = predicts\n",
    "    data.loc[data[\"initial_label\"] == 0, \"label\"] = 0\n",
    "    idx = data[\"initial_label\"] == 1\n",
    "    sp = data.loc[idx].groupby([\"team_id\", \"question\"])[\"label\"].transform(lambda x: 1 - np.prod(1 - x.values))\n",
    "    data.loc[idx, \"label\"] = data.loc[idx, \"label\"] / sp\n",
    "    new_label = data[\"label\"].values\n",
    "    return torch.FloatTensor(new_label).view(-1, 1)"
   ]
  },
  {
   "cell_type": "code",
   "execution_count": 28,
   "id": "mental-organ",
   "metadata": {
    "tags": []
   },
   "outputs": [
    {
     "name": "stdout",
     "output_type": "stream",
     "text": [
      "Iter: 0\n",
      "spearman: 0.7939576774855943\n",
      "kendl: 0.6383554593172925\n",
      "Iter: 1\n",
      "spearman: 0.7939587137855324\n",
      "kendl: 0.6381123421872544\n",
      "Iter: 2\n",
      "spearman: 0.7968162961861553\n",
      "kendl: 0.6403787146855788\n",
      "Iter: 3\n",
      "spearman: 0.797238277942024\n",
      "kendl: 0.6411126408000266\n",
      "Iter: 4\n",
      "spearman: 0.7998684179556466\n",
      "kendl: 0.6448831385953858\n",
      "Iter: 5\n",
      "spearman: 0.8014135733497519\n",
      "kendl: 0.6465697205415454\n",
      "Iter: 6\n",
      "spearman: 0.8013220623733895\n",
      "kendl: 0.6463246435200065\n",
      "Iter: 7\n",
      "spearman: 0.8012331089029319\n",
      "kendl: 0.6460266039281116\n",
      "Iter: 8\n",
      "spearman: 0.8011786305264568\n",
      "kendl: 0.6458015168214631\n",
      "Iter: 9\n",
      "spearman: 0.8015120607600689\n",
      "kendl: 0.6462986950628624\n"
     ]
    }
   ],
   "source": [
    "predicts = model(x).detach().numpy().ravel()\n",
    "for i in range(10):\n",
    "    y = e_step(question_answer_data, predicts)\n",
    "    m_step(model, x, y, lr=1, n_iter=100)\n",
    "    torch.save(model.state_dict(), f\"model_{i}.pth\")\n",
    "    predicts = model(x).detach().numpy().ravel()\n",
    "    print(f\"Iter: {i}\")\n",
    "    calc_metrics(test_data, encoder, model.fc.weight.data[0].numpy(), model.fc.bias.data[0].numpy())"
   ]
  },
  {
   "cell_type": "markdown",
   "id": "adapted-asbestos",
   "metadata": {},
   "source": [
    "# Задача 5\n",
    "\n",
    "А что там с вопросами? Постройте “рейтинг-лист” турниров по сложности вопросов. Соответствует ли он интуиции (например, на чемпионате мира в целом должны быть сложные вопросы, а на турнирах для школьников — простые)? Если будет интересно: постройте топ сложных и простых вопросов со ссылками на конкретные записи в базе вопросов ЧГК (это чисто техническое дело, тут никакого ML нету)."
   ]
  },
  {
   "cell_type": "markdown",
   "id": "incredible-blanket",
   "metadata": {},
   "source": [
    "Для простоты будем считать что сложность турнира это средняя сложность вопросов в нем"
   ]
  },
  {
   "cell_type": "code",
   "execution_count": 29,
   "id": "relative-effort",
   "metadata": {},
   "outputs": [],
   "source": [
    "parameters = model.fc.weight.data[0].numpy()\n",
    "\n",
    "question_weights = {}\n",
    "for i, c in enumerate(encoder.get_feature_names()):\n",
    "    if c.startswith(\"x1_\"):\n",
    "        question_weights[c[3:]] = parameters[i]"
   ]
  },
  {
   "cell_type": "code",
   "execution_count": 30,
   "id": "becoming-lodging",
   "metadata": {},
   "outputs": [],
   "source": [
    "tournament_weights = question_answer_data.groupby(\"tournament_id\")[\"question\"].apply(lambda x: np.mean([question_weights[q] for q in x])).sort_values()"
   ]
  },
  {
   "cell_type": "code",
   "execution_count": 31,
   "id": "voluntary-pharmacology",
   "metadata": {},
   "outputs": [
    {
     "data": {
      "text/plain": [
       "0               Чемпионат Санкт-Петербурга. Первая лига\n",
       "1                                Чемпионат Таджикистана\n",
       "2                                           Угрюмый Ёрш\n",
       "3                Зеркало мемориала памяти Михаила Басса\n",
       "4                            Синхрон высшей лиги Москвы\n",
       "5                                    Воображаемый музей\n",
       "6                          Первенство правого полушария\n",
       "7                       Чемпионат Мира. Этап 2 Группа С\n",
       "8                      Чемпионат Мира. Этап 2. Группа В\n",
       "9     Седьмая октава: Кубок Равноденствия. Лига Наци...\n",
       "10                     Чемпионат Мира. Этап 3. Группа С\n",
       "11                                               День D\n",
       "12                        Мемориал памяти Михаила Басса\n",
       "13                                     Записки охотника\n",
       "14              Чемпионат Санкт-Петербурга. Высшая лига\n",
       "15                     Чемпионат Мира. Этап 1. Группа С\n",
       "16                                     Знание – Сила VI\n",
       "17                                     Чемпионат России\n",
       "18                      Чемпионат Мира. Финал. Группа С\n",
       "19                     Чемпионат Мира. Этап 2. Группа А\n",
       "Name: tournament_id, dtype: object"
      ]
     },
     "execution_count": 31,
     "metadata": {},
     "output_type": "execute_result"
    }
   ],
   "source": [
    "tournament_weights.reset_index()[\"tournament_id\"].apply(lambda x: tournaments[x][\"name\"]).head(20)"
   ]
  },
  {
   "cell_type": "code",
   "execution_count": 32,
   "id": "matched-control",
   "metadata": {},
   "outputs": [
    {
     "data": {
      "text/plain": [
       "655                    Школьный Синхрон-lite. Выпуск 3.1\n",
       "656                 Межфакультетский кубок МГУ. Отбор №4\n",
       "657              (а)Синхрон-lite. Лига старта. Эпизод IX\n",
       "658                                     Кубок Тышкевичей\n",
       "659                                        Школьная лига\n",
       "660                               Школьная лига. II тур.\n",
       "661                    Школьный Синхрон-lite. Выпуск 2.5\n",
       "662    Олимпиада Приволжского федерального округа. Финал\n",
       "663               (а)Синхрон-lite. Лига старта. Эпизод V\n",
       "664     Второй тематический турнир имени Джоуи Триббиани\n",
       "665                                          Чёрная Быль\n",
       "666                                Школьная лига. I тур.\n",
       "667                              Школьная лига. III тур.\n",
       "668       Студенческий чемпионат Калининградской области\n",
       "669                                     Кубок Закарпатья\n",
       "670                                     One ring - async\n",
       "671                       Гран-при Славянки. Общий зачёт\n",
       "672                                  Синхрон Лиги Разума\n",
       "673                    Шестой киевский марафон. Асинхрон\n",
       "674                               Асинхрон по South Park\n",
       "Name: tournament_id, dtype: object"
      ]
     },
     "execution_count": 32,
     "metadata": {},
     "output_type": "execute_result"
    }
   ],
   "source": [
    "tournament_weights.reset_index()[\"tournament_id\"].apply(lambda x: tournaments[x][\"name\"]).tail(20)"
   ]
  },
  {
   "cell_type": "markdown",
   "id": "smoking-digit",
   "metadata": {},
   "source": [
    "как мы видим крупные чемпионаты находятся в топе выдачи, а школьные турниры внизу"
   ]
  },
  {
   "cell_type": "markdown",
   "id": "funded-coaching",
   "metadata": {},
   "source": [
    "# Задача 6\n",
    "Бонус: постройте топ игроков по предсказанной вашей моделью силе игры, а рядом с именами игроков напишите общее число вопросов, которое они сыграли. Скорее всего, \n",
    "вы увидите, что топ занят игроками, которые сыграли совсем мало вопросов, около 100 или даже меньше; если вы поищете их в официальном рейтинге ЧГК, вы увидите, что это какие-то непонятные ноунеймы. В baseline-модели, скорее всего, такой эффект будет гораздо слабее.\n",
    "Это естественное свойство модели: за счёт EM-схемы влияние 1-2 удачно сыгранных турниров будет только усиливаться, потому что неудачных турниров, чтобы его компенсировать, у этих игроков нет. Более того, это не мешает метрикам качества, потому что если эти игроки сыграли всего 1-2 турнира в 2019-м, скорее всего они ничего или очень мало сыграли и в 2020, и их рейтинги никак не влияют на качество тестовых предсказаний. Но для реального рейтинга такое свойство, конечно, было бы крайне нежелательным. Давайте попробуем его исправить:\n"
   ]
  },
  {
   "cell_type": "code",
   "execution_count": 33,
   "id": "electronic-characteristic",
   "metadata": {},
   "outputs": [],
   "source": [
    "top_20_players = get_top_players(parameters, 20)"
   ]
  },
  {
   "cell_type": "code",
   "execution_count": 34,
   "id": "super-bundle",
   "metadata": {},
   "outputs": [
    {
     "data": {
      "text/plain": [
       "['Пилипенко Максим Игоревич 38175',\n",
       " 'Немец Илья Сергеевич 22474',\n",
       " 'Козлова Ольга Александровна 14996',\n",
       " 'Бровченко Елена Борисовна 199963',\n",
       " 'Подюкова Валентина  202410',\n",
       " 'Кудинов Дмитрий Сергеевич 40411',\n",
       " 'Голудина Мария Юрьевна 188876',\n",
       " 'Фрайман Феликс  33459',\n",
       " 'Лазарева Галина Вячеславовна 17750',\n",
       " 'Королихин Анатолий  199115',\n",
       " 'Петров Игорь  199112',\n",
       " 'Петров Роман  199111',\n",
       " 'Луконин Дмитрий  199114',\n",
       " 'Иоаннидис Андриан  199113',\n",
       " 'Войцеховская Станислава Валерьевна 5805',\n",
       " 'Прохоров Константин  196901',\n",
       " 'Спектор Евгений Павлович 30260',\n",
       " 'Ишин Вадим Александрович 12785',\n",
       " 'Шобанов Андрей  132330',\n",
       " 'Царёв Михаил Сергеевич 34328']"
      ]
     },
     "execution_count": 34,
     "metadata": {},
     "output_type": "execute_result"
    }
   ],
   "source": [
    "top_20_players"
   ]
  },
  {
   "cell_type": "code",
   "execution_count": 35,
   "id": "suspended-graphic",
   "metadata": {},
   "outputs": [],
   "source": [
    "top_20_players_id = [int(v.split(\" \")[-1]) for v in top_20_players]"
   ]
  },
  {
   "cell_type": "code",
   "execution_count": 36,
   "id": "alone-concern",
   "metadata": {},
   "outputs": [],
   "source": [
    "player_tournament_cnt = question_answer_data.groupby([\"player\"])[\"tournament_id\"].nunique().reset_index()"
   ]
  },
  {
   "cell_type": "code",
   "execution_count": 37,
   "id": "occupied-electron",
   "metadata": {},
   "outputs": [],
   "source": [
    "player_tournament_cnt[\"player_name\"] = (\n",
    "    player_tournament_cnt[\"player\"]\n",
    "    .map(players)\n",
    "    .apply(lambda x: x[\"surname\"] + \" \" + x[\"name\"] + \" \" + x[\"patronymic\"])\n",
    ")"
   ]
  },
  {
   "cell_type": "code",
   "execution_count": 38,
   "id": "considerable-handy",
   "metadata": {},
   "outputs": [],
   "source": [
    "player_tournament_cnt.rename(columns={\"tournament_id\": \"tournament_count\"}, inplace=True)"
   ]
  },
  {
   "cell_type": "code",
   "execution_count": 39,
   "id": "muslim-rubber",
   "metadata": {},
   "outputs": [
    {
     "data": {
      "text/html": [
       "<div>\n",
       "<style scoped>\n",
       "    .dataframe tbody tr th:only-of-type {\n",
       "        vertical-align: middle;\n",
       "    }\n",
       "\n",
       "    .dataframe tbody tr th {\n",
       "        vertical-align: top;\n",
       "    }\n",
       "\n",
       "    .dataframe thead th {\n",
       "        text-align: right;\n",
       "    }\n",
       "</style>\n",
       "<table border=\"1\" class=\"dataframe\">\n",
       "  <thead>\n",
       "    <tr style=\"text-align: right;\">\n",
       "      <th></th>\n",
       "      <th>player</th>\n",
       "      <th>tournament_count</th>\n",
       "      <th>player_name</th>\n",
       "    </tr>\n",
       "  </thead>\n",
       "  <tbody>\n",
       "    <tr>\n",
       "      <th>812</th>\n",
       "      <td>5805</td>\n",
       "      <td>1</td>\n",
       "      <td>Войцеховская Станислава Валерьевна</td>\n",
       "    </tr>\n",
       "    <tr>\n",
       "      <th>1782</th>\n",
       "      <td>12785</td>\n",
       "      <td>1</td>\n",
       "      <td>Ишин Вадим Александрович</td>\n",
       "    </tr>\n",
       "    <tr>\n",
       "      <th>2114</th>\n",
       "      <td>14996</td>\n",
       "      <td>1</td>\n",
       "      <td>Козлова Ольга Александровна</td>\n",
       "    </tr>\n",
       "    <tr>\n",
       "      <th>2520</th>\n",
       "      <td>17750</td>\n",
       "      <td>1</td>\n",
       "      <td>Лазарева Галина Вячеславовна</td>\n",
       "    </tr>\n",
       "    <tr>\n",
       "      <th>3183</th>\n",
       "      <td>22474</td>\n",
       "      <td>2</td>\n",
       "      <td>Немец Илья Сергеевич</td>\n",
       "    </tr>\n",
       "    <tr>\n",
       "      <th>4254</th>\n",
       "      <td>30260</td>\n",
       "      <td>8</td>\n",
       "      <td>Спектор Евгений Павлович</td>\n",
       "    </tr>\n",
       "    <tr>\n",
       "      <th>4689</th>\n",
       "      <td>33459</td>\n",
       "      <td>1</td>\n",
       "      <td>Фрайман Феликс</td>\n",
       "    </tr>\n",
       "    <tr>\n",
       "      <th>4793</th>\n",
       "      <td>34328</td>\n",
       "      <td>12</td>\n",
       "      <td>Царёв Михаил Сергеевич</td>\n",
       "    </tr>\n",
       "    <tr>\n",
       "      <th>5360</th>\n",
       "      <td>38175</td>\n",
       "      <td>1</td>\n",
       "      <td>Пилипенко Максим Игоревич</td>\n",
       "    </tr>\n",
       "    <tr>\n",
       "      <th>5560</th>\n",
       "      <td>40411</td>\n",
       "      <td>1</td>\n",
       "      <td>Кудинов Дмитрий Сергеевич</td>\n",
       "    </tr>\n",
       "    <tr>\n",
       "      <th>15004</th>\n",
       "      <td>132330</td>\n",
       "      <td>1</td>\n",
       "      <td>Шобанов Андрей</td>\n",
       "    </tr>\n",
       "    <tr>\n",
       "      <th>29747</th>\n",
       "      <td>188876</td>\n",
       "      <td>1</td>\n",
       "      <td>Голудина Мария Юрьевна</td>\n",
       "    </tr>\n",
       "    <tr>\n",
       "      <th>37110</th>\n",
       "      <td>196901</td>\n",
       "      <td>1</td>\n",
       "      <td>Прохоров Константин</td>\n",
       "    </tr>\n",
       "    <tr>\n",
       "      <th>39093</th>\n",
       "      <td>199111</td>\n",
       "      <td>1</td>\n",
       "      <td>Петров Роман</td>\n",
       "    </tr>\n",
       "    <tr>\n",
       "      <th>39094</th>\n",
       "      <td>199112</td>\n",
       "      <td>1</td>\n",
       "      <td>Петров Игорь</td>\n",
       "    </tr>\n",
       "    <tr>\n",
       "      <th>39095</th>\n",
       "      <td>199113</td>\n",
       "      <td>1</td>\n",
       "      <td>Иоаннидис Андриан</td>\n",
       "    </tr>\n",
       "    <tr>\n",
       "      <th>39096</th>\n",
       "      <td>199114</td>\n",
       "      <td>1</td>\n",
       "      <td>Луконин Дмитрий</td>\n",
       "    </tr>\n",
       "    <tr>\n",
       "      <th>39097</th>\n",
       "      <td>199115</td>\n",
       "      <td>1</td>\n",
       "      <td>Королихин Анатолий</td>\n",
       "    </tr>\n",
       "    <tr>\n",
       "      <th>39872</th>\n",
       "      <td>199963</td>\n",
       "      <td>1</td>\n",
       "      <td>Бровченко Елена Борисовна</td>\n",
       "    </tr>\n",
       "    <tr>\n",
       "      <th>42067</th>\n",
       "      <td>202410</td>\n",
       "      <td>1</td>\n",
       "      <td>Подюкова Валентина</td>\n",
       "    </tr>\n",
       "  </tbody>\n",
       "</table>\n",
       "</div>"
      ],
      "text/plain": [
       "       player  tournament_count                         player_name\n",
       "812      5805                 1  Войцеховская Станислава Валерьевна\n",
       "1782    12785                 1            Ишин Вадим Александрович\n",
       "2114    14996                 1         Козлова Ольга Александровна\n",
       "2520    17750                 1        Лазарева Галина Вячеславовна\n",
       "3183    22474                 2                Немец Илья Сергеевич\n",
       "4254    30260                 8            Спектор Евгений Павлович\n",
       "4689    33459                 1                     Фрайман Феликс \n",
       "4793    34328                12              Царёв Михаил Сергеевич\n",
       "5360    38175                 1           Пилипенко Максим Игоревич\n",
       "5560    40411                 1           Кудинов Дмитрий Сергеевич\n",
       "15004  132330                 1                     Шобанов Андрей \n",
       "29747  188876                 1              Голудина Мария Юрьевна\n",
       "37110  196901                 1                Прохоров Константин \n",
       "39093  199111                 1                       Петров Роман \n",
       "39094  199112                 1                       Петров Игорь \n",
       "39095  199113                 1                  Иоаннидис Андриан \n",
       "39096  199114                 1                    Луконин Дмитрий \n",
       "39097  199115                 1                 Королихин Анатолий \n",
       "39872  199963                 1           Бровченко Елена Борисовна\n",
       "42067  202410                 1                 Подюкова Валентина "
      ]
     },
     "execution_count": 39,
     "metadata": {},
     "output_type": "execute_result"
    }
   ],
   "source": [
    "player_tournament_cnt[player_tournament_cnt[\"player\"].isin(top_20_players_id)]"
   ]
  },
  {
   "cell_type": "markdown",
   "id": "hidden-presentation",
   "metadata": {},
   "source": [
    "сначала жёстко: выберите разумную отсечку по числу вопросов, учитывая, что в одном турнире их обычно 30-50;"
   ]
  },
  {
   "cell_type": "code",
   "execution_count": 40,
   "id": "organic-coaching",
   "metadata": {},
   "outputs": [],
   "source": [
    "player_question_cnt = question_answer_data[\"player\"].value_counts()"
   ]
  },
  {
   "cell_type": "code",
   "execution_count": 41,
   "id": "applicable-imperial",
   "metadata": {},
   "outputs": [
    {
     "data": {
      "image/png": "[encoded data removed]",
      "text/plain": [
       "<Figure size 432x288 with 1 Axes>"
      ]
     },
     "metadata": {
      "needs_background": "light"
     },
     "output_type": "display_data"
    }
   ],
   "source": [
    "sns.boxplot(x=player_question_cnt);"
   ]
  },
  {
   "cell_type": "markdown",
   "id": "hourly-homework",
   "metadata": {},
   "source": [
    "поставим отсечку в 400 вопросов, что соответствует 8-13 турнирным играм"
   ]
  },
  {
   "cell_type": "code",
   "execution_count": 42,
   "id": "productive-cylinder",
   "metadata": {},
   "outputs": [],
   "source": [
    "reasonable_players = set(player_question_cnt[player_question_cnt >= 400].index)"
   ]
  },
  {
   "cell_type": "code",
   "execution_count": 58,
   "id": "contrary-batman",
   "metadata": {},
   "outputs": [],
   "source": [
    "encoder = OneHotEncoder()\n",
    "\n",
    "train_data = encoder.fit_transform(question_answer_data.loc[\n",
    "    question_answer_data['player'].isin(reasonable_players), \n",
    "    [\"player\", \"question\"]])\n",
    "\n",
    "train_data = train_data.tocoo()\n",
    "\n",
    "x = torch.sparse.FloatTensor(\n",
    "    torch.LongTensor(np.vstack((train_data.row, train_data.col))),\n",
    "    torch.FloatTensor(train_data.data)\n",
    ")\n",
    "\n",
    "y = torch.FloatTensor(question_answer_data.loc[\n",
    "    question_answer_data['player'].isin(reasonable_players), \n",
    "    \"initial_label\"].values).view(-1, 1)\n",
    "\n",
    "model = LogisticRegression(x.shape[1])"
   ]
  },
  {
   "cell_type": "markdown",
   "id": "institutional-cologne",
   "metadata": {},
   "source": [
    "можно ли просто выбросить игроков, которые мало играли, и переобучить модель? почему? предложите, как нужно изменить модель, чтобы не учитывать слишком мало сыгравших, и переобучите модель;"
   ]
  },
  {
   "cell_type": "code",
   "execution_count": 59,
   "id": "center-halloween",
   "metadata": {},
   "outputs": [],
   "source": [
    "del train_data"
   ]
  },
  {
   "cell_type": "markdown",
   "id": "champion-threat",
   "metadata": {},
   "source": [
    "Просто так выбросить игроков не получится из-за нашей ЕМ схемы - будет сильно повышена вероятность игроков в команде с \"ноунеймами\" взять вопрос.\n",
    "\n",
    "Вместо этого будем считать вероятность взять вопрос игроком без рейтинга = 0.5\n",
    "\n",
    "Тренироваться будем только на игроках с достаточным рейтингом, но учитывая игроков без рейтинга в знаменателе на Е-шаге"
   ]
  },
  {
   "cell_type": "code",
   "execution_count": 60,
   "id": "shared-electronics",
   "metadata": {},
   "outputs": [],
   "source": [
    "def e_step(data, predicts, reasonable_players):\n",
    "    player_idx = data[\"player\"].isin(reasonable_players)\n",
    "    data.loc[player_idx, \"label\"] = predicts\n",
    "    data.loc[~player_idx, \"label\"] = 0.5\n",
    "    data.loc[data[\"initial_label\"] == 0, \"label\"] = 0\n",
    "    idx = data[\"initial_label\"] == 1\n",
    "    sp = data.loc[idx].groupby([\"team_id\", \"question\"])[\"label\"].transform(lambda x: 1 - np.prod(1 - x.values))\n",
    "    data.loc[idx, \"label\"] = data.loc[idx, \"label\"] / sp  \n",
    "    new_label = data.loc[player_idx, \"label\"].values\n",
    "    return torch.FloatTensor(new_label).view(-1, 1)"
   ]
  },
  {
   "cell_type": "code",
   "execution_count": 61,
   "id": "electrical-hampshire",
   "metadata": {},
   "outputs": [
    {
     "name": "stdout",
     "output_type": "stream",
     "text": [
      "Iter: 0\n",
      "spearman: 0.6186767832955465\n",
      "kendl: 0.4801412112202675\n",
      "Iter: 1\n",
      "spearman: 0.6309325248850433\n",
      "kendl: 0.4919240229607929\n",
      "Iter: 2\n",
      "spearman: 0.6374962052977347\n",
      "kendl: 0.49806553227021433\n",
      "Iter: 3\n",
      "spearman: 0.6423755701411579\n",
      "kendl: 0.5035767366740213\n",
      "Iter: 4\n",
      "spearman: 0.6465477469897499\n",
      "kendl: 0.5078193343375873\n",
      "Iter: 5\n",
      "spearman: 0.6495402057797481\n",
      "kendl: 0.5101259248680485\n",
      "Iter: 6\n",
      "spearman: 0.6510834721099233\n",
      "kendl: 0.5109031766535893\n",
      "Iter: 7\n",
      "spearman: 0.654703261114488\n",
      "kendl: 0.5137966175673448\n",
      "Iter: 8\n",
      "spearman: 0.6583329095061677\n",
      "kendl: 0.5164653624370664\n",
      "Iter: 9\n",
      "spearman: 0.6587816856759683\n",
      "kendl: 0.5170655577602744\n"
     ]
    }
   ],
   "source": [
    "for i in range(10):\n",
    "    m_step(model, x, y, lr=1, n_iter=100)\n",
    "    predicts = model(x).detach().numpy().ravel()\n",
    "    y = e_step(question_answer_data, predicts, reasonable_players)\n",
    "    torch.save(model.state_dict(), f\"model_{i}.pth\")\n",
    "    predicts = model(x).detach().numpy().ravel()\n",
    "    print(f\"Iter: {i}\")\n",
    "    calc_metrics(test_data, encoder, model.fc.weight.data[0].numpy(), model.fc.bias.data[0].numpy())"
   ]
  },
  {
   "cell_type": "code",
   "execution_count": 66,
   "id": "sorted-hotel",
   "metadata": {},
   "outputs": [],
   "source": [
    "parameters = model.fc.weight.data[0].numpy()"
   ]
  },
  {
   "cell_type": "code",
   "execution_count": 72,
   "id": "spectacular-qatar",
   "metadata": {},
   "outputs": [],
   "source": [
    "top_20_players = get_top_players(parameters, 20)"
   ]
  },
  {
   "cell_type": "markdown",
   "id": "timely-indian",
   "metadata": {},
   "source": [
    "как мы видим в топе оказались игроки с высоким рейтингом, однако корелляция сильно упала. Из-за неучета множества игроков мы не можем прогнозировать их силу."
   ]
  },
  {
   "cell_type": "markdown",
   "id": "elementary-redhead",
   "metadata": {},
   "source": [
    "но всё-таки это не слишком хорошее решение: если выбрать маленькую отсечку, будут ноунеймы в топе, а если большую, то получится, что у нового игрока слишком долго не будет рейтинга; скорее всего, никакой “золотой середины” тут не получится;"
   ]
  },
  {
   "cell_type": "code",
   "execution_count": 92,
   "id": "scheduled-health",
   "metadata": {},
   "outputs": [
    {
     "name": "stdout",
     "output_type": "stream",
     "text": [
      "1 Царёв Михаил Сергеевич 34328\n",
      "2 Руссо Максим Михайлович 27403\n",
      "3 Мереминский Станислав Григорьевич 20691\n",
      "4 Мокин Игорь Викторович 74001\n",
      "5 Коробейников Александр Геннадьевич 15727\n",
      "6 Брутер Александра Владимировна 4270\n",
      "7 Семушин Иван Николаевич 28751\n",
      "8 Гилёв Алексей Владимирович 7008\n",
      "9 Мосягин Александр Владимирович 21698\n",
      "10 Савченков Михаил Владимирович 27822\n",
      "11 Сорожкин Артём Сергеевич 30152\n",
      "12 Дёмин Евгений Васильевич 9061\n",
      "13 Марков Александр Валерьевич 19915\n",
      "14 Новиков Илья Сергеевич 22935\n",
      "15 Николенко Сергей Игоревич 22799\n",
      "16 Бровер Сусанна Марковна 4226\n",
      "17 Либер Александр Витальевич 18332\n",
      "18 Мерзляков Максим Петрович 20700\n",
      "19 Дубинская Ольга Игоревна 9834\n",
      "20 Моносов Борис Яковлевич 21487\n"
     ]
    }
   ],
   "source": [
    "for i, name in enumerate(top_20_players):\n",
    "    print(f\"{i + 1} {name}\")"
   ]
  },
  {
   "cell_type": "markdown",
   "id": "premium-bicycle",
   "metadata": {},
   "source": [
    "предложите более концептуальное решение для топа игроков в рейтинг-листе; если получится, реализуйте его на практике (за это уж точно будут серьёзные бонусные баллы).\n"
   ]
  },
  {
   "cell_type": "markdown",
   "id": "specified-fitness",
   "metadata": {},
   "source": [
    "давайте добавим веса к нашей функции потерь\n",
    "\n",
    "веса будут зависить от количества сыгранных вопросов игроком\n",
    "\n",
    "$$\\large{weight = \\frac{q_{player} + \\alpha}{q_{total} + \\alpha p_{total}}}$$\n",
    "\n",
    "Где:\n",
    "\n",
    "- $q_{player}$ - количество вопросов сыгранных игроком\n",
    "- $q_{total}$ - общее количество вопросов\n",
    "- $p_{total}$ - общее количество игроков\n",
    "- $\\alpha$ - сглаживающая константа, необходима для того чтобы игроки которые сыграли слишком мало игр не получали слишком большую регуляризацию"
   ]
  },
  {
   "cell_type": "code",
   "execution_count": 116,
   "id": "sticky-precipitation",
   "metadata": {},
   "outputs": [],
   "source": [
    "alpha = 1\n",
    "question_reg = (\n",
    "    (question_answer_data.groupby(\"player\")[\"question\"].transform(\"nunique\") + alpha) / \n",
    "    (question_answer_data[\"question\"].nunique() + alpha * question_answer_data[\"player\"].nunique())\n",
    ")"
   ]
  },
  {
   "cell_type": "code",
   "execution_count": 117,
   "id": "israeli-holder",
   "metadata": {},
   "outputs": [],
   "source": [
    "encoder = OneHotEncoder()\n",
    "\n",
    "train_data = encoder.fit_transform(question_answer_data[[\"player\", \"question\"]])\n",
    "\n",
    "train_data = train_data.tocoo()\n",
    "\n",
    "x = torch.sparse.FloatTensor(\n",
    "    torch.LongTensor(np.vstack((train_data.row, train_data.col))),\n",
    "    torch.FloatTensor(train_data.data)\n",
    ")\n",
    "\n",
    "y = torch.FloatTensor(question_answer_data[\"initial_label\"].values).view(-1, 1)\n",
    "\n",
    "question_reg = torch.FloatTensor(question_reg).view(-1, 1)\n",
    "\n",
    "model = LogisticRegression(x.shape[1])"
   ]
  },
  {
   "cell_type": "code",
   "execution_count": 118,
   "id": "aboriginal-ethics",
   "metadata": {},
   "outputs": [],
   "source": [
    "def m_step(model, x, y, q_const, lr=1e-4, reg_alpha=0.1, n_iter=50):\n",
    "    \n",
    "    model.fc.reset_parameters()\n",
    "    criteria = nn.BCELoss(reduction=\"none\")\n",
    "    optimizer = optim.Adam(model.parameters(), lr)\n",
    "    for i in range(n_iter):\n",
    "\n",
    "        optimizer.zero_grad()\n",
    "        output = model(x)\n",
    "        loss = criteria(output, y) * reg_alpha * q_const\n",
    "        loss = loss.sum()\n",
    "        loss.backward()\n",
    "        optimizer.step()"
   ]
  },
  {
   "cell_type": "code",
   "execution_count": 119,
   "id": "alert-western",
   "metadata": {},
   "outputs": [],
   "source": [
    "def e_step(data, predicts):\n",
    "    data[\"label\"] = predicts\n",
    "    data.loc[data[\"initial_label\"] == 0, \"label\"] = 0\n",
    "    idx = data[\"initial_label\"] == 1\n",
    "    sp = data.loc[idx].groupby([\"team_id\", \"question\"])[\"label\"].transform(lambda x: 1 - np.prod(1 - x.values))\n",
    "    data.loc[idx, \"label\"] = data.loc[idx, \"label\"] / sp\n",
    "    new_label = data[\"label\"].values\n",
    "    return torch.FloatTensor(new_label).view(-1, 1)"
   ]
  },
  {
   "cell_type": "code",
   "execution_count": 120,
   "id": "competitive-ceremony",
   "metadata": {
    "tags": []
   },
   "outputs": [
    {
     "name": "stdout",
     "output_type": "stream",
     "text": [
      "Iter: 0\n",
      "spearman: 0.7874710928349219\n",
      "kendl: 0.630746226803847\n",
      "Iter: 1\n",
      "spearman: 0.7967773338766985\n",
      "kendl: 0.6417672928582311\n",
      "Iter: 2\n",
      "spearman: 0.7982627692103514\n",
      "kendl: 0.6431054510061723\n",
      "Iter: 3\n",
      "spearman: 0.8006221750170823\n",
      "kendl: 0.6458062606792885\n",
      "Iter: 4\n",
      "spearman: 0.8003250293053794\n",
      "kendl: 0.6447465399449644\n",
      "Iter: 5\n",
      "spearman: 0.8018255870428111\n",
      "kendl: 0.6468591503510176\n",
      "Iter: 6\n",
      "spearman: 0.8023051613330486\n",
      "kendl: 0.6470983844560139\n",
      "Iter: 7\n",
      "spearman: 0.8058750549287725\n",
      "kendl: 0.6514019743604386\n",
      "Iter: 8\n",
      "spearman: 0.8068277191754477\n",
      "kendl: 0.6521924637511632\n",
      "Iter: 9\n",
      "spearman: 0.8073125348071527\n",
      "kendl: 0.6524234884217239\n"
     ]
    }
   ],
   "source": [
    "for i in range(10):\n",
    "    m_step(model, x, y, question_reg, reg_alpha=1, lr=1, n_iter=100)\n",
    "    predicts = model(x).detach().numpy().ravel()\n",
    "    y = e_step(question_answer_data, predicts)\n",
    "    torch.save(model.state_dict(), f\"model_{i}.pth\")\n",
    "    predicts = model(x).detach().numpy().ravel()\n",
    "    print(f\"Iter: {i}\")\n",
    "    calc_metrics(test_data, encoder, model.fc.weight.data[0].numpy(), model.fc.bias.data[0].numpy())"
   ]
  },
  {
   "cell_type": "code",
   "execution_count": 121,
   "id": "nominated-fifth",
   "metadata": {},
   "outputs": [
    {
     "name": "stdout",
     "output_type": "stream",
     "text": [
      "1 Пилипенко Максим Игоревич 38175\n",
      "2 Немец Илья Сергеевич 22474\n",
      "3 Козлова Ольга Александровна 14996\n",
      "4 Королихин Анатолий  199115\n",
      "5 Луконин Дмитрий  199114\n",
      "6 Петров Роман  199111\n",
      "7 Петров Игорь  199112\n",
      "8 Иоаннидис Андриан  199113\n",
      "9 Бровченко Елена Борисовна 199963\n",
      "10 Подюкова Валентина  202410\n",
      "11 Голудина Мария Юрьевна 188876\n",
      "12 Фрайман Феликс  33459\n",
      "13 Лазарева Галина Вячеславовна 17750\n",
      "14 Кудинов Дмитрий Сергеевич 40411\n",
      "15 Фёдоров Дамир  199118\n",
      "16 Усов Александр  199117\n",
      "17 Чернецкий Евгений  199116\n",
      "18 Марков Василий  199119\n",
      "19 Спектор Евгений Павлович 30260\n",
      "20 Буйная Александра Петровна 136300\n"
     ]
    }
   ],
   "source": [
    "parameters = model.fc.weight.data[0].numpy()\n",
    "top_20_players = get_top_players(parameters, 20)\n",
    "\n",
    "for i, name in enumerate(top_20_players):\n",
    "    print(f\"{i + 1} {name}\")"
   ]
  },
  {
   "cell_type": "code",
   "execution_count": 122,
   "id": "pharmaceutical-lying",
   "metadata": {},
   "outputs": [],
   "source": [
    "top_20_players_id = [int(v.split(\" \")[-1]) for v in top_20_players]"
   ]
  },
  {
   "cell_type": "code",
   "execution_count": 123,
   "id": "looking-lecture",
   "metadata": {},
   "outputs": [
    {
     "data": {
      "text/html": [
       "<div>\n",
       "<style scoped>\n",
       "    .dataframe tbody tr th:only-of-type {\n",
       "        vertical-align: middle;\n",
       "    }\n",
       "\n",
       "    .dataframe tbody tr th {\n",
       "        vertical-align: top;\n",
       "    }\n",
       "\n",
       "    .dataframe thead th {\n",
       "        text-align: right;\n",
       "    }\n",
       "</style>\n",
       "<table border=\"1\" class=\"dataframe\">\n",
       "  <thead>\n",
       "    <tr style=\"text-align: right;\">\n",
       "      <th></th>\n",
       "      <th>player</th>\n",
       "      <th>tournament_count</th>\n",
       "      <th>player_name</th>\n",
       "    </tr>\n",
       "  </thead>\n",
       "  <tbody>\n",
       "    <tr>\n",
       "      <th>2114</th>\n",
       "      <td>14996</td>\n",
       "      <td>1</td>\n",
       "      <td>Козлова Ольга Александровна</td>\n",
       "    </tr>\n",
       "    <tr>\n",
       "      <th>2520</th>\n",
       "      <td>17750</td>\n",
       "      <td>1</td>\n",
       "      <td>Лазарева Галина Вячеславовна</td>\n",
       "    </tr>\n",
       "    <tr>\n",
       "      <th>3183</th>\n",
       "      <td>22474</td>\n",
       "      <td>2</td>\n",
       "      <td>Немец Илья Сергеевич</td>\n",
       "    </tr>\n",
       "    <tr>\n",
       "      <th>4254</th>\n",
       "      <td>30260</td>\n",
       "      <td>8</td>\n",
       "      <td>Спектор Евгений Павлович</td>\n",
       "    </tr>\n",
       "    <tr>\n",
       "      <th>4689</th>\n",
       "      <td>33459</td>\n",
       "      <td>1</td>\n",
       "      <td>Фрайман Феликс</td>\n",
       "    </tr>\n",
       "    <tr>\n",
       "      <th>5360</th>\n",
       "      <td>38175</td>\n",
       "      <td>1</td>\n",
       "      <td>Пилипенко Максим Игоревич</td>\n",
       "    </tr>\n",
       "    <tr>\n",
       "      <th>5560</th>\n",
       "      <td>40411</td>\n",
       "      <td>1</td>\n",
       "      <td>Кудинов Дмитрий Сергеевич</td>\n",
       "    </tr>\n",
       "    <tr>\n",
       "      <th>15716</th>\n",
       "      <td>136300</td>\n",
       "      <td>1</td>\n",
       "      <td>Буйная Александра Петровна</td>\n",
       "    </tr>\n",
       "    <tr>\n",
       "      <th>29747</th>\n",
       "      <td>188876</td>\n",
       "      <td>1</td>\n",
       "      <td>Голудина Мария Юрьевна</td>\n",
       "    </tr>\n",
       "    <tr>\n",
       "      <th>39093</th>\n",
       "      <td>199111</td>\n",
       "      <td>1</td>\n",
       "      <td>Петров Роман</td>\n",
       "    </tr>\n",
       "    <tr>\n",
       "      <th>39094</th>\n",
       "      <td>199112</td>\n",
       "      <td>1</td>\n",
       "      <td>Петров Игорь</td>\n",
       "    </tr>\n",
       "    <tr>\n",
       "      <th>39095</th>\n",
       "      <td>199113</td>\n",
       "      <td>1</td>\n",
       "      <td>Иоаннидис Андриан</td>\n",
       "    </tr>\n",
       "    <tr>\n",
       "      <th>39096</th>\n",
       "      <td>199114</td>\n",
       "      <td>1</td>\n",
       "      <td>Луконин Дмитрий</td>\n",
       "    </tr>\n",
       "    <tr>\n",
       "      <th>39097</th>\n",
       "      <td>199115</td>\n",
       "      <td>1</td>\n",
       "      <td>Королихин Анатолий</td>\n",
       "    </tr>\n",
       "    <tr>\n",
       "      <th>39098</th>\n",
       "      <td>199116</td>\n",
       "      <td>1</td>\n",
       "      <td>Чернецкий Евгений</td>\n",
       "    </tr>\n",
       "    <tr>\n",
       "      <th>39099</th>\n",
       "      <td>199117</td>\n",
       "      <td>1</td>\n",
       "      <td>Усов Александр</td>\n",
       "    </tr>\n",
       "    <tr>\n",
       "      <th>39100</th>\n",
       "      <td>199118</td>\n",
       "      <td>1</td>\n",
       "      <td>Фёдоров Дамир</td>\n",
       "    </tr>\n",
       "    <tr>\n",
       "      <th>39101</th>\n",
       "      <td>199119</td>\n",
       "      <td>1</td>\n",
       "      <td>Марков Василий</td>\n",
       "    </tr>\n",
       "    <tr>\n",
       "      <th>39872</th>\n",
       "      <td>199963</td>\n",
       "      <td>1</td>\n",
       "      <td>Бровченко Елена Борисовна</td>\n",
       "    </tr>\n",
       "    <tr>\n",
       "      <th>42067</th>\n",
       "      <td>202410</td>\n",
       "      <td>1</td>\n",
       "      <td>Подюкова Валентина</td>\n",
       "    </tr>\n",
       "  </tbody>\n",
       "</table>\n",
       "</div>"
      ],
      "text/plain": [
       "       player  tournament_count                   player_name\n",
       "2114    14996                 1   Козлова Ольга Александровна\n",
       "2520    17750                 1  Лазарева Галина Вячеславовна\n",
       "3183    22474                 2          Немец Илья Сергеевич\n",
       "4254    30260                 8      Спектор Евгений Павлович\n",
       "4689    33459                 1               Фрайман Феликс \n",
       "5360    38175                 1     Пилипенко Максим Игоревич\n",
       "5560    40411                 1     Кудинов Дмитрий Сергеевич\n",
       "15716  136300                 1    Буйная Александра Петровна\n",
       "29747  188876                 1        Голудина Мария Юрьевна\n",
       "39093  199111                 1                 Петров Роман \n",
       "39094  199112                 1                 Петров Игорь \n",
       "39095  199113                 1            Иоаннидис Андриан \n",
       "39096  199114                 1              Луконин Дмитрий \n",
       "39097  199115                 1           Королихин Анатолий \n",
       "39098  199116                 1            Чернецкий Евгений \n",
       "39099  199117                 1               Усов Александр \n",
       "39100  199118                 1                Фёдоров Дамир \n",
       "39101  199119                 1               Марков Василий \n",
       "39872  199963                 1     Бровченко Елена Борисовна\n",
       "42067  202410                 1           Подюкова Валентина "
      ]
     },
     "execution_count": 123,
     "metadata": {},
     "output_type": "execute_result"
    }
   ],
   "source": [
    "player_tournament_cnt[player_tournament_cnt[\"player\"].isin(top_20_players_id)]"
   ]
  },
  {
   "cell_type": "code",
   "execution_count": null,
   "id": "harmful-story",
   "metadata": {},
   "outputs": [],
   "source": []
  }
 ],
 "metadata": {
  "kernelspec": {
   "display_name": "Python 3",
   "language": "python",
   "name": "python3"
  },
  "language_info": {
   "codemirror_mode": {
    "name": "ipython",
    "version": 3
   },
   "file_extension": ".py",
   "mimetype": "text/x-python",
   "name": "python",
   "nbconvert_exporter": "python",
   "pygments_lexer": "ipython3",
   "version": "3.9.2"
  }
 },
 "nbformat": 4,
 "nbformat_minor": 5
}
