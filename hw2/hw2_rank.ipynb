{
 "cells": [
  {
   "cell_type": "code",
   "execution_count": 1,
   "id": "administrative-invention",
   "metadata": {
    "tags": []
   },
   "outputs": [],
   "source": [
    "import pickle\n",
    "from datetime import datetime\n",
    "from dateutil.tz import tzoffset\n",
    "\n",
    "import numpy as np\n",
    "import matplotlib.pyplot as plt\n",
    "import pandas as pd\n",
    "import seaborn as sns\n",
    "import torch\n",
    "from torch import nn\n",
    "from torch import optim\n",
    "from scipy.stats import kendalltau, spearmanr\n",
    "from sklearn.preprocessing import OneHotEncoder"
   ]
  },
  {
   "cell_type": "code",
   "execution_count": 2,
   "id": "artistic-player",
   "metadata": {},
   "outputs": [],
   "source": [
    "with open(\"players.pkl\", \"rb\") as fio:\n",
    "    players = pickle.load(fio)"
   ]
  },
  {
   "cell_type": "code",
   "execution_count": 3,
   "id": "checked-praise",
   "metadata": {},
   "outputs": [],
   "source": [
    "with open(\"results.pkl\", \"rb\") as fio:\n",
    "    results = pickle.load(fio)"
   ]
  },
  {
   "cell_type": "code",
   "execution_count": 4,
   "id": "proper-tomato",
   "metadata": {},
   "outputs": [],
   "source": [
    "with open(\"tournaments.pkl\", \"rb\") as fio:\n",
    "    tournaments = pickle.load(fio)"
   ]
  },
  {
   "cell_type": "code",
   "execution_count": 5,
   "id": "anticipated-astrology",
   "metadata": {},
   "outputs": [],
   "source": [
    "dateformat = \"%Y-%m-%dT%H:%M:%S%z\""
   ]
  },
  {
   "cell_type": "code",
   "execution_count": 6,
   "id": "polish-hartford",
   "metadata": {
    "tags": []
   },
   "outputs": [],
   "source": [
    "train_data =  []\n",
    "test_data = []\n",
    "\n",
    "for key, value in results.items():\n",
    "    for team in value:\n",
    "        for team_member in team[\"teamMembers\"]:\n",
    "            tournament_year = datetime.strptime(tournaments[key][\"dateStart\"], dateformat).year\n",
    "            if team.get(\"mask\", None) and tournament_year == 2019:\n",
    "                train_data.append({\n",
    "                    \"tournament_id\": key,\n",
    "                    \"tournament_name\": tournaments.get(key).get(\"name\"),\n",
    "                    \"team_id\": team[\"team\"][\"id\"],\n",
    "                    \"team_name\": team[\"team\"][\"name\"],\n",
    "                    \"questions_mask\": team.get(\"mask\", None),\n",
    "                    \"questionQty\": tournaments.get(key).get(\"questionQty\"),\n",
    "                    \"position\": team.get(\"position\", None),\n",
    "                    \"player_id\": team_member[\"player\"][\"id\"],\n",
    "                    \"player_name\": team_member[\"player\"][\"surname\"] + \" \" + \\\n",
    "                                   team_member[\"player\"][\"name\"] + \" \" + \\\n",
    "                                   team_member[\"player\"][\"patronymic\"]\n",
    "                })\n",
    "            elif team.get(\"mask\", None) and tournament_year == 2020:\n",
    "                test_data.append({\n",
    "                    \"tournament_id\": key,\n",
    "                    \"tournament_name\": tournaments.get(key).get(\"name\"),\n",
    "                    \"team_id\": team[\"team\"][\"id\"],\n",
    "                    \"team_name\": team[\"team\"][\"name\"],\n",
    "                    \"position\": team.get(\"position\", None),\n",
    "                    \"player_id\": team_member[\"player\"][\"id\"],\n",
    "                    \"player_name\": team_member[\"player\"][\"surname\"] + \" \" + \\\n",
    "                                   team_member[\"player\"][\"name\"] + \" \" + \\\n",
    "                                   team_member[\"player\"][\"patronymic\"]\n",
    "                })"
   ]
  },
  {
   "cell_type": "code",
   "execution_count": 7,
   "id": "original-laptop",
   "metadata": {},
   "outputs": [],
   "source": [
    "train_data = pd.DataFrame(train_data)\n",
    "test_data = pd.DataFrame(test_data)"
   ]
  },
  {
   "cell_type": "code",
   "execution_count": 8,
   "id": "outdoor-victim",
   "metadata": {},
   "outputs": [],
   "source": [
    "del results"
   ]
  },
  {
   "cell_type": "code",
   "execution_count": 9,
   "id": "rough-police",
   "metadata": {},
   "outputs": [],
   "source": [
    "train_data[\"questionQty\"] = train_data[\"questionQty\"].apply(lambda x: sum(list(x.values())))"
   ]
  },
  {
   "cell_type": "code",
   "execution_count": 10,
   "id": "portuguese-feelings",
   "metadata": {},
   "outputs": [
    {
     "data": {
      "text/plain": [
       "12"
      ]
     },
     "execution_count": 10,
     "metadata": {},
     "output_type": "execute_result"
    }
   ],
   "source": [
    "train_data[train_data[\"questions_mask\"].apply(len) != train_data[\"questionQty\"]][\"tournament_id\"].nunique()"
   ]
  },
  {
   "cell_type": "code",
   "execution_count": 11,
   "id": "cardiovascular-strand",
   "metadata": {},
   "outputs": [],
   "source": [
    "train_data = train_data[train_data[\"questions_mask\"].apply(len) == train_data[\"questionQty\"]].copy()"
   ]
  },
  {
   "cell_type": "code",
   "execution_count": 12,
   "id": "studied-memorial",
   "metadata": {},
   "outputs": [
    {
     "name": "stderr",
     "output_type": "stream",
     "text": [
      "/home/imd/miniconda3/envs/made_advance/lib/python3.9/site-packages/seaborn/_decorators.py:36: FutureWarning: Pass the following variable as a keyword arg: x. From version 0.12, the only valid positional argument will be `data`, and passing other arguments without an explicit keyword will result in an error or misinterpretation.\n",
      "  warnings.warn(\n"
     ]
    },
    {
     "data": {
      "image/png": "[encoded data removed]",
      "text/plain": [
       "<Figure size 432x288 with 1 Axes>"
      ]
     },
     "metadata": {
      "needs_background": "light"
     },
     "output_type": "display_data"
    }
   ],
   "source": [
    "sns.boxplot(train_data.groupby([\"team_id\", \"tournament_id\"])[\"player_id\"].nunique());"
   ]
  },
  {
   "cell_type": "code",
   "execution_count": 13,
   "id": "linear-custody",
   "metadata": {},
   "outputs": [
    {
     "data": {
      "text/plain": [
       "(414743, 9)"
      ]
     },
     "execution_count": 13,
     "metadata": {},
     "output_type": "execute_result"
    }
   ],
   "source": [
    "train_data.shape"
   ]
  },
  {
   "cell_type": "code",
   "execution_count": 14,
   "id": "quantitative-providence",
   "metadata": {},
   "outputs": [],
   "source": [
    "train_data = pd.merge(\n",
    "    train_data,\n",
    "    train_data.groupby(\"team_id\")[\"player_id\"].value_counts().rename(\"played_in_team\").reset_index(),\n",
    "    on = [\"team_id\", \"player_id\"],\n",
    "    how=\"inner\"\n",
    ")"
   ]
  },
  {
   "cell_type": "code",
   "execution_count": 15,
   "id": "prostate-blackberry",
   "metadata": {},
   "outputs": [],
   "source": [
    "most_played_index = train_data.groupby([\"tournament_id\", \"team_id\"]).apply(lambda x: x.sort_values(\"played_in_team\", ascending=False).iloc[:6].index.values)"
   ]
  },
  {
   "cell_type": "code",
   "execution_count": 16,
   "id": "requested-capability",
   "metadata": {},
   "outputs": [],
   "source": [
    "good_index = []\n",
    "for index in most_played_index:\n",
    "    good_index.extend(index)"
   ]
  },
  {
   "cell_type": "code",
   "execution_count": 17,
   "id": "musical-cutting",
   "metadata": {},
   "outputs": [
    {
     "name": "stderr",
     "output_type": "stream",
     "text": [
      "/home/imd/miniconda3/envs/made_advance/lib/python3.9/site-packages/seaborn/_decorators.py:36: FutureWarning: Pass the following variable as a keyword arg: x. From version 0.12, the only valid positional argument will be `data`, and passing other arguments without an explicit keyword will result in an error or misinterpretation.\n",
      "  warnings.warn(\n"
     ]
    },
    {
     "data": {
      "image/png": "[encoded data removed]",
      "text/plain": [
       "<Figure size 432x288 with 1 Axes>"
      ]
     },
     "metadata": {
      "needs_background": "light"
     },
     "output_type": "display_data"
    }
   ],
   "source": [
    "sns.boxplot(train_data.loc[good_index].groupby([\"team_id\", \"tournament_id\"])[\"player_id\"].nunique());"
   ]
  },
  {
   "cell_type": "code",
   "execution_count": 18,
   "id": "hindu-restoration",
   "metadata": {},
   "outputs": [
    {
     "data": {
      "text/plain": [
       "(414743, 112841)"
      ]
     },
     "execution_count": 18,
     "metadata": {},
     "output_type": "execute_result"
    }
   ],
   "source": [
    "train_data.shape[0], test_data.shape[0]"
   ]
  },
  {
   "cell_type": "code",
   "execution_count": 19,
   "id": "respected-jackson",
   "metadata": {},
   "outputs": [
    {
     "data": {
      "text/plain": [
       "(675, 173)"
      ]
     },
     "execution_count": 19,
     "metadata": {},
     "output_type": "execute_result"
    }
   ],
   "source": [
    "train_data[\"tournament_id\"].nunique(), test_data[\"tournament_id\"].nunique()"
   ]
  },
  {
   "cell_type": "code",
   "execution_count": 20,
   "id": "rental-director",
   "metadata": {},
   "outputs": [],
   "source": [
    "question_answer_data = {\n",
    "    \"question\": [],\n",
    "    \"player\": [],\n",
    "    \"initial_label\": [],\n",
    "    \"team_id\": [],\n",
    "    \"tournament_id\": []\n",
    "}\n",
    "for tour_id, team_id, player_id, mask in zip(train_data[\"tournament_id\"], train_data[\"team_id\"], train_data[\"player_id\"], train_data[\"questions_mask\"]):\n",
    "    for i, result in enumerate(mask):\n",
    "        if result != \"X\" and result != \"?\":\n",
    "            question_answer_data[\"tournament_id\"].append(tour_id)\n",
    "            question_answer_data[\"team_id\"].append(team_id)\n",
    "            question_answer_data[\"question\"].append(f\"{tour_id}_{i}\")\n",
    "            question_answer_data[\"player\"].append(player_id)\n",
    "            question_answer_data[\"initial_label\"].append(int(result))"
   ]
  },
  {
   "cell_type": "code",
   "execution_count": 21,
   "id": "blind-conspiracy",
   "metadata": {},
   "outputs": [],
   "source": [
    "question_answer_data = pd.DataFrame(question_answer_data)"
   ]
  },
  {
   "cell_type": "code",
   "execution_count": 22,
   "id": "working-shift",
   "metadata": {},
   "outputs": [],
   "source": [
    "question_answer_data[\"player\"] = question_answer_data[\"player\"].astype(np.int32)\n",
    "question_answer_data[\"team_id\"] = question_answer_data[\"team_id\"].astype(np.int32)\n",
    "question_answer_data[\"tournament_id\"] = question_answer_data[\"tournament_id\"].astype(np.int32)\n",
    "question_answer_data[\"question\"] = question_answer_data[\"question\"]\n",
    "question_answer_data[\"initial_label\"] = question_answer_data[\"initial_label\"].astype(np.uint8)"
   ]
  },
  {
   "cell_type": "code",
   "execution_count": 23,
   "id": "pleased-fetish",
   "metadata": {},
   "outputs": [],
   "source": [
    "encoder = OneHotEncoder()\n",
    "\n",
    "train_data = encoder.fit_transform(question_answer_data[[\"player\", \"question\"]])"
   ]
  },
  {
   "cell_type": "code",
   "execution_count": 24,
   "id": "miniature-payment",
   "metadata": {},
   "outputs": [],
   "source": [
    "class LogisticRegression(nn.Module):\n",
    "    \n",
    "    def __init__(self, n_features):\n",
    "        \n",
    "        super().__init__()\n",
    "        self.fc = nn.Linear(n_features, 1)\n",
    "        self.sigmoid = nn.Sigmoid()\n",
    "        \n",
    "    def forward(self, x):\n",
    "        return self.sigmoid(self.fc(x))"
   ]
  },
  {
   "cell_type": "code",
   "execution_count": 25,
   "id": "sustainable-karen",
   "metadata": {},
   "outputs": [],
   "source": [
    "def m_step(model, x, y, lr=1e-4, n_iter=50):\n",
    "    \n",
    "    model.fc.reset_parameters()\n",
    "    criteria = nn.BCELoss()\n",
    "    optimizer = optim.Adam(model.parameters(), lr)\n",
    "    for i in range(n_iter):\n",
    "\n",
    "        optimizer.zero_grad()\n",
    "        output = model(x)\n",
    "        loss = criteria(output, y)\n",
    "        loss.backward()\n",
    "        optimizer.step()"
   ]
  },
  {
   "cell_type": "code",
   "execution_count": 26,
   "id": "broke-morgan",
   "metadata": {},
   "outputs": [],
   "source": [
    "train_data = train_data.tocoo()"
   ]
  },
  {
   "cell_type": "code",
   "execution_count": 27,
   "id": "diagnostic-spelling",
   "metadata": {},
   "outputs": [],
   "source": [
    "x = torch.sparse.FloatTensor(\n",
    "    torch.LongTensor(np.vstack((train_data.row, train_data.col))),\n",
    "    torch.FloatTensor(train_data.data)\n",
    ")"
   ]
  },
  {
   "cell_type": "code",
   "execution_count": 28,
   "id": "adjustable-browser",
   "metadata": {},
   "outputs": [],
   "source": [
    "y = torch.FloatTensor(question_answer_data[\"initial_label\"].values).view(-1, 1)"
   ]
  },
  {
   "cell_type": "code",
   "execution_count": 29,
   "id": "dangerous-mills",
   "metadata": {},
   "outputs": [],
   "source": [
    "model = LogisticRegression(x.shape[1])"
   ]
  },
  {
   "cell_type": "code",
   "execution_count": 30,
   "id": "attended-talent",
   "metadata": {},
   "outputs": [
    {
     "name": "stdout",
     "output_type": "stream",
     "text": [
      "CPU times: user 4min 40s, sys: 42.6 s, total: 5min 23s\n",
      "Wall time: 3min 12s\n"
     ]
    }
   ],
   "source": [
    "%%time\n",
    "m_step(model, x, y, lr=1, n_iter=100)"
   ]
  },
  {
   "cell_type": "code",
   "execution_count": 31,
   "id": "rubber-replica",
   "metadata": {},
   "outputs": [],
   "source": [
    "def calc_metrics(data, encoder, parameters, intercept):\n",
    "    player_weights = {}\n",
    "    count = 0\n",
    "    question_sum = 0\n",
    "    player_sum = 0\n",
    "    player_cnt = 0\n",
    "    for i, c in enumerate(encoder.get_feature_names()):\n",
    "        if c.startswith(\"x0_\"):\n",
    "            player_weights[int(c[3:])] = parameters[i]\n",
    "            player_sum += parameters[i]\n",
    "            player_cnt += 1\n",
    "        else:\n",
    "            question_sum += parameters[i]\n",
    "            count += 1\n",
    "    question_mean = question_sum / count\n",
    "    data[\"player_weights\"] = data[\"player_id\"].map(player_weights)\n",
    "    data[\"player_weights\"].fillna(player_sum / player_cnt, inplace=True)\n",
    "    data[\"players_proba\"] = data[\"player_weights\"].apply(lambda x: 1 / (1 + np.exp(-(x + question_mean + intercept))))\n",
    "    probas = data.groupby([\"tournament_id\", \"team_id\"])[\"players_proba\"].apply(lambda x: np.prod(1 - x))\n",
    "    position = data.groupby([\"tournament_id\", \"team_id\"])[\"position\"].first()\n",
    "    group_data = pd.concat([probas, position], axis=1)\n",
    "    group_data.sort_values([\"tournament_id\", \"players_proba\"], ascending=[True, True], inplace=True)\n",
    "    spear = group_data.groupby(\"tournament_id\").apply(lambda x: spearmanr(x[\"position\"], x[\"players_proba\"]).correlation).mean()\n",
    "    kendl = group_data.groupby(\"tournament_id\").apply(lambda x: kendalltau(x[\"position\"], x[\"players_proba\"]).correlation).mean()\n",
    "    print(f\"spearman: {spear}\")\n",
    "    print(f\"kendl: {kendl}\")"
   ]
  },
  {
   "cell_type": "code",
   "execution_count": 32,
   "id": "casual-return",
   "metadata": {},
   "outputs": [
    {
     "name": "stdout",
     "output_type": "stream",
     "text": [
      "spearman: 0.7859987474554763\n",
      "kendl: 0.6290909944016051\n"
     ]
    }
   ],
   "source": [
    "calc_metrics(test_data, encoder, model.fc.weight.data[0].numpy(), model.fc.bias.data[0].numpy())"
   ]
  },
  {
   "cell_type": "code",
   "execution_count": 33,
   "id": "professional-checklist",
   "metadata": {},
   "outputs": [],
   "source": [
    "def e_step(data, predicts):\n",
    "    data[\"label\"] = predicts\n",
    "    data.loc[data[\"initial_label\"] == 0, \"label\"] = 0\n",
    "    idx = data[\"initial_label\"] == 1\n",
    "    sp = data.loc[idx].groupby([\"team_id\", \"question\"])[\"label\"].transform(lambda x: 1 - np.prod(1 - x.values))\n",
    "    data.loc[idx, \"label\"] = data.loc[idx, \"label\"] / sp  \n",
    "    return data"
   ]
  },
  {
   "cell_type": "code",
   "execution_count": null,
   "id": "caroline-integrity",
   "metadata": {
    "tags": []
   },
   "outputs": [
    {
     "name": "stdout",
     "output_type": "stream",
     "text": [
      "Iter: 0\n",
      "spearman: 0.7939598001571143\n",
      "kendl: 0.6383555941080596\n",
      "Iter: 1\n",
      "spearman: 0.7939381135646116\n",
      "kendl: 0.638045444316909\n",
      "Iter: 2\n",
      "spearman: 0.7967572727805525\n",
      "kendl: 0.6403590400405925\n"
     ]
    }
   ],
   "source": [
    "predicts = model(x).detach().numpy().ravel()\n",
    "for i in range(0, 20):\n",
    "    question_answer_data = e_step(question_answer_data, predicts)\n",
    "    y = torch.FloatTensor(question_answer_data[\"label\"].values).view(-1, 1)\n",
    "    m_step(model, x, y, lr=1, n_iter=100)\n",
    "    predicts = model(x).detach().numpy().ravel()\n",
    "    print(f\"Iter: {i}\")\n",
    "    calc_metrics(test_data, encoder, model.fc.weight.data[0].numpy(), model.fc.bias.data[0].numpy())"
   ]
  },
  {
   "cell_type": "code",
   "execution_count": null,
   "id": "deadly-authority",
   "metadata": {},
   "outputs": [],
   "source": [
    "question_weights = {}\n",
    "for i, c in enumerate(encoder.get_feature_names()):\n",
    "    if c.startswith(\"x1_\"):\n",
    "        question_weights[c[3:]] = parameters[i]"
   ]
  },
  {
   "cell_type": "code",
   "execution_count": null,
   "id": "macro-position",
   "metadata": {},
   "outputs": [],
   "source": [
    "tournament_weights = question_answer_data.groupby(\"tournament_id\")[\"question\"].apply(lambda x: np.mean([question_weights[q] for q in x])).sort_values()"
   ]
  },
  {
   "cell_type": "code",
   "execution_count": null,
   "id": "lined-locking",
   "metadata": {},
   "outputs": [],
   "source": [
    "tournament_weights.reset_index()[\"tournament_id\"].apply(lambda x: tournaments[x][\"name\"]).head(20)"
   ]
  },
  {
   "cell_type": "code",
   "execution_count": null,
   "id": "recent-jefferson",
   "metadata": {},
   "outputs": [],
   "source": [
    "tournament_weights.reset_index()[\"tournament_id\"].apply(lambda x: tournaments[x][\"name\"]).tail(20)"
   ]
  },
  {
   "cell_type": "code",
   "execution_count": 57,
   "id": "quick-salmon",
   "metadata": {},
   "outputs": [],
   "source": [
    "def get_top_players(parameters, n=20):\n",
    "    player_weights = {}\n",
    "    for i, c in enumerate(encoder.get_feature_names()):\n",
    "        if c.startswith(\"x0_\"):\n",
    "            player_weights[int(c[3:])] = parameters[i]\n",
    "    top_players = sorted([(k, v) for k, v in player_weights.items()], reverse=True, key=lambda x: x[1])[:n]\n",
    "    print(top_players)\n",
    "    top_players = [\n",
    "        players[i][\"surname\"] + \" \" + \n",
    "        players[i][\"name\"] + \" \" + \n",
    "        players[i][\"patronymic\"] + \" \" + str(i) \n",
    "        for i, _ in top_players\n",
    "    ]\n",
    "    return top_players"
   ]
  },
  {
   "cell_type": "code",
   "execution_count": null,
   "id": "swedish-regard",
   "metadata": {},
   "outputs": [],
   "source": [
    "player_weights = {}\n",
    "for i, c in enumerate(encoder.get_feature_names()):\n",
    "    if c.startswith(\"x0_\"):\n",
    "        player_weights[int(c[3:])] = parameters[i + 1]"
   ]
  },
  {
   "cell_type": "code",
   "execution_count": null,
   "id": "plain-trauma",
   "metadata": {},
   "outputs": [],
   "source": [
    "top_20_players = sorted([(k, v) for k, v in player_weights.items()], reverse=True, key=lambda x: x[1])[:20]"
   ]
  },
  {
   "cell_type": "code",
   "execution_count": null,
   "id": "proprietary-sampling",
   "metadata": {},
   "outputs": [],
   "source": [
    "top_20_players = {v for v, _ in top_20_players}"
   ]
  },
  {
   "cell_type": "code",
   "execution_count": null,
   "id": "subsequent-hygiene",
   "metadata": {},
   "outputs": [],
   "source": [
    "[players[i][\"surname\"] + \" \" + players[i][\"name\"] + \" \" + players[i][\"patronymic\"] + \" \" + str(i) for i in top_20_players]"
   ]
  },
  {
   "cell_type": "code",
   "execution_count": null,
   "id": "beneficial-switch",
   "metadata": {},
   "outputs": [],
   "source": [
    "question_answer_data[question_answer_data[\"player\"].isin(top_20_players)].groupby(\"player\")[\"tournament_id\"].nunique()"
   ]
  },
  {
   "cell_type": "code",
   "execution_count": null,
   "id": "promotional-evolution",
   "metadata": {},
   "outputs": [],
   "source": []
  }
 ],
 "metadata": {
  "kernelspec": {
   "display_name": "Python 3",
   "language": "python",
   "name": "python3"
  },
  "language_info": {
   "codemirror_mode": {
    "name": "ipython",
    "version": 3
   },
   "file_extension": ".py",
   "mimetype": "text/x-python",
   "name": "python",
   "nbconvert_exporter": "python",
   "pygments_lexer": "ipython3",
   "version": "3.9.2"
  }
 },
 "nbformat": 4,
 "nbformat_minor": 5
}
