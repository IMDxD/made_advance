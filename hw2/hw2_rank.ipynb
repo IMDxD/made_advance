{
 "cells": [
  {
   "cell_type": "code",
   "execution_count": 1,
   "id": "flying-sport",
   "metadata": {
    "tags": []
   },
   "outputs": [],
   "source": [
    "import pickle\n",
    "from datetime import datetime\n",
    "from dateutil.tz import tzoffset\n",
    "\n",
    "import numpy as np\n",
    "import matplotlib.pyplot as plt\n",
    "import pandas as pd\n",
    "import seaborn as sns\n",
    "import statsmodels.api as sm\n",
    "from scipy.sparse import hstack\n",
    "from scipy.stats import kendalltau, spearmanr\n",
    "from scipy.optimize import minimize, lbfgsb\n",
    "from sklearn.preprocessing import LabelEncoder"
   ]
  },
  {
   "cell_type": "code",
   "execution_count": 2,
   "id": "frequent-header",
   "metadata": {},
   "outputs": [],
   "source": [
    "with open(\"players.pkl\", \"rb\") as fio:\n",
    "    players = pickle.load(fio)"
   ]
  },
  {
   "cell_type": "code",
   "execution_count": 3,
   "id": "employed-target",
   "metadata": {},
   "outputs": [],
   "source": [
    "with open(\"results.pkl\", \"rb\") as fio:\n",
    "    results = pickle.load(fio)"
   ]
  },
  {
   "cell_type": "code",
   "execution_count": 4,
   "id": "saving-meditation",
   "metadata": {},
   "outputs": [],
   "source": [
    "with open(\"tournaments.pkl\", \"rb\") as fio:\n",
    "    tournaments = pickle.load(fio)"
   ]
  },
  {
   "cell_type": "code",
   "execution_count": 5,
   "id": "supposed-number",
   "metadata": {},
   "outputs": [],
   "source": [
    "dateformat = \"%Y-%m-%dT%H:%M:%S%z\""
   ]
  },
  {
   "cell_type": "code",
   "execution_count": 6,
   "id": "accessible-yukon",
   "metadata": {
    "tags": []
   },
   "outputs": [],
   "source": [
    "train_data =  []\n",
    "test_data = []\n",
    "\n",
    "for key, value in results.items():\n",
    "    for team in value:\n",
    "        for team_member in team[\"teamMembers\"]:\n",
    "            tournament_year = datetime.strptime(tournaments[key][\"dateStart\"], dateformat).year\n",
    "            if team.get(\"mask\", None) and tournament_year == 2019:\n",
    "                train_data.append({\n",
    "                    \"tournament_id\": key,\n",
    "                    \"tournament_name\": tournaments.get(key).get(\"name\"),\n",
    "                    \"team_id\": team[\"team\"][\"id\"],\n",
    "                    \"team_name\": team[\"team\"][\"name\"],\n",
    "                    \"questions_mask\": team.get(\"mask\", None),\n",
    "                    \"position\": team.get(\"position\", None),\n",
    "                    \"player_id\": team_member[\"player\"][\"id\"],\n",
    "                    \"player_name\": team_member[\"player\"][\"surname\"] + \" \" + \\\n",
    "                                   team_member[\"player\"][\"name\"] + \" \" + \\\n",
    "                                   team_member[\"player\"][\"patronymic\"]\n",
    "                })\n",
    "            elif team.get(\"mask\", None) and tournament_year == 2020:\n",
    "                test_data.append({\n",
    "                    \"tournament_id\": key,\n",
    "                    \"tournament_name\": tournaments.get(key).get(\"name\"),\n",
    "                    \"team_id\": team[\"team\"][\"id\"],\n",
    "                    \"team_name\": team[\"team\"][\"name\"],\n",
    "                    \"questions_mask\": team.get(\"mask\", None),\n",
    "                    \"position\": team.get(\"position\", None),\n",
    "                    \"player_id\": team_member[\"player\"][\"id\"],\n",
    "                    \"player_name\": team_member[\"player\"][\"surname\"] + \" \" + \\\n",
    "                                   team_member[\"player\"][\"name\"] + \" \" + \\\n",
    "                                   team_member[\"player\"][\"patronymic\"]\n",
    "                })"
   ]
  },
  {
   "cell_type": "code",
   "execution_count": 7,
   "id": "instrumental-description",
   "metadata": {},
   "outputs": [],
   "source": [
    "train_data = pd.DataFrame(train_data)\n",
    "test_data = pd.DataFrame(test_data)"
   ]
  },
  {
   "cell_type": "code",
   "execution_count": 8,
   "id": "specified-comedy",
   "metadata": {},
   "outputs": [],
   "source": [
    "del results\n",
    "del tournaments\n",
    "del players"
   ]
  },
  {
   "cell_type": "code",
   "execution_count": 9,
   "id": "strange-finish",
   "metadata": {},
   "outputs": [
    {
     "name": "stderr",
     "output_type": "stream",
     "text": [
      "/home/imd/miniconda3/envs/made_advance/lib/python3.9/site-packages/seaborn/_decorators.py:36: FutureWarning: Pass the following variable as a keyword arg: x. From version 0.12, the only valid positional argument will be `data`, and passing other arguments without an explicit keyword will result in an error or misinterpretation.\n",
      "  warnings.warn(\n"
     ]
    },
    {
     "data": {
      "image/png": "[encoded data removed]",
      "text/plain": [
       "<Figure size 432x288 with 1 Axes>"
      ]
     },
     "metadata": {
      "needs_background": "light"
     },
     "output_type": "display_data"
    }
   ],
   "source": [
    "sns.boxplot(train_data.groupby([\"team_id\", \"tournament_id\"])[\"player_id\"].nunique());"
   ]
  },
  {
   "cell_type": "code",
   "execution_count": 10,
   "id": "forward-graphics",
   "metadata": {},
   "outputs": [
    {
     "name": "stderr",
     "output_type": "stream",
     "text": [
      "/home/imd/miniconda3/envs/made_advance/lib/python3.9/site-packages/seaborn/_decorators.py:36: FutureWarning: Pass the following variable as a keyword arg: x. From version 0.12, the only valid positional argument will be `data`, and passing other arguments without an explicit keyword will result in an error or misinterpretation.\n",
      "  warnings.warn(\n"
     ]
    },
    {
     "data": {
      "image/png": "[encoded data removed]",
      "text/plain": [
       "<Figure size 432x288 with 1 Axes>"
      ]
     },
     "metadata": {
      "needs_background": "light"
     },
     "output_type": "display_data"
    }
   ],
   "source": [
    "sns.boxplot(test_data.groupby([\"team_id\", \"tournament_id\"])[\"player_id\"].nunique());"
   ]
  },
  {
   "cell_type": "code",
   "execution_count": null,
   "id": "twenty-infrastructure",
   "metadata": {},
   "outputs": [],
   "source": [
    "train_data[train_data.groupby([\"team_id\", \"tournament_id\"])[\"player_id\"].transform(\"nunique\") > 6][\"tournament_id\"].nunique()"
   ]
  },
  {
   "cell_type": "code",
   "execution_count": null,
   "id": "silver-pharmaceutical",
   "metadata": {},
   "outputs": [],
   "source": []
  },
  {
   "cell_type": "code",
   "execution_count": null,
   "id": "minor-landscape",
   "metadata": {},
   "outputs": [],
   "source": []
  },
  {
   "cell_type": "code",
   "execution_count": null,
   "id": "entitled-attitude",
   "metadata": {},
   "outputs": [],
   "source": []
  },
  {
   "cell_type": "code",
   "execution_count": null,
   "id": "asian-burlington",
   "metadata": {},
   "outputs": [],
   "source": []
  },
  {
   "cell_type": "code",
   "execution_count": 9,
   "id": "conventional-belle",
   "metadata": {},
   "outputs": [
    {
     "data": {
      "text/plain": [
       "(451783, 112841)"
      ]
     },
     "execution_count": 9,
     "metadata": {},
     "output_type": "execute_result"
    }
   ],
   "source": [
    "train_data.shape[0], test_data.shape[0]"
   ]
  },
  {
   "cell_type": "code",
   "execution_count": 10,
   "id": "center-confusion",
   "metadata": {},
   "outputs": [
    {
     "data": {
      "text/plain": [
       "(675, 173)"
      ]
     },
     "execution_count": 10,
     "metadata": {},
     "output_type": "execute_result"
    }
   ],
   "source": [
    "train_data[\"tournament_id\"].nunique(), test_data[\"tournament_id\"].nunique()"
   ]
  },
  {
   "cell_type": "code",
   "execution_count": 11,
   "id": "satellite-roulette",
   "metadata": {},
   "outputs": [],
   "source": [
    "train_data[\"mask_length\"] = train_data[\"questions_mask\"].apply(len)"
   ]
  },
  {
   "cell_type": "code",
   "execution_count": 12,
   "id": "organizational-assurance",
   "metadata": {},
   "outputs": [],
   "source": [
    "tournament_mask_lengths = train_data.groupby(\"tournament_id\")[\"mask_length\"].nunique()"
   ]
  },
  {
   "cell_type": "code",
   "execution_count": 13,
   "id": "complicated-attitude",
   "metadata": {},
   "outputs": [],
   "source": [
    "tournaments_to_remove = tournament_mask_lengths[tournament_mask_lengths > 1].index"
   ]
  },
  {
   "cell_type": "code",
   "execution_count": 14,
   "id": "portable-council",
   "metadata": {},
   "outputs": [],
   "source": [
    "train_data = train_data[~train_data[\"tournament_id\"].isin(tournaments_to_remove)].copy()"
   ]
  },
  {
   "cell_type": "code",
   "execution_count": 15,
   "id": "uniform-premiere",
   "metadata": {},
   "outputs": [],
   "source": [
    "train_data = train_data[train_data.groupby([\"team_id\", \"tournament_id\"])[\"player_id\"].transform(\"nunique\") <= 6].copy()"
   ]
  },
  {
   "cell_type": "code",
   "execution_count": 16,
   "id": "purple-toilet",
   "metadata": {},
   "outputs": [],
   "source": [
    "question_answer_data = {\n",
    "    \"question\": [],\n",
    "    \"player\": [],\n",
    "    \"initial_label\": [],\n",
    "    \"team_id\": [],\n",
    "    \"tournament_id\": []\n",
    "}\n",
    "for tour_id, team_id, player_id, mask in zip(train_data[\"tournament_id\"], train_data[\"team_id\"], train_data[\"player_id\"], train_data[\"questions_mask\"]):\n",
    "    for i, result in enumerate(mask):\n",
    "        if result != \"X\" and result != \"?\":\n",
    "            question_answer_data[\"tournament_id\"].append(tour_id)\n",
    "            question_answer_data[\"team_id\"].append(team_id)\n",
    "            question_answer_data[\"question\"].append(f\"{tour_id}_{i}\")\n",
    "            question_answer_data[\"player\"].append(player_id)\n",
    "            question_answer_data[\"initial_label\"].append(int(result))"
   ]
  },
  {
   "cell_type": "code",
   "execution_count": 17,
   "id": "designing-ratio",
   "metadata": {},
   "outputs": [],
   "source": [
    "question_answer_data = pd.DataFrame(question_answer_data)"
   ]
  },
  {
   "cell_type": "code",
   "execution_count": 18,
   "id": "shared-draft",
   "metadata": {},
   "outputs": [],
   "source": [
    "question_answer_data[\"player\"] = question_answer_data[\"player\"].astype(np.int32)\n",
    "question_answer_data[\"team_id\"] = question_answer_data[\"team_id\"].astype(np.int32)\n",
    "question_answer_data[\"tournament_id\"] = question_answer_data[\"tournament_id\"].astype(np.int32)\n",
    "question_answer_data[\"question\"] = question_answer_data[\"question\"]\n",
    "question_answer_data[\"initial_label\"] = question_answer_data[\"initial_label\"].astype(np.uint8)"
   ]
  },
  {
   "cell_type": "code",
   "execution_count": 19,
   "id": "velvet-scale",
   "metadata": {},
   "outputs": [],
   "source": [
    "encoder = LabelEncoder()"
   ]
  },
  {
   "cell_type": "code",
   "execution_count": 20,
   "id": "recreational-plastic",
   "metadata": {},
   "outputs": [
    {
     "data": {
      "text/plain": [
       "LabelEncoder()"
      ]
     },
     "execution_count": 20,
     "metadata": {},
     "output_type": "execute_result"
    }
   ],
   "source": [
    "encoder.fit(question_answer_data[\"player\"].astype(str).append(question_answer_data[\"question\"]))"
   ]
  },
  {
   "cell_type": "code",
   "execution_count": 21,
   "id": "invalid-december",
   "metadata": {},
   "outputs": [],
   "source": [
    "question_answer_data[\"player\"] = encoder.transform(question_answer_data[\"player\"].astype(str))"
   ]
  },
  {
   "cell_type": "code",
   "execution_count": 22,
   "id": "typical-access",
   "metadata": {},
   "outputs": [],
   "source": [
    "question_answer_data[\"question\"] = encoder.transform(question_answer_data[\"question\"])"
   ]
  },
  {
   "cell_type": "code",
   "execution_count": 23,
   "id": "constant-amendment",
   "metadata": {},
   "outputs": [],
   "source": [
    "def sigmoid(x, theta):\n",
    "    z = theta[-1] + theta[x[\"player\"]] + theta[x[\"question\"]]\n",
    "    z[z > 0] = 1 / (1 + np.exp(-z[z > 0]))\n",
    "    z[z <= 0] = np.exp(z[z <= 0]) / (1 + np.exp(z[z <= 0]))\n",
    "    return z"
   ]
  },
  {
   "cell_type": "code",
   "execution_count": 24,
   "id": "numerical-sunrise",
   "metadata": {},
   "outputs": [],
   "source": [
    "def hypothesis(theta, x):\n",
    "    return sigmoid(x, theta)"
   ]
  },
  {
   "cell_type": "code",
   "execution_count": 25,
   "id": "colonial-orleans",
   "metadata": {},
   "outputs": [],
   "source": [
    "EPSILON = 1e-8\n",
    "\n",
    "def cost_function(theta, x, y):\n",
    "    m = x.shape[0]\n",
    "    h = hypothesis(theta, x)\n",
    "    cost = h\n",
    "    cost[y == 1] = np.log(cost[y == 1] + EPSILON)\n",
    "    cost[y == 0] = np.log(1 - cost[y == 0] + EPSILON)\n",
    "    idx = (y > 0) & (y < 1)\n",
    "    cost[idx] = y[idx] * np.log(cost[idx] + EPSILON) + (1 - y[idx]) * np.log(1 - h[idx] + EPSILON)\n",
    "    return -cost.mean()"
   ]
  },
  {
   "cell_type": "code",
   "execution_count": 26,
   "id": "foreign-catalog",
   "metadata": {},
   "outputs": [],
   "source": [
    "def gradient(theta, x, y):\n",
    "    m = x.shape[0]\n",
    "    h = hypothesis(theta, x)\n",
    "    grad = np.zeros_like(theta)\n",
    "    x = x.copy()\n",
    "    x[\"step\"] = h - y\n",
    "    grad[-1] = x[\"step\"].sum()\n",
    "    ps = x.groupby(\"player\")[\"step\"].sum()\n",
    "    qs = x.groupby(\"question\")[\"step\"].sum()\n",
    "    grad[ps.index] = ps.values\n",
    "    grad[qs.index] = qs.values\n",
    "    return grad / m"
   ]
  },
  {
   "cell_type": "code",
   "execution_count": 27,
   "id": "different-cambridge",
   "metadata": {},
   "outputs": [],
   "source": [
    "def fit(x, y, theta, C=1):\n",
    "    opt_weights = lbfgsb.fmin_l_bfgs_b(func=cost_function, x0=theta, fprime=gradient, args=(x, y.flatten()), maxiter=100)\n",
    "    return opt_weights[0]"
   ]
  },
  {
   "cell_type": "code",
   "execution_count": 28,
   "id": "matched-register",
   "metadata": {},
   "outputs": [],
   "source": [
    "def predict(x, theta):\n",
    "    return sigmoid(x, theta)"
   ]
  },
  {
   "cell_type": "code",
   "execution_count": 29,
   "id": "numerous-christian",
   "metadata": {},
   "outputs": [
    {
     "name": "stdout",
     "output_type": "stream",
     "text": [
      "CPU times: user 3min 39s, sys: 30.2 s, total: 4min 9s\n",
      "Wall time: 4min 10s\n"
     ]
    }
   ],
   "source": [
    "%%time\n",
    "parameters = fit(question_answer_data[[\"player\", \"question\"]], question_answer_data[\"initial_label\"].values, theta = np.zeros(len(encoder.classes_) + 1))"
   ]
  },
  {
   "cell_type": "code",
   "execution_count": 30,
   "id": "approved-asthma",
   "metadata": {},
   "outputs": [],
   "source": [
    "def calc_metrics(data, encoder, parameters):\n",
    "    player_weights = {}\n",
    "    for i, c in enumerate(encoder.classes_):\n",
    "        if \"_\" not in c:\n",
    "            player_weights[int(c)] = parameters[i]\n",
    "    data[\"player_weights\"] = data[\"player_id\"].map(player_weights)\n",
    "    data[\"player_weights\"].fillna(np.mean(list(player_weights.values())), inplace=True)\n",
    "    data = data.groupby([\"tournament_id\", \"team_id\"]).agg({\"player_weights\": \"sum\", \"position\": \"first\"})\n",
    "    data.sort_values([\"tournament_id\", \"player_weights\"], ascending=[True, False], inplace=True)\n",
    "    data[\"predicted_position\"] = data.groupby([\"tournament_id\"]).cumcount() + 1\n",
    "    spear = data.groupby(\"tournament_id\").apply(lambda x: spearmanr(x[\"position\"], x[\"predicted_position\"]).correlation).mean()\n",
    "    kendl = data.groupby(\"tournament_id\").apply(lambda x: kendalltau(x[\"position\"], x[\"predicted_position\"]).correlation).mean()\n",
    "    print(f\"spearman: {spear}\")\n",
    "    print(f\"kendl: {kendl}\")"
   ]
  },
  {
   "cell_type": "code",
   "execution_count": 31,
   "id": "sorted-order",
   "metadata": {},
   "outputs": [
    {
     "name": "stdout",
     "output_type": "stream",
     "text": [
      "spearman: 0.7605415445259895\n",
      "kendl: 0.6006331041734562\n"
     ]
    }
   ],
   "source": [
    "calc_metrics(test_data, encoder, parameters)"
   ]
  },
  {
   "cell_type": "code",
   "execution_count": 32,
   "id": "naked-capability",
   "metadata": {},
   "outputs": [],
   "source": [
    "def m_step(data, encoder, parameters):\n",
    "    return fit(data[[\"player\", \"question\"]], data[\"label\"].values, parameters)"
   ]
  },
  {
   "cell_type": "code",
   "execution_count": 33,
   "id": "decent-blood",
   "metadata": {},
   "outputs": [],
   "source": [
    "def e_step(data, params):\n",
    "    data[\"label\"] = predict(question_answer_data, params)\n",
    "    data.loc[data[\"initial_label\"] == 0, \"label\"] = 0\n",
    "    idx = data[\"initial_label\"] == 1\n",
    "    sp = data.loc[idx].groupby([\"tournament_id\", \"team_id\", \"question\"])[\"label\"].transform(lambda x: 1 - np.prod(1 - x.values))\n",
    "    data.loc[idx, \"label\"] = data.loc[idx, \"label\"] / sp  \n",
    "    return data"
   ]
  },
  {
   "cell_type": "code",
   "execution_count": 34,
   "id": "loving-heritage",
   "metadata": {},
   "outputs": [
    {
     "name": "stdout",
     "output_type": "stream",
     "text": [
      "Iter: 0\n",
      "spearman: 0.7631364784426521\n",
      "kendl: 0.6032029191139647\n",
      "Iter: 1\n",
      "spearman: 0.7631343509904771\n",
      "kendl: 0.6032008950812024\n",
      "Iter: 2\n",
      "spearman: 0.7696377278823081\n",
      "kendl: 0.6100757705339271\n",
      "Iter: 3\n",
      "spearman: 0.7696351467588806\n",
      "kendl: 0.6100740048605889\n",
      "Iter: 4\n",
      "spearman: 0.7687539145556126\n",
      "kendl: 0.6096175527406765\n",
      "Iter: 5\n",
      "spearman: 0.7687483497423888\n",
      "kendl: 0.6096072245784743\n",
      "Iter: 6\n",
      "spearman: 0.772328309365498\n",
      "kendl: 0.6129626470047876\n",
      "Iter: 7\n",
      "spearman: 0.7723282183385098\n",
      "kendl: 0.6129623476821713\n",
      "Iter: 8\n",
      "spearman: 0.7723305759140073\n",
      "kendl: 0.6131485921951056\n",
      "Iter: 9\n",
      "spearman: 0.7723305509297371\n",
      "kendl: 0.6131485740533915\n",
      "Iter: 10\n",
      "spearman: 0.7726069105847433\n",
      "kendl: 0.613601918557746\n",
      "Iter: 11\n",
      "spearman: 0.7740031856404525\n",
      "kendl: 0.61498956507903\n",
      "Iter: 12\n",
      "spearman: 0.7740029749721916\n",
      "kendl: 0.6149892587574666\n",
      "Iter: 13\n",
      "spearman: 0.7746393527553024\n",
      "kendl: 0.6162332492220087\n",
      "Iter: 14\n",
      "spearman: 0.7746395684787672\n",
      "kendl: 0.6162335681293916\n",
      "Iter: 15\n",
      "spearman: 0.7746395109335379\n",
      "kendl: 0.6162334108605609\n",
      "Iter: 16\n",
      "spearman: 0.7746388374002214\n",
      "kendl: 0.6162324795733972\n",
      "Iter: 17\n",
      "spearman: 0.7754007407877848\n",
      "kendl: 0.6169222760239937\n",
      "Iter: 18\n",
      "spearman: 0.7754007407877848\n",
      "kendl: 0.6169222760239937\n"
     ]
    },
    {
     "ename": "KeyboardInterrupt",
     "evalue": "",
     "output_type": "error",
     "traceback": [
      "\u001b[0;31m---------------------------------------------------------------------------\u001b[0m",
      "\u001b[0;31mKeyboardInterrupt\u001b[0m                         Traceback (most recent call last)",
      "\u001b[0;32m<ipython-input-34-d66de74b164b>\u001b[0m in \u001b[0;36m<module>\u001b[0;34m\u001b[0m\n\u001b[1;32m      1\u001b[0m \u001b[0;32mfor\u001b[0m \u001b[0mi\u001b[0m \u001b[0;32min\u001b[0m \u001b[0mrange\u001b[0m\u001b[0;34m(\u001b[0m\u001b[0;36m0\u001b[0m\u001b[0;34m,\u001b[0m \u001b[0;36m20\u001b[0m\u001b[0;34m)\u001b[0m\u001b[0;34m:\u001b[0m\u001b[0;34m\u001b[0m\u001b[0;34m\u001b[0m\u001b[0m\n\u001b[1;32m      2\u001b[0m     \u001b[0mquestion_answer_data\u001b[0m \u001b[0;34m=\u001b[0m \u001b[0me_step\u001b[0m\u001b[0;34m(\u001b[0m\u001b[0mquestion_answer_data\u001b[0m\u001b[0;34m,\u001b[0m \u001b[0mparameters\u001b[0m\u001b[0;34m)\u001b[0m\u001b[0;34m\u001b[0m\u001b[0;34m\u001b[0m\u001b[0m\n\u001b[0;32m----> 3\u001b[0;31m     \u001b[0mparameters\u001b[0m \u001b[0;34m=\u001b[0m \u001b[0mm_step\u001b[0m\u001b[0;34m(\u001b[0m\u001b[0mquestion_answer_data\u001b[0m\u001b[0;34m,\u001b[0m \u001b[0mencoder\u001b[0m\u001b[0;34m,\u001b[0m \u001b[0mparameters\u001b[0m\u001b[0;34m)\u001b[0m\u001b[0;34m\u001b[0m\u001b[0;34m\u001b[0m\u001b[0m\n\u001b[0m\u001b[1;32m      4\u001b[0m     \u001b[0mprint\u001b[0m\u001b[0;34m(\u001b[0m\u001b[0;34mf\"Iter: {i}\"\u001b[0m\u001b[0;34m)\u001b[0m\u001b[0;34m\u001b[0m\u001b[0;34m\u001b[0m\u001b[0m\n\u001b[1;32m      5\u001b[0m     \u001b[0mcalc_metrics\u001b[0m\u001b[0;34m(\u001b[0m\u001b[0mtest_data\u001b[0m\u001b[0;34m,\u001b[0m \u001b[0mencoder\u001b[0m\u001b[0;34m,\u001b[0m \u001b[0mparameters\u001b[0m\u001b[0;34m)\u001b[0m\u001b[0;34m\u001b[0m\u001b[0;34m\u001b[0m\u001b[0m\n",
      "\u001b[0;32m<ipython-input-32-a475e7f66dd9>\u001b[0m in \u001b[0;36mm_step\u001b[0;34m(data, encoder, parameters)\u001b[0m\n\u001b[1;32m      1\u001b[0m \u001b[0;32mdef\u001b[0m \u001b[0mm_step\u001b[0m\u001b[0;34m(\u001b[0m\u001b[0mdata\u001b[0m\u001b[0;34m,\u001b[0m \u001b[0mencoder\u001b[0m\u001b[0;34m,\u001b[0m \u001b[0mparameters\u001b[0m\u001b[0;34m)\u001b[0m\u001b[0;34m:\u001b[0m\u001b[0;34m\u001b[0m\u001b[0;34m\u001b[0m\u001b[0m\n\u001b[0;32m----> 2\u001b[0;31m     \u001b[0;32mreturn\u001b[0m \u001b[0mfit\u001b[0m\u001b[0;34m(\u001b[0m\u001b[0mdata\u001b[0m\u001b[0;34m[\u001b[0m\u001b[0;34m[\u001b[0m\u001b[0;34m\"player\"\u001b[0m\u001b[0;34m,\u001b[0m \u001b[0;34m\"question\"\u001b[0m\u001b[0;34m]\u001b[0m\u001b[0;34m]\u001b[0m\u001b[0;34m,\u001b[0m \u001b[0mdata\u001b[0m\u001b[0;34m[\u001b[0m\u001b[0;34m\"label\"\u001b[0m\u001b[0;34m]\u001b[0m\u001b[0;34m.\u001b[0m\u001b[0mvalues\u001b[0m\u001b[0;34m,\u001b[0m \u001b[0mparameters\u001b[0m\u001b[0;34m)\u001b[0m\u001b[0;34m\u001b[0m\u001b[0;34m\u001b[0m\u001b[0m\n\u001b[0m",
      "\u001b[0;32m<ipython-input-27-2318dc7474d5>\u001b[0m in \u001b[0;36mfit\u001b[0;34m(x, y, theta, C)\u001b[0m\n\u001b[1;32m      1\u001b[0m \u001b[0;32mdef\u001b[0m \u001b[0mfit\u001b[0m\u001b[0;34m(\u001b[0m\u001b[0mx\u001b[0m\u001b[0;34m,\u001b[0m \u001b[0my\u001b[0m\u001b[0;34m,\u001b[0m \u001b[0mtheta\u001b[0m\u001b[0;34m,\u001b[0m \u001b[0mC\u001b[0m\u001b[0;34m=\u001b[0m\u001b[0;36m1\u001b[0m\u001b[0;34m)\u001b[0m\u001b[0;34m:\u001b[0m\u001b[0;34m\u001b[0m\u001b[0;34m\u001b[0m\u001b[0m\n\u001b[0;32m----> 2\u001b[0;31m     \u001b[0mopt_weights\u001b[0m \u001b[0;34m=\u001b[0m \u001b[0mlbfgsb\u001b[0m\u001b[0;34m.\u001b[0m\u001b[0mfmin_l_bfgs_b\u001b[0m\u001b[0;34m(\u001b[0m\u001b[0mfunc\u001b[0m\u001b[0;34m=\u001b[0m\u001b[0mcost_function\u001b[0m\u001b[0;34m,\u001b[0m \u001b[0mx0\u001b[0m\u001b[0;34m=\u001b[0m\u001b[0mtheta\u001b[0m\u001b[0;34m,\u001b[0m \u001b[0mfprime\u001b[0m\u001b[0;34m=\u001b[0m\u001b[0mgradient\u001b[0m\u001b[0;34m,\u001b[0m \u001b[0margs\u001b[0m\u001b[0;34m=\u001b[0m\u001b[0;34m(\u001b[0m\u001b[0mx\u001b[0m\u001b[0;34m,\u001b[0m \u001b[0my\u001b[0m\u001b[0;34m.\u001b[0m\u001b[0mflatten\u001b[0m\u001b[0;34m(\u001b[0m\u001b[0;34m)\u001b[0m\u001b[0;34m)\u001b[0m\u001b[0;34m,\u001b[0m \u001b[0mmaxiter\u001b[0m\u001b[0;34m=\u001b[0m\u001b[0;36m100\u001b[0m\u001b[0;34m)\u001b[0m\u001b[0;34m\u001b[0m\u001b[0;34m\u001b[0m\u001b[0m\n\u001b[0m\u001b[1;32m      3\u001b[0m     \u001b[0;32mreturn\u001b[0m \u001b[0mopt_weights\u001b[0m\u001b[0;34m[\u001b[0m\u001b[0;36m0\u001b[0m\u001b[0;34m]\u001b[0m\u001b[0;34m\u001b[0m\u001b[0;34m\u001b[0m\u001b[0m\n",
      "\u001b[0;32m~/miniconda3/envs/made_advance/lib/python3.9/site-packages/scipy/optimize/lbfgsb.py\u001b[0m in \u001b[0;36mfmin_l_bfgs_b\u001b[0;34m(func, x0, fprime, args, approx_grad, bounds, m, factr, pgtol, epsilon, iprint, maxfun, maxiter, disp, callback, maxls)\u001b[0m\n\u001b[1;32m    195\u001b[0m             'maxls': maxls}\n\u001b[1;32m    196\u001b[0m \u001b[0;34m\u001b[0m\u001b[0m\n\u001b[0;32m--> 197\u001b[0;31m     res = _minimize_lbfgsb(fun, x0, args=args, jac=jac, bounds=bounds,\n\u001b[0m\u001b[1;32m    198\u001b[0m                            **opts)\n\u001b[1;32m    199\u001b[0m     d = {'grad': res['jac'],\n",
      "\u001b[0;32m~/miniconda3/envs/made_advance/lib/python3.9/site-packages/scipy/optimize/lbfgsb.py\u001b[0m in \u001b[0;36m_minimize_lbfgsb\u001b[0;34m(fun, x0, args, jac, bounds, disp, maxcor, ftol, gtol, eps, maxfun, maxiter, iprint, callback, maxls, finite_diff_rel_step, **unknown_options)\u001b[0m\n\u001b[1;32m    304\u001b[0m             \u001b[0miprint\u001b[0m \u001b[0;34m=\u001b[0m \u001b[0mdisp\u001b[0m\u001b[0;34m\u001b[0m\u001b[0;34m\u001b[0m\u001b[0m\n\u001b[1;32m    305\u001b[0m \u001b[0;34m\u001b[0m\u001b[0m\n\u001b[0;32m--> 306\u001b[0;31m     sf = _prepare_scalar_function(fun, x0, jac=jac, args=args, epsilon=eps,\n\u001b[0m\u001b[1;32m    307\u001b[0m                                   \u001b[0mbounds\u001b[0m\u001b[0;34m=\u001b[0m\u001b[0mnew_bounds\u001b[0m\u001b[0;34m,\u001b[0m\u001b[0;34m\u001b[0m\u001b[0;34m\u001b[0m\u001b[0m\n\u001b[1;32m    308\u001b[0m                                   finite_diff_rel_step=finite_diff_rel_step)\n",
      "\u001b[0;32m~/miniconda3/envs/made_advance/lib/python3.9/site-packages/scipy/optimize/optimize.py\u001b[0m in \u001b[0;36m_prepare_scalar_function\u001b[0;34m(fun, x0, jac, args, bounds, epsilon, finite_diff_rel_step, hess)\u001b[0m\n\u001b[1;32m    259\u001b[0m     \u001b[0;31m# ScalarFunction caches. Reuse of fun(x) during grad\u001b[0m\u001b[0;34m\u001b[0m\u001b[0;34m\u001b[0m\u001b[0;34m\u001b[0m\u001b[0m\n\u001b[1;32m    260\u001b[0m     \u001b[0;31m# calculation reduces overall function evaluations.\u001b[0m\u001b[0;34m\u001b[0m\u001b[0;34m\u001b[0m\u001b[0;34m\u001b[0m\u001b[0m\n\u001b[0;32m--> 261\u001b[0;31m     sf = ScalarFunction(fun, x0, args, grad, hess,\n\u001b[0m\u001b[1;32m    262\u001b[0m                         finite_diff_rel_step, bounds, epsilon=epsilon)\n\u001b[1;32m    263\u001b[0m \u001b[0;34m\u001b[0m\u001b[0m\n",
      "\u001b[0;32m~/miniconda3/envs/made_advance/lib/python3.9/site-packages/scipy/optimize/_differentiable_functions.py\u001b[0m in \u001b[0;36m__init__\u001b[0;34m(self, fun, x0, args, grad, hess, finite_diff_rel_step, finite_diff_bounds, epsilon)\u001b[0m\n\u001b[1;32m    153\u001b[0m \u001b[0;34m\u001b[0m\u001b[0m\n\u001b[1;32m    154\u001b[0m         \u001b[0mself\u001b[0m\u001b[0;34m.\u001b[0m\u001b[0m_update_grad_impl\u001b[0m \u001b[0;34m=\u001b[0m \u001b[0mupdate_grad\u001b[0m\u001b[0;34m\u001b[0m\u001b[0;34m\u001b[0m\u001b[0m\n\u001b[0;32m--> 155\u001b[0;31m         \u001b[0mself\u001b[0m\u001b[0;34m.\u001b[0m\u001b[0m_update_grad\u001b[0m\u001b[0;34m(\u001b[0m\u001b[0;34m)\u001b[0m\u001b[0;34m\u001b[0m\u001b[0;34m\u001b[0m\u001b[0m\n\u001b[0m\u001b[1;32m    156\u001b[0m \u001b[0;34m\u001b[0m\u001b[0m\n\u001b[1;32m    157\u001b[0m         \u001b[0;31m# Hessian Evaluation\u001b[0m\u001b[0;34m\u001b[0m\u001b[0;34m\u001b[0m\u001b[0;34m\u001b[0m\u001b[0m\n",
      "\u001b[0;32m~/miniconda3/envs/made_advance/lib/python3.9/site-packages/scipy/optimize/_differentiable_functions.py\u001b[0m in \u001b[0;36m_update_grad\u001b[0;34m(self)\u001b[0m\n\u001b[1;32m    229\u001b[0m     \u001b[0;32mdef\u001b[0m \u001b[0m_update_grad\u001b[0m\u001b[0;34m(\u001b[0m\u001b[0mself\u001b[0m\u001b[0;34m)\u001b[0m\u001b[0;34m:\u001b[0m\u001b[0;34m\u001b[0m\u001b[0;34m\u001b[0m\u001b[0m\n\u001b[1;32m    230\u001b[0m         \u001b[0;32mif\u001b[0m \u001b[0;32mnot\u001b[0m \u001b[0mself\u001b[0m\u001b[0;34m.\u001b[0m\u001b[0mg_updated\u001b[0m\u001b[0;34m:\u001b[0m\u001b[0;34m\u001b[0m\u001b[0;34m\u001b[0m\u001b[0m\n\u001b[0;32m--> 231\u001b[0;31m             \u001b[0mself\u001b[0m\u001b[0;34m.\u001b[0m\u001b[0m_update_grad_impl\u001b[0m\u001b[0;34m(\u001b[0m\u001b[0;34m)\u001b[0m\u001b[0;34m\u001b[0m\u001b[0;34m\u001b[0m\u001b[0m\n\u001b[0m\u001b[1;32m    232\u001b[0m             \u001b[0mself\u001b[0m\u001b[0;34m.\u001b[0m\u001b[0mg_updated\u001b[0m \u001b[0;34m=\u001b[0m \u001b[0;32mTrue\u001b[0m\u001b[0;34m\u001b[0m\u001b[0;34m\u001b[0m\u001b[0m\n\u001b[1;32m    233\u001b[0m \u001b[0;34m\u001b[0m\u001b[0m\n",
      "\u001b[0;32m~/miniconda3/envs/made_advance/lib/python3.9/site-packages/scipy/optimize/_differentiable_functions.py\u001b[0m in \u001b[0;36mupdate_grad\u001b[0;34m()\u001b[0m\n\u001b[1;32m    143\u001b[0m \u001b[0;34m\u001b[0m\u001b[0m\n\u001b[1;32m    144\u001b[0m             \u001b[0;32mdef\u001b[0m \u001b[0mupdate_grad\u001b[0m\u001b[0;34m(\u001b[0m\u001b[0;34m)\u001b[0m\u001b[0;34m:\u001b[0m\u001b[0;34m\u001b[0m\u001b[0;34m\u001b[0m\u001b[0m\n\u001b[0;32m--> 145\u001b[0;31m                 \u001b[0mself\u001b[0m\u001b[0;34m.\u001b[0m\u001b[0mg\u001b[0m \u001b[0;34m=\u001b[0m \u001b[0mgrad_wrapped\u001b[0m\u001b[0;34m(\u001b[0m\u001b[0mself\u001b[0m\u001b[0;34m.\u001b[0m\u001b[0mx\u001b[0m\u001b[0;34m)\u001b[0m\u001b[0;34m\u001b[0m\u001b[0;34m\u001b[0m\u001b[0m\n\u001b[0m\u001b[1;32m    146\u001b[0m \u001b[0;34m\u001b[0m\u001b[0m\n\u001b[1;32m    147\u001b[0m         \u001b[0;32melif\u001b[0m \u001b[0mgrad\u001b[0m \u001b[0;32min\u001b[0m \u001b[0mFD_METHODS\u001b[0m\u001b[0;34m:\u001b[0m\u001b[0;34m\u001b[0m\u001b[0;34m\u001b[0m\u001b[0m\n",
      "\u001b[0;32m~/miniconda3/envs/made_advance/lib/python3.9/site-packages/scipy/optimize/_differentiable_functions.py\u001b[0m in \u001b[0;36mgrad_wrapped\u001b[0;34m(x)\u001b[0m\n\u001b[1;32m    140\u001b[0m             \u001b[0;32mdef\u001b[0m \u001b[0mgrad_wrapped\u001b[0m\u001b[0;34m(\u001b[0m\u001b[0mx\u001b[0m\u001b[0;34m)\u001b[0m\u001b[0;34m:\u001b[0m\u001b[0;34m\u001b[0m\u001b[0;34m\u001b[0m\u001b[0m\n\u001b[1;32m    141\u001b[0m                 \u001b[0mself\u001b[0m\u001b[0;34m.\u001b[0m\u001b[0mngev\u001b[0m \u001b[0;34m+=\u001b[0m \u001b[0;36m1\u001b[0m\u001b[0;34m\u001b[0m\u001b[0;34m\u001b[0m\u001b[0m\n\u001b[0;32m--> 142\u001b[0;31m                 \u001b[0;32mreturn\u001b[0m \u001b[0mnp\u001b[0m\u001b[0;34m.\u001b[0m\u001b[0matleast_1d\u001b[0m\u001b[0;34m(\u001b[0m\u001b[0mgrad\u001b[0m\u001b[0;34m(\u001b[0m\u001b[0mx\u001b[0m\u001b[0;34m,\u001b[0m \u001b[0;34m*\u001b[0m\u001b[0margs\u001b[0m\u001b[0;34m)\u001b[0m\u001b[0;34m)\u001b[0m\u001b[0;34m\u001b[0m\u001b[0;34m\u001b[0m\u001b[0m\n\u001b[0m\u001b[1;32m    143\u001b[0m \u001b[0;34m\u001b[0m\u001b[0m\n\u001b[1;32m    144\u001b[0m             \u001b[0;32mdef\u001b[0m \u001b[0mupdate_grad\u001b[0m\u001b[0;34m(\u001b[0m\u001b[0;34m)\u001b[0m\u001b[0;34m:\u001b[0m\u001b[0;34m\u001b[0m\u001b[0;34m\u001b[0m\u001b[0m\n",
      "\u001b[0;32m<ipython-input-26-7a7dd6486bea>\u001b[0m in \u001b[0;36mgradient\u001b[0;34m(theta, x, y)\u001b[0m\n\u001b[1;32m      7\u001b[0m     \u001b[0mgrad\u001b[0m\u001b[0;34m[\u001b[0m\u001b[0;34m-\u001b[0m\u001b[0;36m1\u001b[0m\u001b[0;34m]\u001b[0m \u001b[0;34m=\u001b[0m \u001b[0mx\u001b[0m\u001b[0;34m[\u001b[0m\u001b[0;34m\"step\"\u001b[0m\u001b[0;34m]\u001b[0m\u001b[0;34m.\u001b[0m\u001b[0msum\u001b[0m\u001b[0;34m(\u001b[0m\u001b[0;34m)\u001b[0m\u001b[0;34m\u001b[0m\u001b[0;34m\u001b[0m\u001b[0m\n\u001b[1;32m      8\u001b[0m     \u001b[0mps\u001b[0m \u001b[0;34m=\u001b[0m \u001b[0mx\u001b[0m\u001b[0;34m.\u001b[0m\u001b[0mgroupby\u001b[0m\u001b[0;34m(\u001b[0m\u001b[0;34m\"player\"\u001b[0m\u001b[0;34m)\u001b[0m\u001b[0;34m[\u001b[0m\u001b[0;34m\"step\"\u001b[0m\u001b[0;34m]\u001b[0m\u001b[0;34m.\u001b[0m\u001b[0msum\u001b[0m\u001b[0;34m(\u001b[0m\u001b[0;34m)\u001b[0m\u001b[0;34m\u001b[0m\u001b[0;34m\u001b[0m\u001b[0m\n\u001b[0;32m----> 9\u001b[0;31m     \u001b[0mqs\u001b[0m \u001b[0;34m=\u001b[0m \u001b[0mx\u001b[0m\u001b[0;34m.\u001b[0m\u001b[0mgroupby\u001b[0m\u001b[0;34m(\u001b[0m\u001b[0;34m\"question\"\u001b[0m\u001b[0;34m)\u001b[0m\u001b[0;34m[\u001b[0m\u001b[0;34m\"step\"\u001b[0m\u001b[0;34m]\u001b[0m\u001b[0;34m.\u001b[0m\u001b[0msum\u001b[0m\u001b[0;34m(\u001b[0m\u001b[0;34m)\u001b[0m\u001b[0;34m\u001b[0m\u001b[0;34m\u001b[0m\u001b[0m\n\u001b[0m\u001b[1;32m     10\u001b[0m     \u001b[0mgrad\u001b[0m\u001b[0;34m[\u001b[0m\u001b[0mps\u001b[0m\u001b[0;34m.\u001b[0m\u001b[0mindex\u001b[0m\u001b[0;34m]\u001b[0m \u001b[0;34m=\u001b[0m \u001b[0mps\u001b[0m\u001b[0;34m.\u001b[0m\u001b[0mvalues\u001b[0m\u001b[0;34m\u001b[0m\u001b[0;34m\u001b[0m\u001b[0m\n\u001b[1;32m     11\u001b[0m     \u001b[0mgrad\u001b[0m\u001b[0;34m[\u001b[0m\u001b[0mqs\u001b[0m\u001b[0;34m.\u001b[0m\u001b[0mindex\u001b[0m\u001b[0;34m]\u001b[0m \u001b[0;34m=\u001b[0m \u001b[0mqs\u001b[0m\u001b[0;34m.\u001b[0m\u001b[0mvalues\u001b[0m\u001b[0;34m\u001b[0m\u001b[0;34m\u001b[0m\u001b[0m\n",
      "\u001b[0;32m~/miniconda3/envs/made_advance/lib/python3.9/site-packages/pandas/core/groupby/groupby.py\u001b[0m in \u001b[0;36msum\u001b[0;34m(self, numeric_only, min_count)\u001b[0m\n\u001b[1;32m   1648\u001b[0m         \u001b[0;31m# _agg_general() returns. GH #31422\u001b[0m\u001b[0;34m\u001b[0m\u001b[0;34m\u001b[0m\u001b[0;34m\u001b[0m\u001b[0m\n\u001b[1;32m   1649\u001b[0m         \u001b[0;32mwith\u001b[0m \u001b[0mcom\u001b[0m\u001b[0;34m.\u001b[0m\u001b[0mtemp_setattr\u001b[0m\u001b[0;34m(\u001b[0m\u001b[0mself\u001b[0m\u001b[0;34m,\u001b[0m \u001b[0;34m\"observed\"\u001b[0m\u001b[0;34m,\u001b[0m \u001b[0;32mTrue\u001b[0m\u001b[0;34m)\u001b[0m\u001b[0;34m:\u001b[0m\u001b[0;34m\u001b[0m\u001b[0;34m\u001b[0m\u001b[0m\n\u001b[0;32m-> 1650\u001b[0;31m             result = self._agg_general(\n\u001b[0m\u001b[1;32m   1651\u001b[0m                 \u001b[0mnumeric_only\u001b[0m\u001b[0;34m=\u001b[0m\u001b[0mnumeric_only\u001b[0m\u001b[0;34m,\u001b[0m\u001b[0;34m\u001b[0m\u001b[0;34m\u001b[0m\u001b[0m\n\u001b[1;32m   1652\u001b[0m                 \u001b[0mmin_count\u001b[0m\u001b[0;34m=\u001b[0m\u001b[0mmin_count\u001b[0m\u001b[0;34m,\u001b[0m\u001b[0;34m\u001b[0m\u001b[0;34m\u001b[0m\u001b[0m\n",
      "\u001b[0;32m~/miniconda3/envs/made_advance/lib/python3.9/site-packages/pandas/core/groupby/groupby.py\u001b[0m in \u001b[0;36m_agg_general\u001b[0;34m(self, numeric_only, min_count, alias, npfunc)\u001b[0m\n\u001b[1;32m   1022\u001b[0m             \u001b[0mresult\u001b[0m \u001b[0;34m=\u001b[0m \u001b[0;32mNone\u001b[0m\u001b[0;34m\u001b[0m\u001b[0;34m\u001b[0m\u001b[0m\n\u001b[1;32m   1023\u001b[0m             \u001b[0;32mtry\u001b[0m\u001b[0;34m:\u001b[0m\u001b[0;34m\u001b[0m\u001b[0;34m\u001b[0m\u001b[0m\n\u001b[0;32m-> 1024\u001b[0;31m                 result = self._cython_agg_general(\n\u001b[0m\u001b[1;32m   1025\u001b[0m                     \u001b[0mhow\u001b[0m\u001b[0;34m=\u001b[0m\u001b[0malias\u001b[0m\u001b[0;34m,\u001b[0m\u001b[0;34m\u001b[0m\u001b[0;34m\u001b[0m\u001b[0m\n\u001b[1;32m   1026\u001b[0m                     \u001b[0malt\u001b[0m\u001b[0;34m=\u001b[0m\u001b[0mnpfunc\u001b[0m\u001b[0;34m,\u001b[0m\u001b[0;34m\u001b[0m\u001b[0;34m\u001b[0m\u001b[0m\n",
      "\u001b[0;32m~/miniconda3/envs/made_advance/lib/python3.9/site-packages/pandas/core/groupby/groupby.py\u001b[0m in \u001b[0;36m_cython_agg_general\u001b[0;34m(self, how, alt, numeric_only, min_count)\u001b[0m\n\u001b[1;32m   1060\u001b[0m                 \u001b[0;32mcontinue\u001b[0m\u001b[0;34m\u001b[0m\u001b[0;34m\u001b[0m\u001b[0m\n\u001b[1;32m   1061\u001b[0m \u001b[0;34m\u001b[0m\u001b[0m\n\u001b[0;32m-> 1062\u001b[0;31m             result = self.grouper._cython_operation(\n\u001b[0m\u001b[1;32m   1063\u001b[0m                 \u001b[0;34m\"aggregate\"\u001b[0m\u001b[0;34m,\u001b[0m \u001b[0mobj\u001b[0m\u001b[0;34m.\u001b[0m\u001b[0m_values\u001b[0m\u001b[0;34m,\u001b[0m \u001b[0mhow\u001b[0m\u001b[0;34m,\u001b[0m \u001b[0maxis\u001b[0m\u001b[0;34m=\u001b[0m\u001b[0;36m0\u001b[0m\u001b[0;34m,\u001b[0m \u001b[0mmin_count\u001b[0m\u001b[0;34m=\u001b[0m\u001b[0mmin_count\u001b[0m\u001b[0;34m\u001b[0m\u001b[0;34m\u001b[0m\u001b[0m\n\u001b[1;32m   1064\u001b[0m             )\n",
      "\u001b[0;32m~/miniconda3/envs/made_advance/lib/python3.9/site-packages/pandas/core/groupby/ops.py\u001b[0m in \u001b[0;36m_cython_operation\u001b[0;34m(self, kind, values, how, axis, min_count, **kwargs)\u001b[0m\n\u001b[1;32m    618\u001b[0m         \u001b[0;32melse\u001b[0m\u001b[0;34m:\u001b[0m\u001b[0;34m\u001b[0m\u001b[0;34m\u001b[0m\u001b[0m\n\u001b[1;32m    619\u001b[0m             \u001b[0;32mif\u001b[0m \u001b[0mis_numeric\u001b[0m\u001b[0;34m:\u001b[0m\u001b[0;34m\u001b[0m\u001b[0;34m\u001b[0m\u001b[0m\n\u001b[0;32m--> 620\u001b[0;31m                 \u001b[0mout_dtype\u001b[0m \u001b[0;34m=\u001b[0m \u001b[0;34mf\"{values.dtype.kind}{values.dtype.itemsize}\"\u001b[0m\u001b[0;34m\u001b[0m\u001b[0;34m\u001b[0m\u001b[0m\n\u001b[0m\u001b[1;32m    621\u001b[0m             \u001b[0;32melse\u001b[0m\u001b[0;34m:\u001b[0m\u001b[0;34m\u001b[0m\u001b[0;34m\u001b[0m\u001b[0m\n\u001b[1;32m    622\u001b[0m                 \u001b[0mout_dtype\u001b[0m \u001b[0;34m=\u001b[0m \u001b[0;34m\"object\"\u001b[0m\u001b[0;34m\u001b[0m\u001b[0;34m\u001b[0m\u001b[0m\n",
      "\u001b[0;31mKeyboardInterrupt\u001b[0m: "
     ]
    }
   ],
   "source": [
    "for i in range(0, 20):\n",
    "    question_answer_data = e_step(question_answer_data, parameters)\n",
    "    parameters = m_step(question_answer_data, encoder, parameters)\n",
    "    print(f\"Iter: {i}\")\n",
    "    calc_metrics(test_data, encoder, parameters)"
   ]
  },
  {
   "cell_type": "code",
   "execution_count": null,
   "id": "complimentary-clark",
   "metadata": {},
   "outputs": [],
   "source": [
    "for i in range(0, 20):\n",
    "    question_answer_data = e_step(question_answer_data, parameters)\n",
    "    parameters = m_step(question_answer_data, encoder, np.zeros_like(parameters))\n",
    "    print(f\"Iter: {i}\")\n",
    "    calc_metrics(test_data, encoder, parameters)"
   ]
  },
  {
   "cell_type": "code",
   "execution_count": null,
   "id": "regular-rouge",
   "metadata": {},
   "outputs": [],
   "source": [
    "question_answer_data.groupby([\"tournament_id\", \"team_id\", \"question\"])[\"label\"].count().max()"
   ]
  },
  {
   "cell_type": "code",
   "execution_count": null,
   "id": "innocent-courtesy",
   "metadata": {},
   "outputs": [],
   "source": []
  },
  {
   "cell_type": "code",
   "execution_count": null,
   "id": "southwest-disco",
   "metadata": {},
   "outputs": [],
   "source": []
  },
  {
   "cell_type": "code",
   "execution_count": null,
   "id": "happy-dating",
   "metadata": {},
   "outputs": [],
   "source": []
  },
  {
   "cell_type": "code",
   "execution_count": null,
   "id": "liberal-breed",
   "metadata": {},
   "outputs": [],
   "source": []
  },
  {
   "cell_type": "code",
   "execution_count": null,
   "id": "instructional-tampa",
   "metadata": {},
   "outputs": [],
   "source": []
  },
  {
   "cell_type": "code",
   "execution_count": null,
   "id": "eligible-falls",
   "metadata": {},
   "outputs": [],
   "source": []
  },
  {
   "cell_type": "code",
   "execution_count": null,
   "id": "timely-chapel",
   "metadata": {},
   "outputs": [],
   "source": []
  },
  {
   "cell_type": "code",
   "execution_count": null,
   "id": "essential-olive",
   "metadata": {},
   "outputs": [],
   "source": []
  },
  {
   "cell_type": "code",
   "execution_count": null,
   "id": "statistical-shadow",
   "metadata": {},
   "outputs": [],
   "source": []
  },
  {
   "cell_type": "code",
   "execution_count": null,
   "id": "stainless-prison",
   "metadata": {},
   "outputs": [],
   "source": []
  },
  {
   "cell_type": "code",
   "execution_count": null,
   "id": "opponent-howard",
   "metadata": {},
   "outputs": [],
   "source": []
  },
  {
   "cell_type": "code",
   "execution_count": null,
   "id": "turned-travel",
   "metadata": {},
   "outputs": [],
   "source": []
  },
  {
   "cell_type": "code",
   "execution_count": null,
   "id": "ethical-memorial",
   "metadata": {},
   "outputs": [],
   "source": []
  },
  {
   "cell_type": "code",
   "execution_count": null,
   "id": "straight-graphics",
   "metadata": {},
   "outputs": [],
   "source": []
  },
  {
   "cell_type": "code",
   "execution_count": null,
   "id": "allied-circumstances",
   "metadata": {},
   "outputs": [],
   "source": [
    "\n"
   ]
  }
 ],
 "metadata": {
  "kernelspec": {
   "display_name": "Python 3",
   "language": "python",
   "name": "python3"
  },
  "language_info": {
   "codemirror_mode": {
    "name": "ipython",
    "version": 3
   },
   "file_extension": ".py",
   "mimetype": "text/x-python",
   "name": "python",
   "nbconvert_exporter": "python",
   "pygments_lexer": "ipython3",
   "version": "3.9.2"
  }
 },
 "nbformat": 4,
 "nbformat_minor": 5
}
