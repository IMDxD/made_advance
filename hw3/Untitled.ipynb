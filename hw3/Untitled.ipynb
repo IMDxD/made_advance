{
 "cells": [
  {
   "cell_type": "code",
   "execution_count": 1,
   "id": "described-period",
   "metadata": {},
   "outputs": [],
   "source": [
    "import re\n",
    "from collections import Counter, defaultdict\n",
    "\n",
    "import matplotlib.pyplot as plt\n",
    "import numpy as np\n",
    "import pandas as pd\n",
    "import seaborn as sns"
   ]
  },
  {
   "cell_type": "code",
   "execution_count": 2,
   "id": "sustainable-privacy",
   "metadata": {},
   "outputs": [],
   "source": [
    "PUNKT_PATTERN = re.compile(r\"\\W+\")"
   ]
  },
  {
   "cell_type": "code",
   "execution_count": 3,
   "id": "impressed-accessory",
   "metadata": {},
   "outputs": [],
   "source": [
    "with open(\"data/WarAndPeace.txt\", \"r\", encoding=\"utf8\") as fio:\n",
    "    war_and_peace_ru = fio.read()"
   ]
  },
  {
   "cell_type": "code",
   "execution_count": 4,
   "id": "challenging-plastic",
   "metadata": {},
   "outputs": [
    {
     "data": {
      "text/plain": [
       "'Annotation\\n\\n\\n\\t\"Война и мир\" – самый известный роман Льва Николаевича Толстого, как никакое другое произведение писателя, отражает глубину его мироощущения и философии.\\tЭта книга из разряда вечных, пот'"
      ]
     },
     "execution_count": 4,
     "metadata": {},
     "output_type": "execute_result"
    }
   ],
   "source": [
    "war_and_peace_ru[:200]"
   ]
  },
  {
   "cell_type": "code",
   "execution_count": 5,
   "id": "silver-short",
   "metadata": {},
   "outputs": [],
   "source": [
    "war_and_peace_ru = PUNKT_PATTERN.sub(\" \", war_and_peace_ru)"
   ]
  },
  {
   "cell_type": "code",
   "execution_count": 6,
   "id": "covered-context",
   "metadata": {},
   "outputs": [
    {
     "data": {
      "text/plain": [
       "678457"
      ]
     },
     "execution_count": 6,
     "metadata": {},
     "output_type": "execute_result"
    }
   ],
   "source": [
    "len(war_and_peace_ru)"
   ]
  },
  {
   "cell_type": "code",
   "execution_count": 7,
   "id": "blank-jason",
   "metadata": {},
   "outputs": [],
   "source": [
    "train = war_and_peace_ru[:-1903]\n",
    "test = war_and_peace_ru[-1903:]"
   ]
  },
  {
   "cell_type": "code",
   "execution_count": 8,
   "id": "afraid-jones",
   "metadata": {},
   "outputs": [
    {
     "data": {
      "text/plain": [
       "'Андрей не видал кто и как надел его опять но на груди его сверх мундира вдруг очутился образок на мелкой золотой цепочке Хорошо бы это было подумал князь Андрей взглянув на этот образок который с таким чувством и благоговением навесила на него сестра хорошо бы это было ежели бы всё было так ясно и просто как оно кажется княжне Марье Как хорошо бы было знать где искать помощи в этой жизни и чего ждать после нее там за гробом Как бы счастлив и спокоен я был ежели бы мог сказать теперь Господи помилуй меня Но кому я скажу это Или сила неопределенная непостижимая к которой я не только не могу обращаться но которой не могу выразить словами великое всё или ничего говорил он сам себе или это тот Бог который вот здесь зашит в этой ладонке княжной Марьей Ничего ничего нет верного кроме ничтожества всего того что мне понятно и величия чего то непонятного но важнейшего Носилки тронулись При каждом толчке он опять чувствовал невыносимую боль лихорадочное состояние усилилось и он начинал бредить Те мечтания об отце жене сестре и будущем сыне и нежность которую он испытывал в ночь накануне сражения фигура маленького ничтожного Наполеона и над всем этим высокое небо составляли главное основание его горячечных представлений Тихая жизнь и спокойное семейное счастие в Лысых Горах представлялись ему Он уже наслаждался этим счастием когда вдруг являлся маленький Напoлеон с своим безучастным ограниченным и счастливым от несчастия других взглядом и начинались сомнения муки и только небо обещало успокоение К утру все мечтания смешались и слились в хаос и мрак беспамятства и забвения которые гораздо вероятнее по мнению самого Ларрея доктора Наполеона должны были разрешиться смертью чем выздоровлением C est un sujet nerveux et bilieux сказал Ларрей il n en rechappera pas Это человек нервный и желчный он не выздоровеет Князь Андрей в числе других безнадежных раненых был сдан на попечение жителей '"
      ]
     },
     "execution_count": 8,
     "metadata": {},
     "output_type": "execute_result"
    }
   ],
   "source": [
    "test"
   ]
  },
  {
   "cell_type": "code",
   "execution_count": 9,
   "id": "reasonable-logan",
   "metadata": {},
   "outputs": [],
   "source": [
    "def encode_text(text):\n",
    "    used = set()\n",
    "    mapping = {}\n",
    "    for char in text:\n",
    "        new_simbol = chr(np.random.randint(10000))\n",
    "        while new_simbol in used:\n",
    "            new_simbol = chr(np.random.randint(10000))\n",
    "        mapping[char] = new_simbol\n",
    "    encoded = [mapping[char] for char in text]\n",
    "    return \"\".join(encoded)"
   ]
  },
  {
   "cell_type": "code",
   "execution_count": 10,
   "id": "opened-singing",
   "metadata": {},
   "outputs": [],
   "source": [
    "encoded_test = encode_text(test)"
   ]
  },
  {
   "cell_type": "code",
   "execution_count": 11,
   "id": "prepared-australian",
   "metadata": {},
   "outputs": [
    {
     "name": "stdout",
     "output_type": "stream",
     "text": [
      "ờ᪫೩ṣℇࠌؤ᪫ℇؤ೓Ự೩ደᘡؤᚾࢦ⑭ؤỰؤᚾደᚾؤ᪫ደ೩ℇᘡؤℇ౸⑭ؤ⑭ᜠኚࢦ໹ؤ᪫⑭ؤ᪫ደؤ౸ṣᄉ೩Ựؤℇ౸⑭ؤ⚥೓ℇṣᥤؤѨᄉ᪫೩Ựṣደؤ೓೩ṣᄉ౸ؤ⑭ຄᄉࢦỰᘡ⚥ኚؤ⑭તṣደർ⑭ᚾؤ᪫ደؤѨℇᘡᚾ⑭ࠌؤർ⑭ᘡ⑭ࢦ⑭ࠌؤዝℇᜠ⑭ຄᚾℇؤՇ⑭ṣ⑭᭡⑭ؤત᮫ؤፋࢦ⑭ؤત᮫ᘡ⑭ؤᜠ⑭೩ᄉѨደᘡؤᚾ᪫ኚർ໹ؤờ᪫೩ṣℇࠌؤ೓ർ౸ᘡኚ᪫ᄉ೓ؤ᪫ደؤፋࢦ⑭ࢦؤ⑭તṣደർ⑭ᚾؤᚾ⑭ࢦ⑭ṣ᮫ࠌؤ⚥ؤࢦደᚾỰѨؤຄᄉ೓⚥ࢦ೓⑭ѨؤỰؤતᘡደ౸⑭౸⑭೓ℇ᪫ỰℇѨؤ᪫ደ೓ℇ⚥Ựᘡደؤ᪫ደؤ᪫ℇ౸⑭ؤ⚥ℇ⚥ࢦṣደؤᥤ⑭ṣ⑭᭡⑭ؤત᮫ؤፋࢦ⑭ؤત᮫ᘡ⑭ؤℇਤℇᘡỰؤત᮫ؤ೓⚥ԯؤત᮫ᘡ⑭ؤࢦደᚾؤኚ⚥᪫⑭ؤỰؤᜠṣ⑭⚥ࢦ⑭ؤᚾደᚾؤ⑭᪫⑭ؤᚾደਤℇࢦ⚥ኚؤᚾ᪫ኚਤ᪫ℇؤԲደṣ໹ℇؤ᪄ደᚾؤᥤ⑭ṣ⑭᭡⑭ؤત᮫ؤત᮫ᘡ⑭ؤർ᪫ደࢦ໹ؤ౸೩ℇؤỰ⚥ᚾደࢦ໹ؤᜠ⑭Ѩ⑭ᧇỰؤ೓ؤፋࢦ⑭ࠌؤਤỰർ᪫ỰؤỰؤຄℇ౸⑭ؤਤ೩ደࢦ໹ؤᜠ⑭⚥ᘡℇؤ᪫ℇℇؤࢦደѨؤർደؤ౸ṣ⑭ત⑭Ѩؤ᪄ደᚾؤત᮫ؤ⚥ຄደ⚥ࢦᘡỰ೓ؤỰؤ⚥ᜠ⑭ᚾ⑭ℇ᪫ؤኚؤત᮫ᘡؤℇਤℇᘡỰؤત᮫ؤѨ⑭౸ؤ⚥ᚾደർደࢦ໹ؤࢦℇᜠℇṣ໹ؤᇖ⑭⚥ᜠ⑭೩Ựؤᜠ⑭ѨỰᘡᄉࠌؤѨℇ᪫ኚؤჼ⑭ؤᚾ⑭Ѩᄉؤኚؤ⚥ᚾደਤᄉؤፋࢦ⑭ؤ⏶ᘡỰؤ⚥Ựᘡደؤ᪫ℇ⑭ᜠṣℇ೩ℇᘡℇ᪫᪫ደኚؤ᪫ℇᜠ⑭⚥ࢦỰਤỰѨደኚؤᚾؤᚾ⑭ࢦ⑭ṣ⑭ࠌؤኚؤ᪫ℇؤࢦ⑭ᘡ໹ᚾ⑭ؤ᪫ℇؤѨ⑭౸ᄉؤ⑭તṣደᧇደࢦ໹⚥ኚؤ᪫⑭ؤᚾ⑭ࢦ⑭ṣ⑭ࠌؤ᪫ℇؤѨ⑭౸ᄉؤ೓᮫ṣደർỰࢦ໹ؤ⚥ᘡ⑭೓ደѨỰؤ೓ℇᘡỰᚾ⑭ℇؤ೓⚥ԯؤỰᘡỰؤ᪫Ựຄℇ౸⑭ؤ౸⑭೓⑭ṣỰᘡؤ⑭᪫ؤ⚥ደѨؤ⚥ℇતℇؤỰᘡỰؤፋࢦ⑭ؤࢦ⑭ࢦؤኅ⑭౸ؤᚾ⑭ࢦ⑭ṣ᮫ࠌؤ೓⑭ࢦؤർ೩ℇ⚥໹ؤർደ᭡Ựࢦؤ೓ؤፋࢦ⑭ࠌؤᘡደ೩⑭᪫ᚾℇؤᚾ᪫ኚਤ᪫⑭ࠌؤԲደṣ໹ℇࠌؤჼỰຄℇ౸⑭ؤ᪫Ựຄℇ౸⑭ؤ᪫ℇࢦؤ೓ℇṣ᪫⑭౸⑭ؤᚾṣ⑭Ѩℇؤ᪫Ựຄࢦ⑭ਤℇ⚥ࢦ೓ደؤ೓⚥ℇ౸⑭ؤࢦ⑭౸⑭ؤຄࢦ⑭ؤѨ᪫ℇؤᜠ⑭᪫ኚࢦ᪫⑭ؤỰؤ೓ℇᘡỰຄỰኚؤຄℇ౸⑭ؤࢦ⑭ؤ᪫ℇᜠ⑭᪫ኚࢦ᪫⑭౸⑭ؤ᪫⑭ؤ೓ደਤ᪫ℇࠌ᭡ℇ౸⑭ؤჼ⑭⚥ỰᘡᚾỰؤࢦṣ⑭᪫ᄉᘡỰ⚥໹ؤᴎṣỰؤᚾደਤ೩⑭Ѩؤࢦ⑭ᘡຄᚾℇؤ⑭᪫ؤ⑭ᜠኚࢦ໹ؤຄᄉ೓⚥ࢦ೓⑭೓ደᘡؤ᪫ℇ೓᮫᪫⑭⚥ỰѨᄉᷟؤત⑭ᘡ໹ؤᘡỰᥤ⑭ṣደ೩⑭ຄ᪫⑭ℇؤ⚥⑭⚥ࢦ⑭ኚ᪫Ựℇؤᄉ⚥ỰᘡỰᘡ⑭⚥໹ؤỰؤ⑭᪫ؤ᪫ደຄỰ᪫ደᘡؤતṣℇ೩Ựࢦ໹ؤᗤℇؤѨℇຄࢦደ᪫Ựኚؤ⑭તؤ⑭ࢦዝℇؤਤℇ᪫ℇؤ⚥ℇ⚥ࢦṣℇؤỰؤતᄉ೩ᄉᧇℇѨؤ⚥᮫᪫ℇؤỰؤ᪫ℇਤ᪫⑭⚥ࢦ໹ؤᚾ⑭ࢦ⑭ṣᄉᷟؤ⑭᪫ؤỰ⚥ᜠ᮫ࢦ᮫೓ደᘡؤ೓ؤ᪫⑭ຄ໹ؤ᪫ደᚾደ᪫ᄉ᪫ℇؤ⚥ṣደਤℇ᪫Ựኚؤ⃡Ự౸ᄉṣደؤѨደᘡℇ᪫໹ᚾ⑭౸⑭ؤ᪫Ựຄࢦ⑭ਤ᪫⑭౸⑭ؤჼደᜠ⑭ᘡℇ⑭᪫ደؤỰؤ᪫ደ೩ؤ೓⚥ℇѨؤፋࢦỰѨؤ೓᮫⚥⑭ᚾ⑭ℇؤ᪫ℇત⑭ؤ⚥⑭⚥ࢦደ೓ᘡኚᘡỰؤ౸ᘡደ೓᪫⑭ℇؤ⑭⚥᪫⑭೓ደ᪫Ựℇؤℇ౸⑭ؤ౸⑭ṣኚຄℇຄ᪫᮫ᥤؤᜠṣℇ೩⚥ࢦደ೓ᘡℇ᪫ỰࠌؤᗤỰᥤደኚؤਤỰർ᪫໹ؤỰؤ⚥ᜠ⑭ᚾ⑭ࠌ᪫⑭ℇؤ⚥ℇѨℇࠌ᪫⑭ℇؤ⚥ຄደ⚥ࢦỰℇؤ೓ؤ಺᮫⚥᮫ᥤؤᇖ⑭ṣደᥤؤᜠṣℇ೩⚥ࢦደ೓ᘡኚᘡỰ⚥໹ؤℇѨᄉؤ᝽᪫ؤᄉਤℇؤ᪫ደ⚥ᘡደਤ೩ደᘡ⚥ኚؤፋࢦỰѨؤ⚥ຄደ⚥ࢦỰℇѨؤᚾ⑭౸೩ደؤ೓೩ṣᄉ౸ؤኚ೓ᘡኚᘡ⚥ኚؤѨደᘡℇ᪫໹ᚾỰࠌؤჼደᜠᅏᘡℇ⑭᪫ؤ⚥ؤ⚥೓⑭ỰѨؤતℇർᄉຄደ⚥ࢦ᪫᮫Ѩؤ⑭౸ṣደ᪫Ựຄℇ᪫᪫᮫ѨؤỰؤ⚥ຄደ⚥ࢦᘡỰ೓᮫Ѩؤ⑭ࢦؤ᪫ℇ⚥ຄደ⚥ࢦỰኚؤ೩ṣᄉ౸Ựᥤؤ೓ർ౸ᘡኚ೩⑭ѨؤỰؤ᪫ደຄỰ᪫ደᘡỰ⚥໹ؤ⚥⑭Ѩ᪫ℇ᪫ỰኚؤѨᄉᚾỰؤỰؤࢦ⑭ᘡ໹ᚾ⑭ؤ᪫ℇત⑭ؤ⑭તℇᧇደᘡ⑭ؤᄉ⚥ᜠ⑭ᚾ⑭ℇ᪫Ựℇؤ᪄ؤᄉࢦṣᄉؤ೓⚥ℇؤѨℇຄࢦደ᪫Ựኚؤ⚥Ѩℇ᭡ደᘡỰ⚥໹ؤỰؤ⚥ᘡỰᘡỰ⚥໹ؤ೓ؤᥤደ⑭⚥ؤỰؤѨṣደᚾؤતℇ⚥ᜠደѨኚࢦ⚥ࢦ೓ደؤỰؤർደત೓ℇ᪫Ựኚؤᚾ⑭ࢦ⑭ṣ᮫ℇؤ౸⑭ṣደർ೩⑭ؤ೓ℇṣ⑭ኚࢦ᪫ℇℇؤᜠ⑭ؤѨ᪫ℇ᪫Ựᷟؤ⚥ደѨ⑭౸⑭ؤ಺ደṣṣℇኚؤ೩⑭ᚾࢦ⑭ṣደؤჼደᜠ⑭ᘡℇ⑭᪫ደؤ೩⑭ᘡਤ᪫᮫ؤત᮫ᘡỰؤṣደർṣℇ᭡Ựࢦ໹⚥ኚؤ⚥Ѩℇṣࢦ໹ᷟؤຄℇѨؤ೓᮫ർ೩⑭ṣ⑭೓ᘡℇ᪫ỰℇѨؤ]ؤ࢘ࢼṢؤಖൕؤࢼಖ˞࢘Ṣؤൕ࢘ቑဿ࢘ಖ᷏ؤ࢘Ṣؤὕᤊ╰ᤊ࢘ಖ᷏ؤ⚥ᚾደർደᘡؤ಺ደṣṣℇࠌؤᤊ╰ؤൕؤ࢘ൕؤቑ࢘⒃ֱᅂ᥌᥌࢘ቑᅂؤ᥌ᅂࢼؤތࢦ⑭ؤຄℇᘡ⑭೓ℇᚾؤ᪫ℇṣ೓᪫᮫ࠌؤỰؤਤℇᘡຄ᪫᮫ࠌؤ⑭᪫ؤ᪫ℇؤ೓᮫ർ೩⑭ṣ⑭೓ℇℇࢦؤ᪄᪫ኚർ໹ؤờ᪫೩ṣℇࠌؤ೓ؤຄỰ⚥ᘡℇؤ೩ṣᄉ౸Ựᥤؤતℇർ᪫ደ೩ℇਤ᪫᮫ᥤؤṣደ᪫ℇ᪫᮫ᥤؤત᮫ᘡؤ⚥೩ደ᪫ؤ᪫ደؤᜠ⑭ᜠℇຄℇ᪫ỰℇؤਤỰࢦℇᘡℇࠌؤ\n"
     ]
    }
   ],
   "source": [
    "print(encoded_test)"
   ]
  },
  {
   "cell_type": "code",
   "execution_count": 12,
   "id": "interested-scoop",
   "metadata": {},
   "outputs": [],
   "source": [
    "def get_unigramm_mapping(encoded, train):\n",
    "    char_cnt = Counter(train)\n",
    "    encoded_cnt = Counter(encoded).most_common()\n",
    "    reverse_mapping = {}\n",
    "    for i, (char, _) in enumerate(char_cnt.most_common(len(encoded_cnt))):\n",
    "        reverse_mapping[encoded_cnt[i][0]] = char\n",
    "    return reverse_mapping"
   ]
  },
  {
   "cell_type": "code",
   "execution_count": 13,
   "id": "entire-pride",
   "metadata": {},
   "outputs": [],
   "source": [
    "def decode_string(string, mapping):\n",
    "    decoded = [mapping[char] for char in string]\n",
    "    return \"\".join(decoded)"
   ]
  },
  {
   "cell_type": "code",
   "execution_count": 14,
   "id": "administrative-station",
   "metadata": {},
   "outputs": [],
   "source": [
    "reverse_mapping = get_unigramm_mapping(encoded_test, train)"
   ]
  },
  {
   "cell_type": "code",
   "execution_count": 15,
   "id": "blocked-collectible",
   "metadata": {},
   "outputs": [],
   "source": [
    "def decoding_metric(y_true, y_pred):\n",
    "    return (np.array(list(y_true)) == np.array(list(y_pred))).mean()"
   ]
  },
  {
   "cell_type": "code",
   "execution_count": 16,
   "id": "compatible-album",
   "metadata": {},
   "outputs": [
    {
     "data": {
      "text/plain": [
       "0.4729374671571203"
      ]
     },
     "execution_count": 16,
     "metadata": {},
     "output_type": "execute_result"
    }
   ],
   "source": [
    "decoding_metric(test, decode_string(encoded_test, reverse_mapping))"
   ]
  },
  {
   "cell_type": "code",
   "execution_count": 17,
   "id": "congressional-headline",
   "metadata": {},
   "outputs": [],
   "source": [
    "char_cnt = Counter(train)\n",
    "encoded_cnt = Counter(encoded_test)"
   ]
  },
  {
   "cell_type": "code",
   "execution_count": 18,
   "id": "attractive-effects",
   "metadata": {},
   "outputs": [],
   "source": [
    "char_cnt = Counter({k: v / len(train) for k, v in char_cnt.items()})\n",
    "encoded_cnt = Counter({k: v / len(encoded_test) for k, v in encoded_cnt.items()})"
   ]
  },
  {
   "cell_type": "code",
   "execution_count": 19,
   "id": "closing-legislation",
   "metadata": {},
   "outputs": [],
   "source": [
    "def get_bigrams(text):\n",
    "    return [text[i:i+2] for i in range(len(text) - 1)]"
   ]
  },
  {
   "cell_type": "code",
   "execution_count": 20,
   "id": "single-universe",
   "metadata": {},
   "outputs": [],
   "source": [
    "encoded_bigrams = Counter(get_bigrams(encoded_test))\n",
    "decoded_bigrams = Counter(get_bigrams(train))"
   ]
  },
  {
   "cell_type": "code",
   "execution_count": 21,
   "id": "accompanied-recipe",
   "metadata": {},
   "outputs": [],
   "source": [
    "encoded_df = pd.DataFrame(encoded_bigrams.most_common(), columns=[\"bigram\", \"count\"])\n",
    "decoded_df = pd.DataFrame(decoded_bigrams.most_common(), columns=[\"bigram\", \"count\"])"
   ]
  },
  {
   "cell_type": "code",
   "execution_count": 22,
   "id": "decreased-energy",
   "metadata": {},
   "outputs": [],
   "source": [
    "encoded_df[\"left\"] = encoded_df[\"bigram\"].apply(lambda x: x[0])\n",
    "encoded_df[\"right\"] = encoded_df[\"bigram\"].apply(lambda x: x[1])\n",
    "\n",
    "decoded_df[\"left\"] = decoded_df[\"bigram\"].apply(lambda x: x[0])\n",
    "decoded_df[\"right\"] = decoded_df[\"bigram\"].apply(lambda x: x[1])"
   ]
  },
  {
   "cell_type": "code",
   "execution_count": null,
   "id": "lyric-grade",
   "metadata": {},
   "outputs": [],
   "source": []
  },
  {
   "cell_type": "code",
   "execution_count": null,
   "id": "downtown-heavy",
   "metadata": {},
   "outputs": [],
   "source": []
  },
  {
   "cell_type": "code",
   "execution_count": null,
   "id": "overall-auction",
   "metadata": {},
   "outputs": [],
   "source": []
  },
  {
   "cell_type": "code",
   "execution_count": null,
   "id": "protected-spencer",
   "metadata": {},
   "outputs": [],
   "source": []
  },
  {
   "cell_type": "code",
   "execution_count": null,
   "id": "fixed-participation",
   "metadata": {},
   "outputs": [],
   "source": []
  },
  {
   "cell_type": "code",
   "execution_count": null,
   "id": "renewable-hello",
   "metadata": {},
   "outputs": [],
   "source": []
  },
  {
   "cell_type": "code",
   "execution_count": null,
   "id": "chronic-corruption",
   "metadata": {},
   "outputs": [],
   "source": []
  },
  {
   "cell_type": "code",
   "execution_count": null,
   "id": "nuclear-ticket",
   "metadata": {},
   "outputs": [],
   "source": []
  },
  {
   "cell_type": "code",
   "execution_count": null,
   "id": "plain-planner",
   "metadata": {},
   "outputs": [],
   "source": []
  },
  {
   "cell_type": "code",
   "execution_count": null,
   "id": "thermal-hundred",
   "metadata": {},
   "outputs": [],
   "source": []
  }
 ],
 "metadata": {
  "kernelspec": {
   "display_name": "Python 3",
   "language": "python",
   "name": "python3"
  },
  "language_info": {
   "codemirror_mode": {
    "name": "ipython",
    "version": 3
   },
   "file_extension": ".py",
   "mimetype": "text/x-python",
   "name": "python",
   "nbconvert_exporter": "python",
   "pygments_lexer": "ipython3",
   "version": "3.9.2"
  }
 },
 "nbformat": 4,
 "nbformat_minor": 5
}
