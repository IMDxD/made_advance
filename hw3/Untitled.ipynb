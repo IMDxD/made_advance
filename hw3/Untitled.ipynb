{
 "cells": [
  {
   "cell_type": "code",
   "execution_count": 1,
   "id": "forward-humanitarian",
   "metadata": {},
   "outputs": [],
   "source": [
    "import re\n",
    "from collections import Counter\n",
    "\n",
    "import numpy as np\n",
    "import matplotlib.pyplot as plt\n",
    "import seaborn as sns"
   ]
  },
  {
   "cell_type": "code",
   "execution_count": 2,
   "id": "built-intersection",
   "metadata": {},
   "outputs": [],
   "source": [
    "PUNKT_PATTERN = re.compile(r\"\\W+\")"
   ]
  },
  {
   "cell_type": "code",
   "execution_count": 3,
   "id": "prospective-liverpool",
   "metadata": {},
   "outputs": [],
   "source": [
    "with open(\"data/WarAndPeace.txt\", \"r\", encoding=\"utf8\") as fio:\n",
    "    war_and_peace_ru = fio.read()"
   ]
  },
  {
   "cell_type": "code",
   "execution_count": 4,
   "id": "prime-percentage",
   "metadata": {},
   "outputs": [
    {
     "data": {
      "text/plain": [
       "'Annotation\\n\\n\\n\\t\"Война и мир\" – самый известный роман Льва Николаевича Толстого, как никакое другое произведение писателя, отражает глубину его мироощущения и философии.\\tЭта книга из разряда вечных, пот'"
      ]
     },
     "execution_count": 4,
     "metadata": {},
     "output_type": "execute_result"
    }
   ],
   "source": [
    "war_and_peace_ru[:200]"
   ]
  },
  {
   "cell_type": "code",
   "execution_count": 5,
   "id": "unauthorized-uganda",
   "metadata": {},
   "outputs": [],
   "source": [
    "war_and_peace_ru = PUNKT_PATTERN.sub(\" \", war_and_peace_ru)"
   ]
  },
  {
   "cell_type": "code",
   "execution_count": 6,
   "id": "practical-alaska",
   "metadata": {},
   "outputs": [
    {
     "data": {
      "text/plain": [
       "'Annotation Война и мир самый известный роман Льва Николаевича Толстого как никакое другое произведение писателя отражает глубину его мироощущения и философии Эта книга из разряда вечных потому что она'"
      ]
     },
     "execution_count": 6,
     "metadata": {},
     "output_type": "execute_result"
    }
   ],
   "source": [
    "war_and_peace_ru[:200]"
   ]
  },
  {
   "cell_type": "code",
   "execution_count": 7,
   "id": "rocky-mainstream",
   "metadata": {},
   "outputs": [],
   "source": [
    "train = war_and_peace_ru[:-1903]\n",
    "test = war_and_peace_ru[-1903:]"
   ]
  },
  {
   "cell_type": "code",
   "execution_count": 8,
   "id": "composed-defeat",
   "metadata": {},
   "outputs": [
    {
     "data": {
      "text/plain": [
       "'Андрей не видал кто и как надел его опять но на груди его сверх мундира вдруг очутился образок на мелкой золотой цепочке Хорошо бы это было подумал князь Андрей взглянув на этот образок который с таким чувством и благоговением навесила на него сестра хорошо бы это было ежели бы всё было так ясно и просто как оно кажется княжне Марье Как хорошо бы было знать где искать помощи в этой жизни и чего ждать после нее там за гробом Как бы счастлив и спокоен я был ежели бы мог сказать теперь Господи помилуй меня Но кому я скажу это Или сила неопределенная непостижимая к которой я не только не могу обращаться но которой не могу выразить словами великое всё или ничего говорил он сам себе или это тот Бог который вот здесь зашит в этой ладонке княжной Марьей Ничего ничего нет верного кроме ничтожества всего того что мне понятно и величия чего то непонятного но важнейшего Носилки тронулись При каждом толчке он опять чувствовал невыносимую боль лихорадочное состояние усилилось и он начинал бредить Те мечтания об отце жене сестре и будущем сыне и нежность которую он испытывал в ночь накануне сражения фигура маленького ничтожного Наполеона и над всем этим высокое небо составляли главное основание его горячечных представлений Тихая жизнь и спокойное семейное счастие в Лысых Горах представлялись ему Он уже наслаждался этим счастием когда вдруг являлся маленький Напoлеон с своим безучастным ограниченным и счастливым от несчастия других взглядом и начинались сомнения муки и только небо обещало успокоение К утру все мечтания смешались и слились в хаос и мрак беспамятства и забвения которые гораздо вероятнее по мнению самого Ларрея доктора Наполеона должны были разрешиться смертью чем выздоровлением C est un sujet nerveux et bilieux сказал Ларрей il n en rechappera pas Это человек нервный и желчный он не выздоровеет Князь Андрей в числе других безнадежных раненых был сдан на попечение жителей '"
      ]
     },
     "execution_count": 8,
     "metadata": {},
     "output_type": "execute_result"
    }
   ],
   "source": [
    "test"
   ]
  },
  {
   "cell_type": "code",
   "execution_count": 49,
   "id": "interstate-trigger",
   "metadata": {},
   "outputs": [],
   "source": [
    "def encode_text(text):\n",
    "    used = set()\n",
    "    mapping = {}\n",
    "    for char in text:\n",
    "        new_simbol = chr(np.random.randint(10000))\n",
    "        while new_simbol in used:\n",
    "            new_simbol = chr(np.random.randint(10000))\n",
    "        mapping[char] = new_simbol\n",
    "    encoded = [mapping[char] for char in text]\n",
    "    return \"\".join(encoded)"
   ]
  },
  {
   "cell_type": "code",
   "execution_count": 50,
   "id": "following-colors",
   "metadata": {},
   "outputs": [],
   "source": [
    "encoded_test = encode_text(test)"
   ]
  },
  {
   "cell_type": "code",
   "execution_count": 51,
   "id": "appreciated-begin",
   "metadata": {},
   "outputs": [
    {
     "data": {
      "text/plain": [
       "'ᵶᘣᯬЗᡱᣣ⇸ᘣᡱ⇸़Ⴧᯬ̞᭯⇸ոࣃ\\u07b9⇸Ⴧ⇸ո̞ո⇸ᘣ̞ᯬᡱ᭯⇸ᡱ⊓\\u07b9⇸\\u07b9ᰰ≀ࣃ\\x08⇸ᘣ\\u07b9⇸ᘣ̞⇸⊓ЗქᯬჇ⇸ᡱ⊓\\u07b9⇸\\u137d़ᡱЗᷧ⇸һქᘣᯬჇЗ̞⇸़ᯬЗქ⊓⇸\\u07b9ᓕქࣃჇ᭯\\u137d≀⇸\\u07b9\\u0aceЗ̞ဴ\\u07b9ո⇸ᘣ̞⇸һᡱ᭯ո\\u07b9ᣣ⇸ဴ\\u07b9᭯\\u07b9ࣃ\\u07b9ᣣ⇸ნᡱᰰ\\u07b9ᓕոᡱ⇸ᘟ\\u07b9З\\u07b9ᒆ\\u07b9⇸\\u0ace⁼⇸\\u0fe5ࣃ\\u07b9⇸\\u0ace⁼᭯\\u07b9⇸ᰰ\\u07b9ᯬქһ̞᭯⇸ոᘣ≀ဴ\\x08⇸ᵶᘣᯬЗᡱᣣ⇸़ဴ⊓᭯≀ᘣქ़⇸ᘣ̞⇸\\u0fe5ࣃ\\u07b9ࣃ⇸\\u07b9\\u0aceЗ̞ဴ\\u07b9ո⇸ո\\u07b9ࣃ\\u07b9З⁼ᣣ⇸\\u137d⇸ࣃ̞ոჇһ⇸ᓕქ़\\u137dࣃ़\\u07b9һ⇸Ⴧ⇸\\u0ace̞᭯⊓\\u07b9⊓\\u07b9़ᡱᘣჇᡱһ⇸ᘣ़̞ᡱ\\u137dჇ̞᭯⇸ᘣ̞⇸ᘣᡱ⊓\\u07b9⇸\\u137dᡱ\\u137dࣃЗ̞⇸ᷧ\\u07b9З\\u07b9ᒆ\\u07b9⇸\\u0ace⁼⇸\\u0fe5ࣃ\\u07b9⇸\\u0ace⁼᭯\\u07b9⇸ᡱ␐ᡱ᭯Ⴧ⇸\\u0ace⁼⇸़\\u137d๙⇸\\u0ace⁼᭯\\u07b9⇸ࣃ̞ո⇸≀\\u137dᘣ\\u07b9⇸Ⴧ⇸ᰰЗ\\u07b9\\u137dࣃ\\u07b9⇸ո̞ո⇸\\u07b9ᘣ\\u07b9⇸ո̞␐ᡱࣃ\\u137d≀⇸ոᘣ≀␐ᘣᡱ⇸ᄤ̞З\\x08ᡱ⇸̞᳐ո⇸ᷧ\\u07b9З\\u07b9ᒆ\\u07b9⇸\\u0ace⁼⇸\\u0ace⁼᭯\\u07b9⇸ဴᘣ̞ࣃ\\x08⇸⊓ᯬᡱ⇸Ⴧ\\u137dո̞ࣃ\\x08⇸ᰰ\\u07b9һ\\u07b9ᢕჇ⇸़⇸\\u0fe5ࣃ\\u07b9ᣣ⇸␐ჇဴᘣჇ⇸Ⴧ⇸ᓕᡱ⊓\\u07b9⇸␐ᯬ̞ࣃ\\x08⇸ᰰ\\u07b9\\u137d᭯ᡱ⇸ᘣᡱᡱ⇸ࣃ̞һ⇸ဴ̞⇸⊓З\\u07b9\\u0ace\\u07b9һ⇸̞᳐ո⇸\\u0ace⁼⇸\\u137dᓕ̞\\u137dࣃ᭯Ⴧ़⇸Ⴧ⇸\\u137dᰰ\\u07b9ո\\u07b9ᡱᘣ⇸≀⇸\\u0ace⁼᭯⇸ᡱ␐ᡱ᭯Ⴧ⇸\\u0ace⁼⇸һ\\u07b9⊓⇸\\u137dո̞ဴ̞ࣃ\\x08⇸ࣃᡱᰰᡱЗ\\x08⇸ᷬ\\u07b9\\u137dᰰ\\u07b9ᯬჇ⇸ᰰ\\u07b9һჇ᭯ქᣣ⇸һᡱᘣ≀⇸ڄ\\u07b9⇸ո\\u07b9һქ⇸≀⇸\\u137dո̞␐ქ⇸\\u0fe5ࣃ\\u07b9⇸ᨙ᭯Ⴧ⇸\\u137dჇ̞᭯⇸ᘣᡱ\\u07b9ᰰЗᡱᯬᡱ᭯ᡱᘣᘣ̞≀⇸ᘣᡱᰰ\\u07b9\\u137dࣃჇ␐Ⴧһ̞≀⇸ո⇸ո\\u07b9ࣃ\\u07b9З\\u07b9ᣣ⇸≀⇸ᘣᡱ⇸ࣃ\\u07b9᭯\\x08ո\\u07b9⇸ᘣᡱ⇸һ\\u07b9⊓ქ⇸\\u07b9\\u0aceЗ̞ᢕ̞ࣃ\\x08\\u137d≀⇸ᘣ\\u07b9⇸ո\\u07b9ࣃ\\u07b9З\\u07b9ᣣ⇸ᘣᡱ⇸һ\\u07b9⊓ქ⇸़⁼З̞ဴჇࣃ\\x08⇸\\u137d᭯\\u07b9़̞һჇ⇸़ᡱ᭯Ⴧո\\u07b9ᡱ⇸़\\u137d๙⇸Ⴧ᭯Ⴧ⇸ᘣჇᓕᡱ⊓\\u07b9⇸⊓\\u07b9़\\u07b9ЗჇ᭯⇸\\u07b9ᘣ⇸\\u137d̞һ⇸\\u137dᡱ\\u0aceᡱ⇸Ⴧ᭯Ⴧ⇸\\u0fe5ࣃ\\u07b9⇸ࣃ\\u07b9ࣃ⇸ڕ\\u07b9⊓⇸ո\\u07b9ࣃ\\u07b9З⁼ᣣ⇸़\\u07b9ࣃ⇸ဴᯬᡱ\\u137d\\x08⇸ဴ̞ᒆჇࣃ⇸़⇸\\u0fe5ࣃ\\u07b9ᣣ⇸̞᭯ᯬ\\u07b9ᘣոᡱ⇸ոᘣ≀␐ᘣ\\u07b9ᣣ⇸ᄤ̞З\\x08ᡱᣣ⇸ڄჇᓕᡱ⊓\\u07b9⇸ᘣჇᓕᡱ⊓\\u07b9⇸ᘣᡱࣃ⇸़ᡱЗᘣ\\u07b9⊓\\u07b9⇸ոЗ\\u07b9һᡱ⇸ᘣჇᓕࣃ\\u07b9␐ᡱ\\u137dࣃ़̞⇸़\\u137dᡱ⊓\\u07b9⇸ࣃ\\u07b9⊓\\u07b9⇸ᓕࣃ\\u07b9⇸һᘣᡱ⇸ᰰ\\u07b9ᘣ≀ࣃᘣ\\u07b9⇸Ⴧ⇸़ᡱ᭯ჇᓕჇ≀⇸ᓕᡱ⊓\\u07b9⇸ࣃ\\u07b9⇸ᘣᡱᰰ\\u07b9ᘣ≀ࣃᘣ\\u07b9⊓\\u07b9⇸ᘣ\\u07b9⇸़̞␐ᘣᡱᣣᒆᡱ⊓\\u07b9⇸ڄ\\u07b9\\u137dჇ᭯ոჇ⇸ࣃЗ\\u07b9ᘣქ᭯Ⴧ\\u137d\\x08⇸ϦЗჇ⇸ո̞␐ᯬ\\u07b9һ⇸ࣃ\\u07b9᭯ᓕոᡱ⇸\\u07b9ᘣ⇸\\u07b9ᰰ≀ࣃ\\x08⇸ᓕქ़\\u137dࣃ़\\u07b9़̞᭯⇸ᘣᡱ़⁼ᘣ\\u07b9\\u137dჇһქ\\u0b3b⇸\\u0ace\\u07b9᭯\\x08⇸᭯Ⴧᷧ\\u07b9З̞ᯬ\\u07b9ᓕᘣ\\u07b9ᡱ⇸\\u137d\\u07b9\\u137dࣃ\\u07b9≀ᘣჇᡱ⇸ქ\\u137dჇ᭯Ⴧ᭯\\u07b9\\u137d\\x08⇸Ⴧ⇸\\u07b9ᘣ⇸ᘣ̞ᓕჇᘣ̞᭯⇸\\u0aceЗᡱᯬჇࣃ\\x08⇸ົᡱ⇸һᡱᓕࣃ̞ᘣჇ≀⇸\\u07b9\\u0ace⇸\\u07b9ࣃნᡱ⇸␐ᡱᘣᡱ⇸\\u137dᡱ\\u137dࣃЗᡱ⇸Ⴧ⇸\\u0aceქᯬქᢕᡱһ⇸\\u137d⁼ᘣᡱ⇸Ⴧ⇸ᘣᡱ␐ᘣ\\u07b9\\u137dࣃ\\x08⇸ո\\u07b9ࣃ\\u07b9Зქ\\u0b3b⇸\\u07b9ᘣ⇸Ⴧ\\u137dᰰ⁼ࣃ⁼़̞᭯⇸़⇸ᘣ\\u07b9ᓕ\\x08⇸ᘣ̞ո̞ᘣქᘣᡱ⇸\\u137dЗ̞␐ᡱᘣჇ≀⇸ᅻჇ⊓ქЗ̞⇸һ̞᭯ᡱᘣ\\x08ո\\u07b9⊓\\u07b9⇸ᘣჇᓕࣃ\\u07b9␐ᘣ\\u07b9⊓\\u07b9⇸ڄ̞ᰰ\\u07b9᭯ᡱ\\u07b9ᘣ̞⇸Ⴧ⇸ᘣ̞ᯬ⇸़\\u137dᡱһ⇸\\u0fe5ࣃჇһ⇸़⁼\\u137d\\u07b9ո\\u07b9ᡱ⇸ᘣᡱ\\u0ace\\u07b9⇸\\u137d\\u07b9\\u137dࣃ़̞᭯≀᭯Ⴧ⇸⊓़̞᭯ᘣ\\u07b9ᡱ⇸\\u07b9\\u137dᘣ\\u07b9़̞ᘣჇᡱ⇸ᡱ⊓\\u07b9⇸⊓\\u07b9З≀ᓕᡱᓕᘣ⁼ᷧ⇸ᰰЗᡱᯬ\\u137dࣃ़̞᭯ᡱᘣჇᣣ⇸ົჇ̞ᷧ≀⇸␐Ⴧဴᘣ\\x08⇸Ⴧ⇸\\u137dᰰ\\u07b9ո\\u07b9ᣣᘣ\\u07b9ᡱ⇸\\u137dᡱһᡱᣣᘣ\\u07b9ᡱ⇸\\u137dᓕ̞\\u137dࣃჇᡱ⇸़⇸ᄵ⁼\\u137d⁼ᷧ⇸ᷬ\\u07b9З̞ᷧ⇸ᰰЗᡱᯬ\\u137dࣃ़̞᭯≀᭯Ⴧ\\u137d\\x08⇸ᡱһქ⇸൨ᘣ⇸ქ␐ᡱ⇸ᘣ̞\\u137d̞᭯␐ᯬ̞᭯\\u137d≀⇸\\u0fe5ࣃჇһ⇸\\u137dᓕ̞\\u137dࣃჇᡱһ⇸ո\\u07b9⊓ᯬ̞⇸़ᯬЗქ⊓⇸≀़᭯≀᭯\\u137d≀⇸һ̞᭯ᡱᘣ\\x08ոჇᣣ⇸ڄ̞ᰰ\\x98᭯ᡱ\\u07b9ᘣ⇸\\u137d⇸\\u137d़\\u07b9Ⴧһ⇸\\u0aceᡱဴქᓕ̞\\u137dࣃᘣ⁼һ⇸\\u07b9⊓З̞ᘣჇᓕᡱᘣᘣ⁼һ⇸Ⴧ⇸\\u137dᓕ̞\\u137dࣃ᭯Ⴧ़⁼һ⇸\\u07b9ࣃ⇸ᘣᡱ\\u137dᓕ̞\\u137dࣃჇ≀⇸ᯬЗქ⊓Ⴧᷧ⇸़ဴ⊓᭯≀ᯬ\\u07b9һ⇸Ⴧ⇸ᘣ̞ᓕჇᘣ̞᭯Ⴧ\\u137d\\x08⇸\\u137d\\u07b9һᘣᡱᘣჇ≀⇸һქոჇ⇸Ⴧ⇸ࣃ\\u07b9᭯\\x08ո\\u07b9⇸ᘣᡱ\\u0ace\\u07b9⇸\\u07b9\\u0aceᡱᢕ̞᭯\\u07b9⇸ქ\\u137dᰰ\\u07b9ո\\u07b9ᡱᘣჇᡱ⇸᳐⇸ქࣃЗქ⇸़\\u137dᡱ⇸һᡱᓕࣃ̞ᘣჇ≀⇸\\u137dһᡱᒆ̞᭯Ⴧ\\u137d\\x08⇸Ⴧ⇸\\u137d᭯Ⴧ᭯Ⴧ\\u137d\\x08⇸़⇸̞ᷧ\\u07b9\\u137d⇸Ⴧ⇸һЗ̞ո⇸\\u0aceᡱ\\u137dᰰ̞һ≀ࣃ\\u137dࣃ़̞⇸Ⴧ⇸ဴ̞\\u0ace़ᡱᘣჇ≀⇸ո\\u07b9ࣃ\\u07b9З⁼ᡱ⇸⊓\\u07b9З̞ဴᯬ\\u07b9⇸़ᡱЗ\\u07b9≀ࣃᘣᡱᡱ⇸ᰰ\\u07b9⇸һᘣᡱᘣჇ\\u0b3b⇸\\u137d̞һ\\u07b9⊓\\u07b9⇸ᄵ̞ЗЗᡱ≀⇸ᯬ\\u07b9ոࣃ\\u07b9З̞⇸ڄ̞ᰰ\\u07b9᭯ᡱ\\u07b9ᘣ̞⇸ᯬ\\u07b9᭯␐ᘣ⁼⇸\\u0ace⁼᭯Ⴧ⇸З̞ဴЗᡱᒆჇࣃ\\x08\\u137d≀⇸\\u137dһᡱЗࣃ\\x08\\u0b3b⇸ᓕᡱһ⇸़⁼ဴᯬ\\u07b9З\\u07b9़᭯ᡱᘣჇᡱһ⇸\\u07b3⇸ؙߕф⇸ଞÆ⇸ߕଞਫ਼ؙф⇸Æؙњ᥌ؙଞī⇸ؙф⇸☵ἂṎἂؙଞī⇸\\u137dո̞ဴ̞᭯⇸ᄵ̞ЗЗᡱᣣ⇸ἂṎ⇸Æ⇸ؙÆ⇸њؙ\\u206fέ\\u0f48⁑⁑ؙњ\\u0f48⇸⁑\\u0f48ߕ⇸ᐂࣃ\\u07b9⇸ᓕᡱ᭯\\u07b9़ᡱո⇸ᘣᡱЗ़ᘣ⁼ᣣ⇸Ⴧ⇸␐ᡱ᭯ᓕᘣ⁼ᣣ⇸\\u07b9ᘣ⇸ᘣᡱ⇸़⁼ဴᯬ\\u07b9З\\u07b9़ᡱᡱࣃ⇸᳐ᘣ≀ဴ\\x08⇸ᵶᘣᯬЗᡱᣣ⇸़⇸ᓕჇ\\u137d᭯ᡱ⇸ᯬЗქ⊓Ⴧᷧ⇸\\u0aceᡱဴᘣ̞ᯬᡱ␐ᘣ⁼ᷧ⇸З̞ᘣᡱᘣ⁼ᷧ⇸\\u0ace⁼᭯⇸\\u137dᯬ̞ᘣ⇸ᘣ̞⇸ᰰ\\u07b9ᰰᡱᓕᡱᘣჇᡱ⇸␐Ⴧࣃᡱ᭯ᡱᣣ⇸'"
      ]
     },
     "execution_count": 51,
     "metadata": {},
     "output_type": "execute_result"
    }
   ],
   "source": [
    "encoded_test"
   ]
  },
  {
   "cell_type": "code",
   "execution_count": 52,
   "id": "floppy-grave",
   "metadata": {},
   "outputs": [],
   "source": [
    "def get_unigramm_mapping(encoded, train):\n",
    "    char_cnt = Counter(train)\n",
    "    encoded_cnt = Counter(encoded).most_common()\n",
    "    reverse_mapping = {}\n",
    "    for i, (char, _) in enumerate(char_cnt.most_common(len(encoded_cnt))):\n",
    "        reverse_mapping[encoded_cnt[i][0]] = char\n",
    "    return reverse_mapping"
   ]
  },
  {
   "cell_type": "code",
   "execution_count": 53,
   "id": "second-pasta",
   "metadata": {},
   "outputs": [],
   "source": [
    "def decode_string(string, mapping):\n",
    "    decoded = [mapping[char] for char in string]\n",
    "    return \"\".join(decoded)"
   ]
  },
  {
   "cell_type": "code",
   "execution_count": 54,
   "id": "cooperative-fitting",
   "metadata": {},
   "outputs": [],
   "source": [
    "reverse_mapping = get_unigramm_mapping(encoded_test, train)"
   ]
  },
  {
   "cell_type": "code",
   "execution_count": 55,
   "id": "aging-plaintiff",
   "metadata": {},
   "outputs": [],
   "source": [
    "def decoding_metric(y_true, y_pred):\n",
    "    return (np.array(list(y_true)) == np.array(list(y_pred))).mean()"
   ]
  },
  {
   "cell_type": "code",
   "execution_count": 56,
   "id": "second-facial",
   "metadata": {},
   "outputs": [
    {
     "data": {
      "text/plain": [
       "0.4729374671571203"
      ]
     },
     "execution_count": 56,
     "metadata": {},
     "output_type": "execute_result"
    }
   ],
   "source": [
    "decoding_metric(test, decode_string(encoded_test, reverse_mapping))"
   ]
  },
  {
   "cell_type": "code",
   "execution_count": 57,
   "id": "mental-version",
   "metadata": {},
   "outputs": [],
   "source": [
    "def get_bigrams(text):\n",
    "    return [text[i:i+2] for i in range(len(text) - 1)]"
   ]
  },
  {
   "cell_type": "code",
   "execution_count": 58,
   "id": "czech-sample",
   "metadata": {},
   "outputs": [],
   "source": [
    "encoded_bigram = Counter(get_bigrams(encoded_test))\n",
    "\n",
    "decoded_bigram = Counter(get_bigrams(train))"
   ]
  },
  {
   "cell_type": "code",
   "execution_count": 59,
   "id": "stretch-roller",
   "metadata": {},
   "outputs": [],
   "source": [
    "encoded_sorted = encoded_bigram.most_common()\n",
    "decoded_sorted = Counter(train).most_common()"
   ]
  },
  {
   "cell_type": "code",
   "execution_count": 60,
   "id": "reported-southwest",
   "metadata": {},
   "outputs": [],
   "source": [
    "reverse_mapping = {}\n",
    "used_decoded = set()\n",
    "for i in range(len(encoded_sorted)):\n",
    "    chars_encoded = encoded_sorted[i][0]\n",
    "    if chars_encoded[0] in reverse_mapping or chars_encoded[1] in reverse_mapping:\n",
    "        continue\n",
    "    decoded_chars = list(\n",
    "        filter(\n",
    "            lambda x: x[0][1] not in used_decoded and x[0][0] not in used_decoded, \n",
    "            decoded_bigram.most_common()\n",
    "        ), \n",
    "     )\n",
    "\n",
    "    decoded_chars = decoded_chars[0][0]\n",
    "    used_decoded.add(decoded_chars[0])\n",
    "    used_decoded.add(decoded_chars[1])\n",
    "    reverse_mapping[chars_encoded[0]] = decoded_chars[0]\n",
    "    reverse_mapping[chars_encoded[1]] = decoded_chars[1]"
   ]
  },
  {
   "cell_type": "code",
   "execution_count": 61,
   "id": "homeless-receipt",
   "metadata": {},
   "outputs": [
    {
     "data": {
      "text/plain": [
       "{'\\x98',\n",
       " 'Æ',\n",
       " 'Ϧ',\n",
       " 'ڄ',\n",
       " 'ڕ',\n",
       " '\\u07b3',\n",
       " 'ߕ',\n",
       " '़',\n",
       " 'ਫ਼',\n",
       " '\\u0b3b',\n",
       " '൨',\n",
       " '๙',\n",
       " 'ົ',\n",
       " '\\u0fe5',\n",
       " 'ნ',\n",
       " 'ᄤ',\n",
       " 'ᄵ',\n",
       " 'ᅻ',\n",
       " 'ᐂ',\n",
       " 'ᓕ',\n",
       " 'ᘟ',\n",
       " 'ᢕ',\n",
       " 'ᨙ',\n",
       " '᳐',\n",
       " 'ᵶ',\n",
       " 'ᷧ',\n",
       " 'ᷬ',\n",
       " '⊓',\n",
       " '␐',\n",
       " '☵'}"
      ]
     },
     "execution_count": 61,
     "metadata": {},
     "output_type": "execute_result"
    }
   ],
   "source": [
    "set(encoded_test) - set(reverse_mapping)"
   ]
  },
  {
   "cell_type": "code",
   "execution_count": 62,
   "id": "foreign-divorce",
   "metadata": {},
   "outputs": [
    {
     "data": {
      "text/plain": [
       "0.33683657383079346"
      ]
     },
     "execution_count": 62,
     "metadata": {},
     "output_type": "execute_result"
    }
   ],
   "source": [
    "decoding_metric(test, decode_string(encoded_test, reverse_mapping))"
   ]
  },
  {
   "cell_type": "code",
   "execution_count": null,
   "id": "union-calcium",
   "metadata": {},
   "outputs": [],
   "source": []
  },
  {
   "cell_type": "code",
   "execution_count": null,
   "id": "insured-worship",
   "metadata": {},
   "outputs": [],
   "source": []
  },
  {
   "cell_type": "code",
   "execution_count": null,
   "id": "awful-plastic",
   "metadata": {},
   "outputs": [],
   "source": []
  },
  {
   "cell_type": "code",
   "execution_count": null,
   "id": "superior-bikini",
   "metadata": {},
   "outputs": [],
   "source": []
  },
  {
   "cell_type": "code",
   "execution_count": null,
   "id": "maritime-south",
   "metadata": {},
   "outputs": [],
   "source": []
  },
  {
   "cell_type": "code",
   "execution_count": null,
   "id": "gentle-toronto",
   "metadata": {},
   "outputs": [],
   "source": []
  }
 ],
 "metadata": {
  "kernelspec": {
   "display_name": "Python 3",
   "language": "python",
   "name": "python3"
  },
  "language_info": {
   "codemirror_mode": {
    "name": "ipython",
    "version": 3
   },
   "file_extension": ".py",
   "mimetype": "text/x-python",
   "name": "python",
   "nbconvert_exporter": "python",
   "pygments_lexer": "ipython3",
   "version": "3.9.2"
  }
 },
 "nbformat": 4,
 "nbformat_minor": 5
}
