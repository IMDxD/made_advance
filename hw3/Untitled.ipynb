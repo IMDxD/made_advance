{
 "cells": [
  {
   "cell_type": "code",
   "execution_count": 1,
   "id": "weird-corner",
   "metadata": {},
   "outputs": [],
   "source": [
    "import re\n",
    "from collections import Counter, defaultdict\n",
    "\n",
    "import matplotlib.pyplot as plt\n",
    "import numpy as np\n",
    "import pandas as pd\n",
    "import seaborn as sns"
   ]
  },
  {
   "cell_type": "code",
   "execution_count": 2,
   "id": "constant-burden",
   "metadata": {},
   "outputs": [],
   "source": [
    "PUNKT_PATTERN = re.compile(r\"\\W+\")"
   ]
  },
  {
   "cell_type": "code",
   "execution_count": 3,
   "id": "powered-metabolism",
   "metadata": {},
   "outputs": [],
   "source": [
    "with open(\"data/WarAndPeace.txt\", \"r\", encoding=\"utf8\") as fio:\n",
    "    war_and_peace_ru = fio.read()"
   ]
  },
  {
   "cell_type": "code",
   "execution_count": 4,
   "id": "motivated-mills",
   "metadata": {},
   "outputs": [
    {
     "data": {
      "text/plain": [
       "'Annotation\\n\\n\\n\\t\"Война и мир\" – самый известный роман Льва Николаевича Толстого, как никакое другое произведение писателя, отражает глубину его мироощущения и философии.\\tЭта книга из разряда вечных, пот'"
      ]
     },
     "execution_count": 4,
     "metadata": {},
     "output_type": "execute_result"
    }
   ],
   "source": [
    "war_and_peace_ru[:200]"
   ]
  },
  {
   "cell_type": "code",
   "execution_count": 5,
   "id": "tracked-sapphire",
   "metadata": {},
   "outputs": [],
   "source": [
    "war_and_peace_ru = PUNKT_PATTERN.sub(\" \", war_and_peace_ru)"
   ]
  },
  {
   "cell_type": "code",
   "execution_count": 6,
   "id": "junior-comfort",
   "metadata": {},
   "outputs": [
    {
     "data": {
      "text/plain": [
       "678457"
      ]
     },
     "execution_count": 6,
     "metadata": {},
     "output_type": "execute_result"
    }
   ],
   "source": [
    "len(war_and_peace_ru)"
   ]
  },
  {
   "cell_type": "code",
   "execution_count": 7,
   "id": "touched-mailing",
   "metadata": {},
   "outputs": [],
   "source": [
    "train = war_and_peace_ru[:-1903]\n",
    "test = war_and_peace_ru[-1903:]"
   ]
  },
  {
   "cell_type": "code",
   "execution_count": 8,
   "id": "provincial-luxembourg",
   "metadata": {},
   "outputs": [
    {
     "data": {
      "text/plain": [
       "'Андрей не видал кто и как надел его опять но на груди его сверх мундира вдруг очутился образок на мелкой золотой цепочке Хорошо бы это было подумал князь Андрей взглянув на этот образок который с таким чувством и благоговением навесила на него сестра хорошо бы это было ежели бы всё было так ясно и просто как оно кажется княжне Марье Как хорошо бы было знать где искать помощи в этой жизни и чего ждать после нее там за гробом Как бы счастлив и спокоен я был ежели бы мог сказать теперь Господи помилуй меня Но кому я скажу это Или сила неопределенная непостижимая к которой я не только не могу обращаться но которой не могу выразить словами великое всё или ничего говорил он сам себе или это тот Бог который вот здесь зашит в этой ладонке княжной Марьей Ничего ничего нет верного кроме ничтожества всего того что мне понятно и величия чего то непонятного но важнейшего Носилки тронулись При каждом толчке он опять чувствовал невыносимую боль лихорадочное состояние усилилось и он начинал бредить Те мечтания об отце жене сестре и будущем сыне и нежность которую он испытывал в ночь накануне сражения фигура маленького ничтожного Наполеона и над всем этим высокое небо составляли главное основание его горячечных представлений Тихая жизнь и спокойное семейное счастие в Лысых Горах представлялись ему Он уже наслаждался этим счастием когда вдруг являлся маленький Напoлеон с своим безучастным ограниченным и счастливым от несчастия других взглядом и начинались сомнения муки и только небо обещало успокоение К утру все мечтания смешались и слились в хаос и мрак беспамятства и забвения которые гораздо вероятнее по мнению самого Ларрея доктора Наполеона должны были разрешиться смертью чем выздоровлением C est un sujet nerveux et bilieux сказал Ларрей il n en rechappera pas Это человек нервный и желчный он не выздоровеет Князь Андрей в числе других безнадежных раненых был сдан на попечение жителей '"
      ]
     },
     "execution_count": 8,
     "metadata": {},
     "output_type": "execute_result"
    }
   ],
   "source": [
    "test"
   ]
  },
  {
   "cell_type": "code",
   "execution_count": 9,
   "id": "lesser-highland",
   "metadata": {},
   "outputs": [],
   "source": [
    "def encode_text(text):\n",
    "    used = set()\n",
    "    mapping = {}\n",
    "    for char in text:\n",
    "        new_simbol = chr(np.random.randint(10000))\n",
    "        while new_simbol in used:\n",
    "            new_simbol = chr(np.random.randint(10000))\n",
    "        mapping[char] = new_simbol\n",
    "    encoded = [mapping[char] for char in text]\n",
    "    return \"\".join(encoded)"
   ]
  },
  {
   "cell_type": "code",
   "execution_count": 10,
   "id": "received-japan",
   "metadata": {},
   "outputs": [],
   "source": [
    "encoded_test = encode_text(test)"
   ]
  },
  {
   "cell_type": "code",
   "execution_count": 11,
   "id": "amended-western",
   "metadata": {},
   "outputs": [
    {
     "name": "stdout",
     "output_type": "stream",
     "text": [
      "⇢⚳⓹ׅᔘࣿ੎⚳ᔘ੎ीᬀ⓹Ⴒௗ੎ឞ๭᧛੎ᬀ੎ឞႲឞ੎⚳Ⴒ⓹ᔘௗ੎ᔘ᫲᧛੎᧛Ĵၳ๭ᚾ੎⚳᧛੎⚳Ⴒ੎᫲ׅᕊ⓹ᬀ੎ᔘ᫲᧛੎↮ीᔘׅڬ੎ᰪᕊ⚳⓹ᬀׅႲ੎ी⓹ׅᕊ᫲੎᧛ʢᕊ๭ᬀௗ↮ၳ੎᧛ಞׅႲ╌᧛ឞ੎⚳Ⴒ੎ᰪᔘௗឞ᧛ࣿ੎╌᧛ௗ᧛๭᧛ࣿ੎ႦᔘĴ᧛ʢឞᔘ੎ᢱ᧛ׅ᧛ܗ᧛੎ಞ∧੎ǆ๭᧛੎ಞ∧ௗ᧛੎Ĵ᧛⓹ᕊᰪႲௗ੎ឞ⚳ၳ╌ᚾ੎⇢⚳⓹ׅᔘࣿ੎ी╌᫲ௗၳ⚳ᕊी੎⚳Ⴒ੎ǆ๭᧛๭੎᧛ಞׅႲ╌᧛ឞ੎ឞ᧛๭᧛ׅ∧ࣿ੎↮੎๭Ⴒឞᬀᰪ੎ʢᕊी↮๭ी᧛ᰪ੎ᬀ੎ಞௗႲ᫲᧛᫲᧛ीᔘ⚳ᬀᔘᰪ੎⚳Ⴒीᔘ↮ᬀௗႲ੎⚳Ⴒ੎⚳ᔘ᫲᧛੎↮ᔘ↮๭ׅႲ੎ڬ᧛ׅ᧛ܗ᧛੎ಞ∧੎ǆ๭᧛੎ಞ∧ௗ᧛੎ᔘྣᔘௗᬀ੎ಞ∧੎ी↮њ੎ಞ∧ௗ᧛੎๭Ⴒឞ੎ၳ↮⚳᧛੎ᬀ੎Ĵׅ᧛↮๭᧛੎ឞႲឞ੎᧛⚳᧛੎ឞႲྣᔘ๭↮ၳ੎ឞ⚳ၳྣ⚳ᔘ੎᧓Ⴒׅᚾᔘ੎⊾Ⴒឞ੎ڬ᧛ׅ᧛ܗ᧛੎ಞ∧੎ಞ∧ௗ᧛੎╌⚳Ⴒ๭ᚾ੎᫲⓹ᔘ੎ᬀ↮ឞႲ๭ᚾ੎Ĵ᧛ᰪ᧛ẳᬀ੎ी੎ǆ๭᧛ࣿ੎ྣᬀ╌⚳ᬀ੎ᬀ੎ʢᔘ᫲᧛੎ྣ⓹Ⴒ๭ᚾ੎Ĵ᧛↮ௗᔘ੎⚳ᔘᔘ੎๭Ⴒᰪ੎╌Ⴒ੎᫲ׅ᧛ಞ᧛ᰪ੎⊾Ⴒឞ੎ಞ∧੎↮ʢႲ↮๭ௗᬀी੎ᬀ੎↮Ĵ᧛ឞ᧛ᔘ⚳੎ၳ੎ಞ∧ௗ੎ᔘྣᔘௗᬀ੎ಞ∧੎ᰪ᧛᫲੎↮ឞႲ╌Ⴒ๭ᚾ੎๭ᔘĴᔘׅᚾ੎✍᧛↮Ĵ᧛⓹ᬀ੎Ĵ᧛ᰪᬀௗᕊࣿ੎ᰪᔘ⚳ၳ੎ᔮ᧛੎ឞ᧛ᰪᕊ੎ၳ੎↮ឞႲྣᕊ੎ǆ๭᧛੎Ӗௗᬀ੎↮ᬀௗႲ੎⚳ᔘ᧛Ĵׅᔘ⓹ᔘௗᔘ⚳⚳Ⴒၳ੎⚳ᔘĴ᧛↮๭ᬀྣᬀᰪႲၳ੎ឞ੎ឞ᧛๭᧛ׅ᧛ࣿ੎ၳ੎⚳ᔘ੎๭᧛ௗᚾឞ᧛੎⚳ᔘ੎ᰪ᧛᫲ᕊ੎᧛ಞׅႲẳႲ๭ᚾ↮ၳ੎⚳᧛੎ឞ᧛๭᧛ׅ᧛ࣿ੎⚳ᔘ੎ᰪ᧛᫲ᕊ੎ी∧ׅႲ╌ᬀ๭ᚾ੎↮ௗ᧛ीႲᰪᬀ੎ीᔘௗᬀឞ᧛ᔘ੎ी↮њ੎ᬀௗᬀ੎⚳ᬀʢᔘ᫲᧛੎᫲᧛ी᧛ׅᬀௗ੎᧛⚳੎↮Ⴒᰪ੎↮ᔘಞᔘ੎ᬀௗᬀ੎ǆ๭᧛੎๭᧛๭੎ץ᧛᫲੎ឞ᧛๭᧛ׅ∧ࣿ੎ी᧛๭੎╌⓹ᔘ↮ᚾ੎╌Ⴒܗᬀ๭੎ी੎ǆ๭᧛ࣿ੎ௗႲ⓹᧛⚳ឞᔘ੎ឞ⚳ၳྣ⚳᧛ࣿ੎᧓Ⴒׅᚾᔘࣿ੎ᔮᬀʢᔘ᫲᧛੎⚳ᬀʢᔘ᫲᧛੎⚳ᔘ๭੎ीᔘׅ⚳᧛᫲᧛੎ឞׅ᧛ᰪᔘ੎⚳ᬀʢ๭᧛ྣᔘ↮๭ीႲ੎ी↮ᔘ᫲᧛੎๭᧛᫲᧛੎ʢ๭᧛੎ᰪ⚳ᔘ੎Ĵ᧛⚳ၳ๭⚳᧛੎ᬀ੎ीᔘௗᬀʢᬀၳ੎ʢᔘ᫲᧛੎๭᧛੎⚳ᔘĴ᧛⚳ၳ๭⚳᧛᫲᧛੎⚳᧛੎ीႲྣ⚳ᔘࣿܗᔘ᫲᧛੎ᔮ᧛↮ᬀௗឞᬀ੎๭ׅ᧛⚳ᕊௗᬀ↮ᚾ੎௃ׅᬀ੎ឞႲྣ⓹᧛ᰪ੎๭᧛ௗʢឞᔘ੎᧛⚳੎᧛Ĵၳ๭ᚾ੎ʢᕊी↮๭ी᧛ीႲௗ੎⚳ᔘी∧⚳᧛↮ᬀᰪᕊࡗ੎ಞ᧛ௗᚾ੎ௗᬀڬ᧛ׅႲ⓹᧛ʢ⚳᧛ᔘ੎↮᧛↮๭᧛ၳ⚳ᬀᔘ੎ᕊ↮ᬀௗᬀௗ᧛↮ᚾ੎ᬀ੎᧛⚳੎⚳Ⴒʢᬀ⚳Ⴒௗ੎ಞׅᔘ⓹ᬀ๭ᚾ੎ǜᔘ੎ᰪᔘʢ๭Ⴒ⚳ᬀၳ੎᧛ಞ੎᧛๭Ⴆᔘ੎ྣᔘ⚳ᔘ੎↮ᔘ↮๭ׅᔘ੎ᬀ੎ಞᕊ⓹ᕊẳᔘᰪ੎↮∧⚳ᔘ੎ᬀ੎⚳ᔘྣ⚳᧛↮๭ᚾ੎ឞ᧛๭᧛ׅᕊࡗ੎᧛⚳੎ᬀ↮Ĵ∧๭∧ीႲௗ੎ी੎⚳᧛ʢᚾ੎⚳ႲឞႲ⚳ᕊ⚳ᔘ੎↮ׅႲྣᔘ⚳ᬀၳ੎ᠭᬀ᫲ᕊׅႲ੎ᰪႲௗᔘ⚳ᚾឞ᧛᫲᧛੎⚳ᬀʢ๭᧛ྣ⚳᧛᫲᧛੎ᔮႲĴ᧛ௗᔘ᧛⚳Ⴒ੎ᬀ੎⚳Ⴒ⓹੎ी↮ᔘᰪ੎ǆ๭ᬀᰪ੎ी∧↮᧛ឞ᧛ᔘ੎⚳ᔘಞ᧛੎↮᧛↮๭Ⴒीௗၳௗᬀ੎᫲ௗႲी⚳᧛ᔘ੎᧛↮⚳᧛ीႲ⚳ᬀᔘ੎ᔘ᫲᧛੎᫲᧛ׅၳʢᔘʢ⚳∧ڬ੎Ĵׅᔘ⓹↮๭Ⴒीௗᔘ⚳ᬀࣿ੎ǜᬀڬႲၳ੎ྣᬀ╌⚳ᚾ੎ᬀ੎↮Ĵ᧛ឞ᧛ࣿ⚳᧛ᔘ੎↮ᔘᰪᔘࣿ⚳᧛ᔘ੎↮ʢႲ↮๭ᬀᔘ੎ी੎Δ∧↮∧ڬ੎✍᧛ׅႲڬ੎Ĵׅᔘ⓹↮๭Ⴒीௗၳௗᬀ↮ᚾ੎ᔘᰪᕊ੎₹⚳੎ᕊྣᔘ੎⚳Ⴒ↮ௗႲྣ⓹Ⴒௗ↮ၳ੎ǆ๭ᬀᰪ੎↮ʢႲ↮๭ᬀᔘᰪ੎ឞ᧛᫲⓹Ⴒ੎ी⓹ׅᕊ᫲੎ၳीௗၳௗ↮ၳ੎ᰪႲௗᔘ⚳ᚾឞᬀࣿ੎ᔮႲĴ༪ௗᔘ᧛⚳੎↮੎↮ी᧛ᬀᰪ੎ಞᔘ╌ᕊʢႲ↮๭⚳∧ᰪ੎᧛᫲ׅႲ⚳ᬀʢᔘ⚳⚳∧ᰪ੎ᬀ੎↮ʢႲ↮๭ௗᬀी∧ᰪ੎᧛๭੎⚳ᔘ↮ʢႲ↮๭ᬀၳ੎⓹ׅᕊ᫲ᬀڬ੎ी╌᫲ௗၳ⓹᧛ᰪ੎ᬀ੎⚳Ⴒʢᬀ⚳Ⴒௗᬀ↮ᚾ੎↮᧛ᰪ⚳ᔘ⚳ᬀၳ੎ᰪᕊឞᬀ੎ᬀ੎๭᧛ௗᚾឞ᧛੎⚳ᔘಞ᧛੎᧛ಞᔘẳႲௗ᧛੎ᕊ↮Ĵ᧛ឞ᧛ᔘ⚳ᬀᔘ੎⊾੎ᕊ๭ׅᕊ੎ी↮ᔘ੎ᰪᔘʢ๭Ⴒ⚳ᬀၳ੎↮ᰪᔘܗႲௗᬀ↮ᚾ੎ᬀ੎↮ௗᬀௗᬀ↮ᚾ੎ी੎ڬႲ᧛↮੎ᬀ੎ᰪׅႲឞ੎ಞᔘ↮ĴႲᰪၳ๭↮๭ीႲ੎ᬀ੎╌Ⴒಞीᔘ⚳ᬀၳ੎ឞ᧛๭᧛ׅ∧ᔘ੎᫲᧛ׅႲ╌⓹᧛੎ीᔘׅ᧛ၳ๭⚳ᔘᔘ੎Ĵ᧛੎ᰪ⚳ᔘ⚳ᬀࡗ੎↮Ⴒᰪ᧛᫲᧛੎ΔႲׅׅᔘၳ੎⓹᧛ឞ๭᧛ׅႲ੎ᔮႲĴ᧛ௗᔘ᧛⚳Ⴒ੎⓹᧛ௗྣ⚳∧੎ಞ∧ௗᬀ੎ׅႲ╌ׅᔘܗᬀ๭ᚾ↮ၳ੎↮ᰪᔘׅ๭ᚾࡗ੎ʢᔘᰪ੎ी∧╌⓹᧛ׅ᧛ीௗᔘ⚳ᬀᔘᰪ੎⇉੎ᝎ੎╃߹╃Ư࢏ᝎ੎߹࢏Ṏₘ࢏╃ᦘ੎࢏ᝎ੎ᜠᣦཙᣦ࢏╃ᦘ੎↮ឞႲ╌Ⴒௗ੎ΔႲׅׅᔘࣿ੎ᣦཙ੎߹੎࢏߹੎Ṏ࢏ᇏ᧙Ϡ☹☹࢏ṎϠ੎☹੎យ๭᧛੎ʢᔘௗ᧛ीᔘឞ੎⚳ᔘׅी⚳∧ࣿ੎ᬀ੎ྣᔘௗʢ⚳∧ࣿ੎᧛⚳੎⚳ᔘ੎ी∧╌⓹᧛ׅ᧛ीᔘᔘ๭੎⊾⚳ၳ╌ᚾ੎⇢⚳⓹ׅᔘࣿ੎ी੎ʢᬀ↮ௗᔘ੎⓹ׅᕊ᫲ᬀڬ੎ಞᔘ╌⚳Ⴒ⓹ᔘྣ⚳∧ڬ੎ׅႲ⚳ᔘ⚳∧ڬ੎ಞ∧ௗ੎↮⓹Ⴒ⚳੎⚳Ⴒ੎Ĵ᧛Ĵᔘʢᔘ⚳ᬀᔘ੎ྣᬀ๭ᔘௗᔘࣿ੎\n"
     ]
    }
   ],
   "source": [
    "print(encoded_test)"
   ]
  },
  {
   "cell_type": "code",
   "execution_count": 12,
   "id": "modern-advisory",
   "metadata": {},
   "outputs": [],
   "source": [
    "def get_unigramm_mapping(encoded, train):\n",
    "    char_cnt = Counter(train)\n",
    "    encoded_cnt = Counter(encoded).most_common()\n",
    "    reverse_mapping = {}\n",
    "    for i, (char, _) in enumerate(char_cnt.most_common(len(encoded_cnt))):\n",
    "        reverse_mapping[encoded_cnt[i][0]] = char\n",
    "    return reverse_mapping"
   ]
  },
  {
   "cell_type": "code",
   "execution_count": 13,
   "id": "ruled-amplifier",
   "metadata": {},
   "outputs": [],
   "source": [
    "def decode_string(string, mapping):\n",
    "    decoded = [mapping[char] for char in string]\n",
    "    return \"\".join(decoded)"
   ]
  },
  {
   "cell_type": "code",
   "execution_count": 14,
   "id": "spread-smith",
   "metadata": {},
   "outputs": [],
   "source": [
    "reverse_mapping = get_unigramm_mapping(encoded_test, train)"
   ]
  },
  {
   "cell_type": "code",
   "execution_count": 15,
   "id": "statistical-bhutan",
   "metadata": {},
   "outputs": [],
   "source": [
    "def decoding_metric(y_true, y_pred):\n",
    "    return (np.array(list(y_true)) == np.array(list(y_pred))).mean()"
   ]
  },
  {
   "cell_type": "code",
   "execution_count": 16,
   "id": "sophisticated-person",
   "metadata": {},
   "outputs": [],
   "source": [
    "decoded = decode_string(encoded_test, reverse_mapping)"
   ]
  },
  {
   "cell_type": "code",
   "execution_count": 17,
   "id": "spatial-romantic",
   "metadata": {},
   "outputs": [
    {
     "data": {
      "text/plain": [
       "'uепрач еа випнл ксо и кнк енпал амо обусь ео ен мрыпи амо тварш дыепирн впрым огысилту озрнйок ен далкоч йолосоч Вабогка dороюо зя хсо зяло бопыднл кеуйь uепрач вймлуеыв ен хсос озрнйок косоряч т снкид гывтсвод и злнмомоваеиад енватилн ен еамо татсрн шороюо зя хсо зяло ажали зя втА зяло снк утео и бротсо кнк оео кнжасту кеужеа Пнрьа nнк шороюо зя зяло йенсь мпа иткнсь бодоsи в хсоч жийеи и гамо жпнсь ботла еаа снд йн мрозод nнк зя тгнтслив и тбокоае у зял ажали зя дом ткнйнсь сабарь mотбопи бодилыч даеу цо коды у ткнжы хсо Бли тилн еаобрапалаеену еаботсижидну к косороч у еа солько еа домы озрнsнсьту ео косороч еа домы вярнйись тловнди валикоа втА или еигамо моворил ое тнд таза или хсо сос pом косоряч вос йпать йнюис в хсоч лнпоека кеужеоч Пнрьач цигамо еигамо еас вареомо крода еигсожатсвн втамо сомо гсо деа боеусео и валигиу гамо со еабоеусеомо ео внжеачюамо цотилки сроеылить Мри кнжпод солгка ое обусь гывтсвовнл еавяеотидыi золь лишорнпогеоа тотсоуеиа ытилилоть и ое енгиенл зрапись Ка дагснеиу оз осВа жаеа татсра и зыпыsад тяеа и еажеотсь косорыi ое итбясявнл в еогь енкнеыеа трнжаеиу Димырн днлаеькомо еигсожеомо цнболаоен и енп втад хсид вятокоа еазо тотснвлули млнвеоа отеовнеиа амо моругагеяш браптснвлаеич Кишну жийеь и тбокочеоа тадачеоа тгнтсиа в oятяш mорнш браптснвлулить ады vе ыжа ентлнжпнлту хсид тгнтсиад компн впрым увлулту днлаеькич цнбСлаое т твоид зайыгнтсеяд омрнеигаееяд и тгнтсливяд ос еатгнтсиу прымиш вймлупод и енгиенлить тодеаеиу дыки и солько еазо озаsнло ытбокоаеиа n ысры вта дагснеиу тдаюнлить и тлилить в шнот и дрнк затбндустсвн и йнзваеиу косоряа морнйпо вароусеаа бо деаеиi тндомо oнррау поксорн цнболаоен полжея зяли рнйраюисьту тдарсьi гад вяйпоровлаеиад Р etщ ra trТeщ aeэИerc eщ ёlОlerc ткнйнл oнррач lО a ea эehéфННeэф Нфt Ясо галовак еарвеяч и жалгеяч ое еа вяйпороваас nеуйь uепрач в гитла прымиш зайенпажеяш рнеаеяш зял тпне ен бобагаеиа жисалач '"
      ]
     },
     "execution_count": 17,
     "metadata": {},
     "output_type": "execute_result"
    }
   ],
   "source": [
    "decoded"
   ]
  },
  {
   "cell_type": "code",
   "execution_count": 18,
   "id": "instrumental-newark",
   "metadata": {},
   "outputs": [
    {
     "data": {
      "text/plain": [
       "0.4729374671571203"
      ]
     },
     "execution_count": 18,
     "metadata": {},
     "output_type": "execute_result"
    }
   ],
   "source": [
    "decoding_metric(test, decoded)"
   ]
  },
  {
   "cell_type": "code",
   "execution_count": null,
   "id": "structural-philosophy",
   "metadata": {},
   "outputs": [],
   "source": []
  },
  {
   "cell_type": "code",
   "execution_count": 19,
   "id": "individual-runner",
   "metadata": {},
   "outputs": [],
   "source": [
    "def get_bigrams(text):\n",
    "    return [text[i:i+2] for i in range(len(text) - 1)]"
   ]
  },
  {
   "cell_type": "code",
   "execution_count": 20,
   "id": "amber-grace",
   "metadata": {},
   "outputs": [],
   "source": [
    "def get_bigramm_mapping(encoded, train):\n",
    "    char_cnt = Counter(train).most_common()\n",
    "    encoded_cnt = Counter(encoded_test).most_common()\n",
    "    \n",
    "    encoded_bigrams = Counter(get_bigrams(encoded_test))\n",
    "    decoded_bigrams = Counter(get_bigrams(train))\n",
    "    \n",
    "    encoded_df = pd.DataFrame(encoded_bigrams.most_common(), columns=[\"bigram\", \"count\"])\n",
    "    decoded_df = pd.DataFrame(decoded_bigrams.most_common(), columns=[\"bigram\", \"count\"])\n",
    "    \n",
    "    encoded_df[\"left\"] = encoded_df[\"bigram\"].apply(lambda x: x[0])\n",
    "    encoded_df[\"right\"] = encoded_df[\"bigram\"].apply(lambda x: x[1])\n",
    "\n",
    "    decoded_df[\"left\"] = decoded_df[\"bigram\"].apply(lambda x: x[0])\n",
    "    decoded_df[\"right\"] = decoded_df[\"bigram\"].apply(lambda x: x[1])\n",
    "    \n",
    "    encoded_df[\"mapping_left\"] = None\n",
    "    encoded_df[\"mapping_right\"] = None\n",
    "    \n",
    "    encoded_df.loc[encoded_df[\"left\"] == encoded_cnt[0][0], \"mapping_left\"] = char_cnt[0][0]\n",
    "    encoded_df.loc[encoded_df[\"right\"] == encoded_cnt[0][0], \"mapping_right\"] = char_cnt[0][0]\n",
    "    \n",
    "    decoded_left_cnt = decoded_df[\"left\"].value_counts()\n",
    "    decoded_right_cnt = decoded_df[\"right\"].value_counts()\n",
    "\n",
    "\n",
    "    for i in range(encoded_df.shape[0]):\n",
    "        row = encoded_df.iloc[i]\n",
    "        if row.mapping_left is None and row.mapping_right is None:\n",
    "            continue\n",
    "        elif row.mapping_left and row.mapping_right:\n",
    "            continue\n",
    "        elif row.mapping_left:\n",
    "            symbol = row.right\n",
    "        else:\n",
    "            symbol = row.left\n",
    "\n",
    "        left_cnt = (encoded_df[\"left\"] == symbol).sum()\n",
    "        right_cnt = (encoded_df[\"right\"] == symbol).sum()\n",
    "\n",
    "        possible_symbols = set(decoded_left_cnt[decoded_left_cnt >= left_cnt].index)\n",
    "        possible_symbols.intersection_update(set(decoded_right_cnt[decoded_right_cnt >= right_cnt].index))\n",
    "\n",
    "        possible_symbols -= set(encoded_df[\"mapping_left\"])\n",
    "        possible_symbols -= set(encoded_df[\"mapping_right\"])\n",
    "\n",
    "        if row.mapping_left:\n",
    "            mapped = decoded_df.loc[decoded_df[\"right\"].isin(possible_symbols), \"right\"].iloc[0]\n",
    "        else:\n",
    "            mapped = decoded_df.loc[decoded_df[\"left\"].isin(possible_symbols), \"left\"].iloc[0]\n",
    "\n",
    "        encoded_df.loc[encoded_df[\"left\"] == symbol, \"mapping_left\"] = mapped\n",
    "        encoded_df.loc[encoded_df[\"right\"] == symbol, \"mapping_right\"] = mapped\n",
    "        \n",
    "    reverse_mapping = dict(zip(encoded_df[\"left\"], encoded_df[\"mapping_left\"]))\n",
    "    reverse_mapping.update(zip(encoded_df[\"right\"], encoded_df[\"mapping_right\"]))\n",
    "    return reverse_mapping"
   ]
  },
  {
   "cell_type": "code",
   "execution_count": 21,
   "id": "wound-darkness",
   "metadata": {},
   "outputs": [],
   "source": [
    "reverse_mapping = get_bigramm_mapping(encoded_test, train)"
   ]
  },
  {
   "cell_type": "code",
   "execution_count": 22,
   "id": "activated-accounting",
   "metadata": {},
   "outputs": [],
   "source": [
    "decoded = decode_string(encoded_test, reverse_mapping)"
   ]
  },
  {
   "cell_type": "code",
   "execution_count": 23,
   "id": "spiritual-pension",
   "metadata": {},
   "outputs": [
    {
     "data": {
      "text/plain": [
       "'eсздин си вазлр бео а блб слзир ито ойьея со сл тдшза ито пвиды гшсзадл вздшт оушеарпь окдлэоб сл гирбон эороеон tийоуби ДодоАо км чео кмро йозшглр бсьэя eсздин вэтрьсшв сл чеое окдлэоб боеодмн п елбаг ушвпевог а крлтотовисаиг слвипарл сл сито пипедл ыодоАо км чео кмро ижира км впП кмро елб ьпсо а йдопео блб осо блжиепь бсьжси Клдяи Влб ыодоАо км кмро эслея тзи апблея йогоoа в чеон жаэса а уито жзлея йопри сии елг эл тдоког Влб км пулперав а пйобоис ь кмр ижира км гот пблэлея еийидя Оопйоза йогаршн гись Но богш ь пблжш чео pра парл сиойдизириссль сийопеажагль б боеодон ь си еорябо си готш окдлoлеяпь со боеодон си готш вмдлэаея провлга вирабои впП ара сауито товодар ос плг пики ара чео еое nот боеодмн вое эзипя элАае в чеон рлзосби бсьжсон Клдяин Науито сауито сие видсото бдоги сауеожипевл впито еото уео гси йосьесо а вирауаь уито ео сийосьесото со влжсинАито Нопарба едосшрапя cда блжзог еоруби ос ойьея ушвпевовлр сивмсопагшю коря раыодлзоусои попеоьсаи шпараропя а ос слуаслр кдизаея Би гиуелсаь ок оеtи жиси пипеди а кшзшoиг пмси а сижсопея боеодшю ос апймемвлр в соуя слблсшси пдлжисаь lатшдл глрисябото сауеожсото Нлйориосл а слз впиг чеаг вмпобои сико попелврьра трлвсои опсовлсаи ито тодьуиусмы йдизпелврисан Баыль жаэся а пйобонсои пигинсои пулпеаи в хмпмы Оодлы йдизпелврьрапя игш Сс шжи слпрлжзлрпь чеаг пулпеаиг ботзл вздшт ьврьрпь глрисябан НлйРриос п пвоаг киэшулпесмг отдлсауиссмг а пулперавмг ое сипулпеаь здштаы вэтрьзог а слуаслрапя погсисаь гшба а еорябо сико окиoлро шпйобоисаи В шедш впи гиуелсаь пгиАлрапя а прарапя в ылоп а гдлб кипйлгьепевл а элквисаь боеодми тодлэзо видоьесии йо гсисаю плгото хлддиь зобеодл Нлйориосл зоржсм кмра длэдиАаеяпь пгидеяю уиг вмэзодоврисаиг m цфs dщ фdТцs щцuИцdМ цs ёaraцdМ пблэлр хлддин ar щ цщ uцiЯvhhцuv hvф Гео уировиб сидвсмн а жирусмн ос си вмэзодовиие Всьэя eсздин в уапри здштаы киэслзижсмы длсисмы кмр пзлс сл йойиуисаи жаеирин '"
      ]
     },
     "execution_count": 23,
     "metadata": {},
     "output_type": "execute_result"
    }
   ],
   "source": [
    "decoded"
   ]
  },
  {
   "cell_type": "code",
   "execution_count": 24,
   "id": "alert-heart",
   "metadata": {},
   "outputs": [
    {
     "data": {
      "text/plain": [
       "0.30740935365212824"
      ]
     },
     "execution_count": 24,
     "metadata": {},
     "output_type": "execute_result"
    }
   ],
   "source": [
    "decoding_metric(test, decoded)"
   ]
  },
  {
   "cell_type": "code",
   "execution_count": null,
   "id": "recovered-pharmacy",
   "metadata": {},
   "outputs": [],
   "source": []
  },
  {
   "cell_type": "code",
   "execution_count": null,
   "id": "loaded-california",
   "metadata": {},
   "outputs": [],
   "source": []
  },
  {
   "cell_type": "code",
   "execution_count": null,
   "id": "adaptive-store",
   "metadata": {},
   "outputs": [],
   "source": []
  },
  {
   "cell_type": "code",
   "execution_count": null,
   "id": "exceptional-commodity",
   "metadata": {},
   "outputs": [],
   "source": []
  },
  {
   "cell_type": "code",
   "execution_count": null,
   "id": "written-factory",
   "metadata": {},
   "outputs": [],
   "source": []
  },
  {
   "cell_type": "code",
   "execution_count": null,
   "id": "portable-silver",
   "metadata": {},
   "outputs": [],
   "source": []
  },
  {
   "cell_type": "code",
   "execution_count": null,
   "id": "requested-validation",
   "metadata": {},
   "outputs": [],
   "source": []
  },
  {
   "cell_type": "code",
   "execution_count": null,
   "id": "advisory-stream",
   "metadata": {},
   "outputs": [],
   "source": []
  }
 ],
 "metadata": {
  "kernelspec": {
   "display_name": "Python 3",
   "language": "python",
   "name": "python3"
  },
  "language_info": {
   "codemirror_mode": {
    "name": "ipython",
    "version": 3
   },
   "file_extension": ".py",
   "mimetype": "text/x-python",
   "name": "python",
   "nbconvert_exporter": "python",
   "pygments_lexer": "ipython3",
   "version": "3.9.2"
  }
 },
 "nbformat": 4,
 "nbformat_minor": 5
}
